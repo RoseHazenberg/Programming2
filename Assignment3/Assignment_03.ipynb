{
 "cells": [
  {
   "cell_type": "markdown",
   "metadata": {},
   "source": [
    "## Assignment 03: Sleeping habits\n",
    "\n",
    "As a data scientist you will work with ordinal or categorical data as well. What are good methods to visualize such data? What are proper statistics to use? What needs to be done in the data preparation steps to conduct certain analysis. During this week we will work with data from a sleeping study. This dataset is not mandatory. You are encouraged to use data from your project when possible. It is also able to use an interesting source from the internet, as long as no notebooks are copied withouth reference. \n",
    "\n",
    "Keywords: statistics, categorical data, ordinal data, survey-based study of the sleeping, exploratory data analysis, normalization, hypothesis testing, p-value\n",
    "\n",
    "\n",
    "More to read:\n",
    "- https://fennaf.gitbook.io/bfvm22prog1/\n",
    "\n",
    "https://machinelearningmastery.com/statistical-hypothesis-tests-in-python-cheat-sheet/\n",
    "There are a number of cheatsheets and tutorials on the internet. The next overview is a compact overview of tutorials\n",
    "- https://www.kaggle.com/hamelg/python-for-data-21-descriptive-statistics\n",
    "- https://www.kaggle.com/hamelg/python-for-data-22-probability-distributions\n",
    "- https://www.kaggle.com/hamelg/python-for-data-23-confidence-intervals\n",
    "- https://www.kaggle.com/hamelg/python-for-data-24-hypothesis-testing\n",
    "- https://www.kaggle.com/hamelg/python-for-data-25-chi-squared-tests\n",
    "- https://www.kaggle.com/hamelg/python-for-data-26-anova/notebook\n",
    "- https://www.kaggle.com/hamelg/python-for-data-27-linear-regression\n",
    "\n",
    "\n",
    "You will learn about analysing data with pandas and numpy and you will learn to visualize with bokeh. Concretely, you will preprocess the Sleep Study data in an appropiate format in order to conduct statistical and visual analysis. \n",
    "\n",
    "Learning objectives\n",
    "- Conduct exploratory data analysis for categarical data\n",
    "- Provide statistical evidence of factor effect\n",
    "- Maintain development environment \n",
    "- Apply coding standards and FAIR principles\n",
    "\n",
    "Please add topics you want to learn here: <padlet>\n",
    "\n",
    "\n",
    "## About the data\n",
    "\n",
    "The data is collected from a survey-based study of the sleeping habits of individuals within the US. \n",
    "\n",
    "Below is a description of each of the variables contained within the dataset.\n",
    "\n",
    "- Enough = Do you think that you get enough sleep?\n",
    "- Hours = On average, how many hours of sleep do you get on a weeknight?\n",
    "- PhoneReach = Do you sleep with your phone within arms reach?\n",
    "- PhoneTime = Do you use your phone within 30 minutes of falling asleep?\n",
    "- Tired = On a scale from 1 to 5, how tired are you throughout the day? (1 being not tired, 5 being very tired)\n",
    "- Breakfast = Do you typically eat breakfast?\n",
    "\n",
    "The two research questions you should answer in this assignment are:\n",
    "1. Is there a differences in Hours sleep caused by having breakfast (yes, no)?\n",
    "2. Is there a differences in Hours sleep caused by having breakfast and the tireness (score)\n",
    "\n",
    "\n",
    "The assignment consists of 6 parts:\n",
    "\n",
    "- [part 1: load the data](#0)\n",
    "- [part 2: data inspection](#1)\n",
    "- [part 3: check assumptions](#2)\n",
    "   - [check normality 3.1](#ex-31)\n",
    "   - [check equal variance 3.2](#ex-32)\n",
    "- [part 4: prepare the data](#3)\n",
    "- [part 5: answer the research question](#4)\n",
    "- [part 6: enhanced plotting](#5)\n",
    "\n",
    "Part 1 till 5 are mandatory, part 6 is optional (bonus)\n",
    "Mind you that you cannot copy code without referencing the code. If you copy code you need to be able to explain your code verbally and you will not get the full score. \n",
    "\n",
    "\n",
    "**NOTE If your project data is suitable you can use that data instead of the given data**"
   ]
  },
  {
   "cell_type": "markdown",
   "metadata": {},
   "source": [
    "## ANOVA\n",
    "\n",
    "Analysis of variance (ANOVA) compares the variances between groups versus within groups. It basically determines whether the differences between groups is larger than the differences within a group (the noise). \n",
    "A graph picturing this is as follow: https://link.springer.com/article/10.1007/s00424-019-02300-4/figures/2\n",
    "\n",
    "\n",
    "In ANOVA, the dependent variable must be a continuous (interval or ratio) level of measurement. For instance Glucose level. The independent variables in ANOVA must be categorical (nominal or ordinal) variables. For instance trial category, time of day (AM versus PM) or time of trial (different categories). Like the t-test, ANOVA is also a parametric test and has some assumptions. ANOVA assumes that the data is normally distributed.  The ANOVA also assumes homogeneity of variance, which means that the variance among the groups should be approximately equal. ANOVA also assumes that the observations are independent of each other. \n",
    "\n",
    "A one-way ANOVA has just one independent variable. A two-way ANOVA (are also called factorial ANOVA) refers to an ANOVA using two independent variables. For research question 1 we can use the one-way ANOVA, for research question two we can use two-way ANOVA. But first we need to check the assumptions. \n",
    "\n",
    "If your data is not normally distributed you might want to look for an alternative. See also https://www.statisticshowto.com/probability-and-statistics/statistics-definitions/parametric-and-non-parametric-data/\n"
   ]
  },
  {
   "cell_type": "markdown",
   "metadata": {},
   "source": [
    "---"
   ]
  },
  {
   "cell_type": "markdown",
   "metadata": {},
   "source": [
    "<a name='0'></a>\n",
    "## Part 1: Load the data (10 pt)\n",
    "\n",
    "load the `sleep.csv` data. \n",
    "Preferably we read the data not with a hard coded data path but using a config file. See https://fennaf.gitbook.io/bfvm22prog1/data-processing/configuration-files/yaml. Get yourself familiar with the data. Answer the following questions.\n",
    "\n",
    "1. What is the percentage missing data?\n",
    "2. Considering the research question, what is the dependent variable and what are the indepent variables? Are they of the correct datatype? "
   ]
  },
  {
   "cell_type": "code",
   "execution_count": 1,
   "metadata": {},
   "outputs": [
    {
     "data": {
      "text/html": [
       "\n",
       "    <div class=\"bk-root\">\n",
       "        <a href=\"https://bokeh.org\" target=\"_blank\" class=\"bk-logo bk-logo-small bk-logo-notebook\"></a>\n",
       "        <span id=\"1002\">Loading BokehJS ...</span>\n",
       "    </div>"
      ]
     },
     "metadata": {},
     "output_type": "display_data"
    },
    {
     "data": {
      "application/javascript": [
       "\n",
       "(function(root) {\n",
       "  function now() {\n",
       "    return new Date();\n",
       "  }\n",
       "\n",
       "  const force = true;\n",
       "\n",
       "  if (typeof root._bokeh_onload_callbacks === \"undefined\" || force === true) {\n",
       "    root._bokeh_onload_callbacks = [];\n",
       "    root._bokeh_is_loading = undefined;\n",
       "  }\n",
       "\n",
       "  const JS_MIME_TYPE = 'application/javascript';\n",
       "  const HTML_MIME_TYPE = 'text/html';\n",
       "  const EXEC_MIME_TYPE = 'application/vnd.bokehjs_exec.v0+json';\n",
       "  const CLASS_NAME = 'output_bokeh rendered_html';\n",
       "\n",
       "  /**\n",
       "   * Render data to the DOM node\n",
       "   */\n",
       "  function render(props, node) {\n",
       "    const script = document.createElement(\"script\");\n",
       "    node.appendChild(script);\n",
       "  }\n",
       "\n",
       "  /**\n",
       "   * Handle when an output is cleared or removed\n",
       "   */\n",
       "  function handleClearOutput(event, handle) {\n",
       "    const cell = handle.cell;\n",
       "\n",
       "    const id = cell.output_area._bokeh_element_id;\n",
       "    const server_id = cell.output_area._bokeh_server_id;\n",
       "    // Clean up Bokeh references\n",
       "    if (id != null && id in Bokeh.index) {\n",
       "      Bokeh.index[id].model.document.clear();\n",
       "      delete Bokeh.index[id];\n",
       "    }\n",
       "\n",
       "    if (server_id !== undefined) {\n",
       "      // Clean up Bokeh references\n",
       "      const cmd_clean = \"from bokeh.io.state import curstate; print(curstate().uuid_to_server['\" + server_id + \"'].get_sessions()[0].document.roots[0]._id)\";\n",
       "      cell.notebook.kernel.execute(cmd_clean, {\n",
       "        iopub: {\n",
       "          output: function(msg) {\n",
       "            const id = msg.content.text.trim();\n",
       "            if (id in Bokeh.index) {\n",
       "              Bokeh.index[id].model.document.clear();\n",
       "              delete Bokeh.index[id];\n",
       "            }\n",
       "          }\n",
       "        }\n",
       "      });\n",
       "      // Destroy server and session\n",
       "      const cmd_destroy = \"import bokeh.io.notebook as ion; ion.destroy_server('\" + server_id + \"')\";\n",
       "      cell.notebook.kernel.execute(cmd_destroy);\n",
       "    }\n",
       "  }\n",
       "\n",
       "  /**\n",
       "   * Handle when a new output is added\n",
       "   */\n",
       "  function handleAddOutput(event, handle) {\n",
       "    const output_area = handle.output_area;\n",
       "    const output = handle.output;\n",
       "\n",
       "    // limit handleAddOutput to display_data with EXEC_MIME_TYPE content only\n",
       "    if ((output.output_type != \"display_data\") || (!Object.prototype.hasOwnProperty.call(output.data, EXEC_MIME_TYPE))) {\n",
       "      return\n",
       "    }\n",
       "\n",
       "    const toinsert = output_area.element.find(\".\" + CLASS_NAME.split(' ')[0]);\n",
       "\n",
       "    if (output.metadata[EXEC_MIME_TYPE][\"id\"] !== undefined) {\n",
       "      toinsert[toinsert.length - 1].firstChild.textContent = output.data[JS_MIME_TYPE];\n",
       "      // store reference to embed id on output_area\n",
       "      output_area._bokeh_element_id = output.metadata[EXEC_MIME_TYPE][\"id\"];\n",
       "    }\n",
       "    if (output.metadata[EXEC_MIME_TYPE][\"server_id\"] !== undefined) {\n",
       "      const bk_div = document.createElement(\"div\");\n",
       "      bk_div.innerHTML = output.data[HTML_MIME_TYPE];\n",
       "      const script_attrs = bk_div.children[0].attributes;\n",
       "      for (let i = 0; i < script_attrs.length; i++) {\n",
       "        toinsert[toinsert.length - 1].firstChild.setAttribute(script_attrs[i].name, script_attrs[i].value);\n",
       "        toinsert[toinsert.length - 1].firstChild.textContent = bk_div.children[0].textContent\n",
       "      }\n",
       "      // store reference to server id on output_area\n",
       "      output_area._bokeh_server_id = output.metadata[EXEC_MIME_TYPE][\"server_id\"];\n",
       "    }\n",
       "  }\n",
       "\n",
       "  function register_renderer(events, OutputArea) {\n",
       "\n",
       "    function append_mime(data, metadata, element) {\n",
       "      // create a DOM node to render to\n",
       "      const toinsert = this.create_output_subarea(\n",
       "        metadata,\n",
       "        CLASS_NAME,\n",
       "        EXEC_MIME_TYPE\n",
       "      );\n",
       "      this.keyboard_manager.register_events(toinsert);\n",
       "      // Render to node\n",
       "      const props = {data: data, metadata: metadata[EXEC_MIME_TYPE]};\n",
       "      render(props, toinsert[toinsert.length - 1]);\n",
       "      element.append(toinsert);\n",
       "      return toinsert\n",
       "    }\n",
       "\n",
       "    /* Handle when an output is cleared or removed */\n",
       "    events.on('clear_output.CodeCell', handleClearOutput);\n",
       "    events.on('delete.Cell', handleClearOutput);\n",
       "\n",
       "    /* Handle when a new output is added */\n",
       "    events.on('output_added.OutputArea', handleAddOutput);\n",
       "\n",
       "    /**\n",
       "     * Register the mime type and append_mime function with output_area\n",
       "     */\n",
       "    OutputArea.prototype.register_mime_type(EXEC_MIME_TYPE, append_mime, {\n",
       "      /* Is output safe? */\n",
       "      safe: true,\n",
       "      /* Index of renderer in `output_area.display_order` */\n",
       "      index: 0\n",
       "    });\n",
       "  }\n",
       "\n",
       "  // register the mime type if in Jupyter Notebook environment and previously unregistered\n",
       "  if (root.Jupyter !== undefined) {\n",
       "    const events = require('base/js/events');\n",
       "    const OutputArea = require('notebook/js/outputarea').OutputArea;\n",
       "\n",
       "    if (OutputArea.prototype.mime_types().indexOf(EXEC_MIME_TYPE) == -1) {\n",
       "      register_renderer(events, OutputArea);\n",
       "    }\n",
       "  }\n",
       "\n",
       "  \n",
       "  if (typeof (root._bokeh_timeout) === \"undefined\" || force === true) {\n",
       "    root._bokeh_timeout = Date.now() + 5000;\n",
       "    root._bokeh_failed_load = false;\n",
       "  }\n",
       "\n",
       "  const NB_LOAD_WARNING = {'data': {'text/html':\n",
       "     \"<div style='background-color: #fdd'>\\n\"+\n",
       "     \"<p>\\n\"+\n",
       "     \"BokehJS does not appear to have successfully loaded. If loading BokehJS from CDN, this \\n\"+\n",
       "     \"may be due to a slow or bad network connection. Possible fixes:\\n\"+\n",
       "     \"</p>\\n\"+\n",
       "     \"<ul>\\n\"+\n",
       "     \"<li>re-rerun `output_notebook()` to attempt to load from CDN again, or</li>\\n\"+\n",
       "     \"<li>use INLINE resources instead, as so:</li>\\n\"+\n",
       "     \"</ul>\\n\"+\n",
       "     \"<code>\\n\"+\n",
       "     \"from bokeh.resources import INLINE\\n\"+\n",
       "     \"output_notebook(resources=INLINE)\\n\"+\n",
       "     \"</code>\\n\"+\n",
       "     \"</div>\"}};\n",
       "\n",
       "  function display_loaded() {\n",
       "    const el = document.getElementById(\"1002\");\n",
       "    if (el != null) {\n",
       "      el.textContent = \"BokehJS is loading...\";\n",
       "    }\n",
       "    if (root.Bokeh !== undefined) {\n",
       "      if (el != null) {\n",
       "        el.textContent = \"BokehJS \" + root.Bokeh.version + \" successfully loaded.\";\n",
       "      }\n",
       "    } else if (Date.now() < root._bokeh_timeout) {\n",
       "      setTimeout(display_loaded, 100)\n",
       "    }\n",
       "  }\n",
       "\n",
       "\n",
       "  function run_callbacks() {\n",
       "    try {\n",
       "      root._bokeh_onload_callbacks.forEach(function(callback) {\n",
       "        if (callback != null)\n",
       "          callback();\n",
       "      });\n",
       "    } finally {\n",
       "      delete root._bokeh_onload_callbacks\n",
       "    }\n",
       "    console.debug(\"Bokeh: all callbacks have finished\");\n",
       "  }\n",
       "\n",
       "  function load_libs(css_urls, js_urls, callback) {\n",
       "    if (css_urls == null) css_urls = [];\n",
       "    if (js_urls == null) js_urls = [];\n",
       "\n",
       "    root._bokeh_onload_callbacks.push(callback);\n",
       "    if (root._bokeh_is_loading > 0) {\n",
       "      console.debug(\"Bokeh: BokehJS is being loaded, scheduling callback at\", now());\n",
       "      return null;\n",
       "    }\n",
       "    if (js_urls == null || js_urls.length === 0) {\n",
       "      run_callbacks();\n",
       "      return null;\n",
       "    }\n",
       "    console.debug(\"Bokeh: BokehJS not loaded, scheduling load and callback at\", now());\n",
       "    root._bokeh_is_loading = css_urls.length + js_urls.length;\n",
       "\n",
       "    function on_load() {\n",
       "      root._bokeh_is_loading--;\n",
       "      if (root._bokeh_is_loading === 0) {\n",
       "        console.debug(\"Bokeh: all BokehJS libraries/stylesheets loaded\");\n",
       "        run_callbacks()\n",
       "      }\n",
       "    }\n",
       "\n",
       "    function on_error(url) {\n",
       "      console.error(\"failed to load \" + url);\n",
       "    }\n",
       "\n",
       "    for (let i = 0; i < css_urls.length; i++) {\n",
       "      const url = css_urls[i];\n",
       "      const element = document.createElement(\"link\");\n",
       "      element.onload = on_load;\n",
       "      element.onerror = on_error.bind(null, url);\n",
       "      element.rel = \"stylesheet\";\n",
       "      element.type = \"text/css\";\n",
       "      element.href = url;\n",
       "      console.debug(\"Bokeh: injecting link tag for BokehJS stylesheet: \", url);\n",
       "      document.body.appendChild(element);\n",
       "    }\n",
       "\n",
       "    for (let i = 0; i < js_urls.length; i++) {\n",
       "      const url = js_urls[i];\n",
       "      const element = document.createElement('script');\n",
       "      element.onload = on_load;\n",
       "      element.onerror = on_error.bind(null, url);\n",
       "      element.async = false;\n",
       "      element.src = url;\n",
       "      console.debug(\"Bokeh: injecting script tag for BokehJS library: \", url);\n",
       "      document.head.appendChild(element);\n",
       "    }\n",
       "  };\n",
       "\n",
       "  function inject_raw_css(css) {\n",
       "    const element = document.createElement(\"style\");\n",
       "    element.appendChild(document.createTextNode(css));\n",
       "    document.body.appendChild(element);\n",
       "  }\n",
       "\n",
       "  \n",
       "  const js_urls = [\"https://cdn.bokeh.org/bokeh/release/bokeh-2.4.2.min.js\", \"https://cdn.bokeh.org/bokeh/release/bokeh-gl-2.4.2.min.js\", \"https://cdn.bokeh.org/bokeh/release/bokeh-widgets-2.4.2.min.js\", \"https://cdn.bokeh.org/bokeh/release/bokeh-tables-2.4.2.min.js\", \"https://cdn.bokeh.org/bokeh/release/bokeh-mathjax-2.4.2.min.js\", \"https://unpkg.com/@holoviz/panel@0.13.0/dist/panel.min.js\"];\n",
       "  const css_urls = [];\n",
       "  \n",
       "\n",
       "  const inline_js = [\n",
       "    function(Bokeh) {\n",
       "      Bokeh.set_log_level(\"info\");\n",
       "    },\n",
       "    function(Bokeh) {\n",
       "    \n",
       "    \n",
       "    }\n",
       "  ];\n",
       "\n",
       "  function run_inline_js() {\n",
       "    \n",
       "    if (root.Bokeh !== undefined || force === true) {\n",
       "      \n",
       "    for (let i = 0; i < inline_js.length; i++) {\n",
       "      inline_js[i].call(root, root.Bokeh);\n",
       "    }\n",
       "    if (force === true) {\n",
       "        display_loaded();\n",
       "      }} else if (Date.now() < root._bokeh_timeout) {\n",
       "      setTimeout(run_inline_js, 100);\n",
       "    } else if (!root._bokeh_failed_load) {\n",
       "      console.log(\"Bokeh: BokehJS failed to load within specified timeout.\");\n",
       "      root._bokeh_failed_load = true;\n",
       "    } else if (force !== true) {\n",
       "      const cell = $(document.getElementById(\"1002\")).parents('.cell').data().cell;\n",
       "      cell.output_area.append_execute_result(NB_LOAD_WARNING)\n",
       "    }\n",
       "\n",
       "  }\n",
       "\n",
       "  if (root._bokeh_is_loading === 0) {\n",
       "    console.debug(\"Bokeh: BokehJS loaded, going straight to plotting\");\n",
       "    run_inline_js();\n",
       "  } else {\n",
       "    load_libs(css_urls, js_urls, function() {\n",
       "      console.debug(\"Bokeh: BokehJS plotting callback run at\", now());\n",
       "      run_inline_js();\n",
       "    });\n",
       "  }\n",
       "}(window));"
      ],
      "application/vnd.bokehjs_load.v0+json": "\n(function(root) {\n  function now() {\n    return new Date();\n  }\n\n  const force = true;\n\n  if (typeof root._bokeh_onload_callbacks === \"undefined\" || force === true) {\n    root._bokeh_onload_callbacks = [];\n    root._bokeh_is_loading = undefined;\n  }\n\n  \n\n  \n  if (typeof (root._bokeh_timeout) === \"undefined\" || force === true) {\n    root._bokeh_timeout = Date.now() + 5000;\n    root._bokeh_failed_load = false;\n  }\n\n  const NB_LOAD_WARNING = {'data': {'text/html':\n     \"<div style='background-color: #fdd'>\\n\"+\n     \"<p>\\n\"+\n     \"BokehJS does not appear to have successfully loaded. If loading BokehJS from CDN, this \\n\"+\n     \"may be due to a slow or bad network connection. Possible fixes:\\n\"+\n     \"</p>\\n\"+\n     \"<ul>\\n\"+\n     \"<li>re-rerun `output_notebook()` to attempt to load from CDN again, or</li>\\n\"+\n     \"<li>use INLINE resources instead, as so:</li>\\n\"+\n     \"</ul>\\n\"+\n     \"<code>\\n\"+\n     \"from bokeh.resources import INLINE\\n\"+\n     \"output_notebook(resources=INLINE)\\n\"+\n     \"</code>\\n\"+\n     \"</div>\"}};\n\n  function display_loaded() {\n    const el = document.getElementById(\"1002\");\n    if (el != null) {\n      el.textContent = \"BokehJS is loading...\";\n    }\n    if (root.Bokeh !== undefined) {\n      if (el != null) {\n        el.textContent = \"BokehJS \" + root.Bokeh.version + \" successfully loaded.\";\n      }\n    } else if (Date.now() < root._bokeh_timeout) {\n      setTimeout(display_loaded, 100)\n    }\n  }\n\n\n  function run_callbacks() {\n    try {\n      root._bokeh_onload_callbacks.forEach(function(callback) {\n        if (callback != null)\n          callback();\n      });\n    } finally {\n      delete root._bokeh_onload_callbacks\n    }\n    console.debug(\"Bokeh: all callbacks have finished\");\n  }\n\n  function load_libs(css_urls, js_urls, callback) {\n    if (css_urls == null) css_urls = [];\n    if (js_urls == null) js_urls = [];\n\n    root._bokeh_onload_callbacks.push(callback);\n    if (root._bokeh_is_loading > 0) {\n      console.debug(\"Bokeh: BokehJS is being loaded, scheduling callback at\", now());\n      return null;\n    }\n    if (js_urls == null || js_urls.length === 0) {\n      run_callbacks();\n      return null;\n    }\n    console.debug(\"Bokeh: BokehJS not loaded, scheduling load and callback at\", now());\n    root._bokeh_is_loading = css_urls.length + js_urls.length;\n\n    function on_load() {\n      root._bokeh_is_loading--;\n      if (root._bokeh_is_loading === 0) {\n        console.debug(\"Bokeh: all BokehJS libraries/stylesheets loaded\");\n        run_callbacks()\n      }\n    }\n\n    function on_error(url) {\n      console.error(\"failed to load \" + url);\n    }\n\n    for (let i = 0; i < css_urls.length; i++) {\n      const url = css_urls[i];\n      const element = document.createElement(\"link\");\n      element.onload = on_load;\n      element.onerror = on_error.bind(null, url);\n      element.rel = \"stylesheet\";\n      element.type = \"text/css\";\n      element.href = url;\n      console.debug(\"Bokeh: injecting link tag for BokehJS stylesheet: \", url);\n      document.body.appendChild(element);\n    }\n\n    for (let i = 0; i < js_urls.length; i++) {\n      const url = js_urls[i];\n      const element = document.createElement('script');\n      element.onload = on_load;\n      element.onerror = on_error.bind(null, url);\n      element.async = false;\n      element.src = url;\n      console.debug(\"Bokeh: injecting script tag for BokehJS library: \", url);\n      document.head.appendChild(element);\n    }\n  };\n\n  function inject_raw_css(css) {\n    const element = document.createElement(\"style\");\n    element.appendChild(document.createTextNode(css));\n    document.body.appendChild(element);\n  }\n\n  \n  const js_urls = [\"https://cdn.bokeh.org/bokeh/release/bokeh-2.4.2.min.js\", \"https://cdn.bokeh.org/bokeh/release/bokeh-gl-2.4.2.min.js\", \"https://cdn.bokeh.org/bokeh/release/bokeh-widgets-2.4.2.min.js\", \"https://cdn.bokeh.org/bokeh/release/bokeh-tables-2.4.2.min.js\", \"https://cdn.bokeh.org/bokeh/release/bokeh-mathjax-2.4.2.min.js\", \"https://unpkg.com/@holoviz/panel@0.13.0/dist/panel.min.js\"];\n  const css_urls = [];\n  \n\n  const inline_js = [\n    function(Bokeh) {\n      Bokeh.set_log_level(\"info\");\n    },\n    function(Bokeh) {\n    \n    \n    }\n  ];\n\n  function run_inline_js() {\n    \n    if (root.Bokeh !== undefined || force === true) {\n      \n    for (let i = 0; i < inline_js.length; i++) {\n      inline_js[i].call(root, root.Bokeh);\n    }\n    if (force === true) {\n        display_loaded();\n      }} else if (Date.now() < root._bokeh_timeout) {\n      setTimeout(run_inline_js, 100);\n    } else if (!root._bokeh_failed_load) {\n      console.log(\"Bokeh: BokehJS failed to load within specified timeout.\");\n      root._bokeh_failed_load = true;\n    } else if (force !== true) {\n      const cell = $(document.getElementById(\"1002\")).parents('.cell').data().cell;\n      cell.output_area.append_execute_result(NB_LOAD_WARNING)\n    }\n\n  }\n\n  if (root._bokeh_is_loading === 0) {\n    console.debug(\"Bokeh: BokehJS loaded, going straight to plotting\");\n    run_inline_js();\n  } else {\n    load_libs(css_urls, js_urls, function() {\n      console.debug(\"Bokeh: BokehJS plotting callback run at\", now());\n      run_inline_js();\n    });\n  }\n}(window));"
     },
     "metadata": {},
     "output_type": "display_data"
    }
   ],
   "source": [
    "# Imports\n",
    "import pandas as pd\n",
    "import numpy as np\n",
    "import yaml\n",
    "\n",
    "# Statistical\n",
    "import statsmodels.api as sm\n",
    "from statsmodels.formula.api import ols \n",
    "from scipy.stats import norm, levene, bartlett, f_oneway\n",
    "\n",
    "# Import for the visualizations\n",
    "import panel as pn\n",
    "import matplotlib.pyplot as plt\n",
    "import seaborn as sns\n",
    "from bokeh.plotting import figure, show\n",
    "from bokeh.transform import factor_cmap, jitter\n",
    "from bokeh.models import BasicTicker, ColorBar, LinearColorMapper, PrintfTickFormatter, ColumnDataSource, Whisker\n",
    "from bokeh.transform import transform\n",
    "from bokeh.palettes import Oranges256, Category10_5\n",
    "from bokeh.io import output_notebook\n",
    "output_notebook()"
   ]
  },
  {
   "cell_type": "markdown",
   "metadata": {},
   "source": [
    "---"
   ]
  },
  {
   "cell_type": "code",
   "execution_count": 2,
   "metadata": {},
   "outputs": [],
   "source": [
    "# Function to read the given config file and fetch the parameters from the file\n",
    "def read_config(config_file):\n",
    "    with open(config_file, \"r\") as stream:\n",
    "        config = yaml.safe_load(stream)\n",
    "    return config\n",
    "\n",
    "# Read the config file\n",
    "config = read_config(\"config.yaml\")"
   ]
  },
  {
   "cell_type": "code",
   "execution_count": 3,
   "metadata": {},
   "outputs": [
    {
     "data": {
      "text/html": [
       "<div>\n",
       "<style scoped>\n",
       "    .dataframe tbody tr th:only-of-type {\n",
       "        vertical-align: middle;\n",
       "    }\n",
       "\n",
       "    .dataframe tbody tr th {\n",
       "        vertical-align: top;\n",
       "    }\n",
       "\n",
       "    .dataframe thead th {\n",
       "        text-align: right;\n",
       "    }\n",
       "</style>\n",
       "<table border=\"1\" class=\"dataframe\">\n",
       "  <thead>\n",
       "    <tr style=\"text-align: right;\">\n",
       "      <th></th>\n",
       "      <th>Enough</th>\n",
       "      <th>Hours</th>\n",
       "      <th>PhoneReach</th>\n",
       "      <th>PhoneTime</th>\n",
       "      <th>Tired</th>\n",
       "      <th>Breakfast</th>\n",
       "    </tr>\n",
       "  </thead>\n",
       "  <tbody>\n",
       "    <tr>\n",
       "      <th>0</th>\n",
       "      <td>Yes</td>\n",
       "      <td>8.0</td>\n",
       "      <td>Yes</td>\n",
       "      <td>Yes</td>\n",
       "      <td>3</td>\n",
       "      <td>Yes</td>\n",
       "    </tr>\n",
       "    <tr>\n",
       "      <th>1</th>\n",
       "      <td>No</td>\n",
       "      <td>6.0</td>\n",
       "      <td>Yes</td>\n",
       "      <td>Yes</td>\n",
       "      <td>3</td>\n",
       "      <td>No</td>\n",
       "    </tr>\n",
       "    <tr>\n",
       "      <th>2</th>\n",
       "      <td>Yes</td>\n",
       "      <td>6.0</td>\n",
       "      <td>Yes</td>\n",
       "      <td>Yes</td>\n",
       "      <td>2</td>\n",
       "      <td>Yes</td>\n",
       "    </tr>\n",
       "    <tr>\n",
       "      <th>3</th>\n",
       "      <td>No</td>\n",
       "      <td>7.0</td>\n",
       "      <td>Yes</td>\n",
       "      <td>Yes</td>\n",
       "      <td>4</td>\n",
       "      <td>No</td>\n",
       "    </tr>\n",
       "    <tr>\n",
       "      <th>4</th>\n",
       "      <td>No</td>\n",
       "      <td>7.0</td>\n",
       "      <td>Yes</td>\n",
       "      <td>Yes</td>\n",
       "      <td>2</td>\n",
       "      <td>Yes</td>\n",
       "    </tr>\n",
       "  </tbody>\n",
       "</table>\n",
       "</div>"
      ],
      "text/plain": [
       "  Enough  Hours PhoneReach PhoneTime  Tired Breakfast\n",
       "0    Yes    8.0        Yes       Yes      3       Yes\n",
       "1     No    6.0        Yes       Yes      3        No\n",
       "2    Yes    6.0        Yes       Yes      2       Yes\n",
       "3     No    7.0        Yes       Yes      4        No\n",
       "4     No    7.0        Yes       Yes      2       Yes"
      ]
     },
     "execution_count": 3,
     "metadata": {},
     "output_type": "execute_result"
    }
   ],
   "source": [
    "# Read the csv with the sleep data fetched from the config file\n",
    "df_sleep = pd.read_csv(config[\"sleep_data\"])\n",
    "\n",
    "# Show the first 5 rows of the data frame\n",
    "df_sleep.head()"
   ]
  },
  {
   "cell_type": "markdown",
   "metadata": {},
   "source": [
    "---"
   ]
  },
  {
   "cell_type": "code",
   "execution_count": 4,
   "metadata": {},
   "outputs": [
    {
     "name": "stdout",
     "output_type": "stream",
     "text": [
      "The dataframe consist of 104 rows and 6 columns.\n"
     ]
    }
   ],
   "source": [
    "print(f\"The dataframe consist of {df_sleep.shape[0]} rows and {df_sleep.shape[1]} columns.\")"
   ]
  },
  {
   "cell_type": "code",
   "execution_count": 5,
   "metadata": {
    "scrolled": true
   },
   "outputs": [
    {
     "name": "stdout",
     "output_type": "stream",
     "text": [
      "There percentage of missing data for every column in the dataframe is:\n",
      "Enough        0.000000\n",
      "Hours         1.923077\n",
      "PhoneReach    0.000000\n",
      "PhoneTime     0.000000\n",
      "Tired         0.000000\n",
      "Breakfast     0.000000\n",
      "dtype: float64\n"
     ]
    }
   ],
   "source": [
    "# Print the percentage of missing data for each column\n",
    "perc_missing = df_sleep.isna().sum() * 100 / len(df_sleep)\n",
    "print(f\"There percentage of missing data for every column in the dataframe is:\\n{perc_missing}\")"
   ]
  },
  {
   "cell_type": "code",
   "execution_count": 6,
   "metadata": {},
   "outputs": [],
   "source": [
    "\"\"\"\n",
    "I choose to drop the NaN's, since the hours are unknown and these are important to answer the research questions.\n",
    "\"\"\"\n",
    "df_sleep.dropna(axis = 0, inplace=True)"
   ]
  },
  {
   "cell_type": "code",
   "execution_count": 7,
   "metadata": {},
   "outputs": [
    {
     "name": "stdout",
     "output_type": "stream",
     "text": [
      "The dependent variable of research question 1 is Hours and the independent variable is Breakfast.\n",
      "The dependent variable of research question 2 is Hours and the independent variables are Breakfast and Tired.\n"
     ]
    }
   ],
   "source": [
    "# Print the dependent and independent variables for both research questions\n",
    "print(f\"The dependent variable of research question 1 is {df_sleep.columns[1]} and the independent variable is {df_sleep.columns[5]}.\")\n",
    "\n",
    "print(f\"The dependent variable of research question 2 is {df_sleep.columns[1]} and the independent variables are {df_sleep.columns[5]} and {df_sleep.columns[4]}.\")"
   ]
  },
  {
   "cell_type": "code",
   "execution_count": 8,
   "metadata": {},
   "outputs": [
    {
     "name": "stdout",
     "output_type": "stream",
     "text": [
      "The columns of the data frame have the following datatypes:\n",
      "Enough         object\n",
      "Hours         float64\n",
      "PhoneReach     object\n",
      "PhoneTime      object\n",
      "Tired           int64\n",
      "Breakfast      object\n",
      "dtype: object\n",
      "\n",
      "Yes, they have the correct datatypes because the questions answered with text are string (Yes and No) and stored in objects. \n",
      "The hours column has floating point numbers in the column so the datatype of the column is 'float64'. \n",
      "The score in the column Tired has the datatype 'int64' because the score is answered with an integer.\n"
     ]
    }
   ],
   "source": [
    "# Print the datatypes\n",
    "print(f\"The columns of the data frame have the following datatypes:\\n{df_sleep.dtypes}\")\n",
    "print(\"\\nYes, they have the correct datatypes because the questions answered with text are string (Yes and No) and stored in objects. \\\n",
    "\\nThe hours column has floating point numbers in the column so the datatype of the column is 'float64'. \\\n",
    "\\nThe score in the column Tired has the datatype 'int64' because the score is answered with an integer.\")"
   ]
  },
  {
   "cell_type": "markdown",
   "metadata": {},
   "source": [
    "---"
   ]
  },
  {
   "cell_type": "markdown",
   "metadata": {},
   "source": [
    "<a name='1'></a>\n",
    "## Part 2: Inspect the data (30 pt)\n",
    "\n",
    "Inspect the data practically. Get an idea about how well the variable categories are balanced. Are the values of a variable equally divided? What is the mean value of the dependent variable? Are there correlations among the variables?\n"
   ]
  },
  {
   "cell_type": "markdown",
   "metadata": {},
   "source": [
    "<ul>\n",
    "<li>Create some meaningful overviews such as variable value counts</li>\n",
    "<li>Create a scatter plot ploting the relation between being tired and hours of sleep with different colors for Breakfast</li>\n",
    "    <li>Print some basic statistics about the target (mean, standard deviation)</li>\n",
    "    <li>Create a heatmap to check for correlations among variables. </li>\n",
    "\n",
    "<details>    \n",
    "<summary>\n",
    "    <font size=\"3\" color=\"darkgreen\"><b>Hints</b></font>\n",
    "</summary>\n",
    "    <ul><li>the gitbook has a bokeh heatmap example</li></ul>\n",
    "</details>\n",
    "</ul>"
   ]
  },
  {
   "cell_type": "markdown",
   "metadata": {},
   "source": [
    "### The value counts and distribution plots"
   ]
  },
  {
   "cell_type": "code",
   "execution_count": 9,
   "metadata": {},
   "outputs": [
    {
     "name": "stdout",
     "output_type": "stream",
     "text": [
      "The value counts of the categorical data columns are:\n",
      "\n",
      "     Enough  PhoneReach  PhoneTime  Breakfast\n",
      "No       67          31         19         41\n",
      "Yes      35          71         83         61\n",
      "\n",
      "When we combine all the columns then we can see that the data is not balanced because in general there are quite a few people \n",
      "that do not sleep enough and if we look at the other columns then we can see they probably use there phone before sleeping. \n",
      "The counts in general are very different from each other.\n"
     ]
    }
   ],
   "source": [
    "\"\"\"\n",
    "I choose to visualize the value counts of the categorical data in a table.\n",
    "Since these columns all have 'Yes' and 'No' I though a table is clear to view the data.\n",
    "\"\"\"\n",
    "\n",
    "print(f'The value counts of the categorical data columns are:\\n\\n{df_sleep[[\"Enough\", \"PhoneReach\", \"PhoneTime\", \"Breakfast\"]].apply(pd.value_counts)}')\n",
    "\n",
    "print(\"\\nWhen we combine all the columns then we can see that the data is not balanced because in general there are quite a few people \\\n",
    "\\nthat do not sleep enough and if we look at the other columns then we can see they probably use there phone before sleeping. \\\n",
    "\\nThe counts in general are very different from each other.\") "
   ]
  },
  {
   "cell_type": "code",
   "execution_count": 10,
   "metadata": {},
   "outputs": [
    {
     "name": "stdout",
     "output_type": "stream",
     "text": [
      "The value counts of the column 'Hours' is:\n",
      "2.0      2\n",
      "4.0      4\n",
      "5.0     12\n",
      "6.0     24\n",
      "7.0     35\n",
      "8.0     16\n",
      "9.0      8\n",
      "10.0     1\n",
      "Name: Hours, dtype: int64\n",
      "\n",
      "Most of the people sleep for 7 hours and the highest number of counts lie around the hours 6,7, and 8. In a quick overview the data looks normal distributed, however, there is one hour that is missing that could influence the distribution. \n",
      "So you can't really say anything over how the data is distritibuted.\n"
     ]
    }
   ],
   "source": [
    "\"\"\"\n",
    "I choose to visualize the value counts in a table to give a quick overview of the numerical 'Hours' column.\n",
    "\"\"\"\n",
    "\n",
    "print(f\"The value counts of the column 'Hours' is:\\n{df_sleep.Hours.value_counts().sort_index()}\")\n",
    "\n",
    "print(\"\\nMost of the people sleep for 7 hours and the highest number of counts lie around the hours 6,7, and 8. \\\n",
    "In a quick overview the data looks normal distributed, however, there is one hour that is missing that could influence the distribution. \\\n",
    "\\nSo you can't really say anything over how the data is distritibuted.\")"
   ]
  },
  {
   "cell_type": "code",
   "execution_count": 11,
   "metadata": {},
   "outputs": [
    {
     "name": "stdout",
     "output_type": "stream",
     "text": [
      "The value counts of the column 'Tired' is:\n",
      "1     4\n",
      "2    26\n",
      "3    39\n",
      "4    23\n",
      "5    10\n",
      "Name: Tired, dtype: int64\n",
      "\n",
      "The data looks normally distributed as 3, the middle, has the highest number of counts and the others decrease evenly. \n",
      "The value also lie closely together like 1 and 5, and 2 and 4.\n"
     ]
    }
   ],
   "source": [
    "\"\"\"\n",
    "I choose to visualize the value counts in a table to give a quick overview of the numerical 'Tired' column.\n",
    "\"\"\"\n",
    "\n",
    "print(f\"The value counts of the column 'Tired' is:\\n{df_sleep.Tired.value_counts().sort_index()}\")\n",
    "\n",
    "print(\"\\nThe data looks normally distributed as 3, the middle, has the highest number of counts and the others decrease evenly. \\\n",
    "\\nThe value also lie closely together like 1 and 5, and 2 and 4.\")"
   ]
  },
  {
   "cell_type": "code",
   "execution_count": 12,
   "metadata": {},
   "outputs": [
    {
     "data": {
      "image/png": "[encoded data removed]",
      "text/plain": [
       "<Figure size 1080x576 with 1 Axes>"
      ]
     },
     "metadata": {
      "needs_background": "light"
     },
     "output_type": "display_data"
    },
    {
     "name": "stdout",
     "output_type": "stream",
     "text": [
      "Between every whole number the bar left stands for 'Breakfast: Yes' and every right bar stands for 'Breakfast: No'. In general the histogram looks normally distributed. It looks even more normally distributed if the left side until 4 is removed, \n",
      "which are possibly outliers. \n",
      "The same goes for 'Breakfast: Yes' it looks to have a normal distribution, however, this is possibly only when the outliers \n",
      "on the left will be removed. The density lies more to the right instead of in the middle. The values look balanced because the count decreases almost evenly from 7 as middle point. \n",
      "The distribution of the 'Breakfast: No' also looks normal especially if the left side is removed. \n",
      "However, the shape of the kernel density shows that it has a better normal distribution than 'Yes'. \n",
      "If you look closely, it looks like that the data isn't normally distributed since it doesn't follow the lines at all places.\n"
     ]
    }
   ],
   "source": [
    "\"\"\"\n",
    "I choose to visualize Hours in a histogram colored on Breakfast to see how Hours is distributed based on Breakfast.\n",
    "And to see how Breakfast is ballanced over the Hours.\n",
    "I also used a kernel density line to see the shape of the distribution.\n",
    "\"\"\"\n",
    "\n",
    "# Plot the histogram\n",
    "plt.figure(figsize=(15,8))\n",
    "p = sns.histplot(data=df_sleep, x=\"Hours\", hue=\"Breakfast\", binwidth=1, multiple=\"dodge\", kde=True)\n",
    "p.set(xlabel=\"Time (hours)\", ylabel=\"Frequency\")\n",
    "plt.show()\n",
    "\n",
    "print(\"Between every whole number the bar left stands for 'Breakfast: Yes' and every right bar stands for 'Breakfast: No'. \\\n",
    "In general the histogram looks normally distributed. It looks even more normally distributed if the left side until 4 is \\\n",
    "removed, \\nwhich are possibly outliers. \\nThe same goes for 'Breakfast: Yes' it looks to have a normal distribution, \\\n",
    "however, this is possibly only when the outliers \\\n",
    "\\non the left will be removed. The density lies more to the right instead of in the middle. \\\n",
    "The values look balanced because the count decreases almost evenly from 7 as middle point. \\\n",
    "\\nThe distribution of the 'Breakfast: No' also looks normal especially if the left side is removed. \\\n",
    "\\nHowever, the shape of the kernel density shows that it has a better normal distribution than 'Yes'. \\\n",
    "\\nIf you look closely, it looks like that the data isn't normally distributed since it doesn't follow the lines at all places.\")"
   ]
  },
  {
   "cell_type": "code",
   "execution_count": 13,
   "metadata": {},
   "outputs": [
    {
     "data": {
      "image/png": "[encoded data removed]",
      "text/plain": [
       "<Figure size 1080x576 with 1 Axes>"
      ]
     },
     "metadata": {
      "needs_background": "light"
     },
     "output_type": "display_data"
    },
    {
     "name": "stdout",
     "output_type": "stream",
     "text": [
      "Between every whole number the bar left stands for 'Breakfast: Yes' and every right bar stands for 'Breakfast: No'. In general the histogram doesn't look normally distributed. It goes up and down and not with equal numbers. \n",
      "Both appear to have a left skewed distribution as the count goes up with each score. \n",
      "People who didn't ate breakfast a little bit more. \n",
      "The kernel density of both also doesn't show a normal distribution.\n"
     ]
    }
   ],
   "source": [
    "\"\"\"\n",
    "I choose to visualize Tired in a histogram colored on Breakfast to see how Tired is distributed based on Breakfast.\n",
    "And to see how Breakfast is ballanced based on how Tired people are.\n",
    "I also used a kernel density line to see the shape of the distribution.\n",
    "\"\"\"\n",
    "\n",
    "# Plot the histogram\n",
    "plt.figure(figsize=(15,8))\n",
    "p = sns.histplot(data=df_sleep, x=\"Tired\", hue=\"Breakfast\", binwidth=1, multiple=\"dodge\", kde=True)\n",
    "p.set(xlabel=\"Tiredness (score)\", ylabel=\"Frequency\")\n",
    "plt.show()\n",
    "\n",
    "print(\"Between every whole number the bar left stands for 'Breakfast: Yes' and every right bar stands for 'Breakfast: No'. \\\n",
    "In general the histogram doesn't look normally distributed. It goes up and down and not with equal numbers. \\\n",
    "\\nBoth appear to have a left skewed distribution as the count goes up with each score. \\\n",
    "\\nPeople who didn't ate breakfast a little bit more. \\\n",
    "\\nThe kernel density of both also doesn't show a normal distribution.\")"
   ]
  },
  {
   "cell_type": "code",
   "execution_count": 14,
   "metadata": {},
   "outputs": [
    {
     "data": {
      "image/png": "[encoded data removed]",
      "text/plain": [
       "<Figure size 955.625x900 with 30 Axes>"
      ]
     },
     "metadata": {
      "needs_background": "light"
     },
     "output_type": "display_data"
    },
    {
     "name": "stdout",
     "output_type": "stream",
     "text": [
      "The plot gives a clear overview of the relationships between the variables. \n",
      "Since the data only has two values most of the plots give a straigth line or small clusters. For the categorical columns \n",
      "the data has two spikes in the density, one for 0 and one for 1.\n"
     ]
    }
   ],
   "source": [
    "\"\"\"\n",
    "I choose to visualize the data in a pairplot to investigate relations between factors.\n",
    "First I choose to create a new data frame where the categorial columns are replaced into numerical columns to visualize all colums.\n",
    "Except for Breakfast because then you can see the difference between 'Yes' and 'No' instead of 0 and 1 which can be anything.\n",
    "Then I made a new data frame where jitter is added to the data to see a better difference then when the points overlap.\n",
    "At last, I plotted the pairplot where the points are colored on Breakfast.\n",
    "\"\"\"\n",
    "\n",
    "# Replace the 'Yes' and 'No' in the columns with 0 and 1, make numerical columns from categorical columns\n",
    "df_sleep_num = df_sleep.copy()\n",
    "for column in df_sleep_num[[\"Enough\", \"PhoneReach\", \"PhoneTime\"]]:\n",
    "    df_sleep_num[column].replace([\"No\", \"Yes\"], [0, 1], inplace=True)\n",
    "\n",
    "# Adding jitter to the numerical columns that where replace for a better view\n",
    "jittered_sleep = df_sleep_num.copy()\n",
    "jittered_sleep[['PhoneReach', 'PhoneTime', 'Enough']] += np.random.rand(*jittered_sleep[['PhoneReach', 'PhoneTime', 'Enough']].shape) * 0.1\n",
    "\n",
    "# Create a pairplot with the jittered data\n",
    "sns.pairplot(data=jittered_sleep, hue=\"Breakfast\")\n",
    "plt.show()\n",
    "\n",
    "print(\"The plot gives a clear overview of the relationships between the variables. \\\n",
    "\\nSince the data only has two values most of the plots give a straigth line or small clusters. \\\n",
    "For the categorical columns \\nthe data has two spikes in the density, one for 0 and one for 1.\")"
   ]
  },
  {
   "cell_type": "markdown",
   "metadata": {},
   "source": [
    "---"
   ]
  },
  {
   "cell_type": "markdown",
   "metadata": {},
   "source": [
    "### Scatter plot"
   ]
  },
  {
   "cell_type": "code",
   "execution_count": 15,
   "metadata": {},
   "outputs": [
    {
     "data": {
      "text/html": [
       "\n",
       "\n",
       "\n",
       "\n",
       "\n",
       "\n",
       "  <div class=\"bk-root\" id=\"af56eead-56cc-468a-8229-d855693b8e4e\" data-root-id=\"1003\"></div>\n"
      ]
     },
     "metadata": {},
     "output_type": "display_data"
    },
    {
     "data": {
      "application/javascript": [
       "(function(root) {\n",
       "  function embed_document(root) {\n",
       "    \n",
       "  const docs_json = {\"d78bd422-6698-4d1c-83f6-cb722d844be1\":{\"defs\":[{\"extends\":null,\"module\":null,\"name\":\"ReactiveHTML1\",\"overrides\":[],\"properties\":[]},{\"extends\":null,\"module\":null,\"name\":\"FlexBox1\",\"overrides\":[],\"properties\":[{\"default\":\"flex-start\",\"kind\":null,\"name\":\"align_content\"},{\"default\":\"flex-start\",\"kind\":null,\"name\":\"align_items\"},{\"default\":\"row\",\"kind\":null,\"name\":\"flex_direction\"},{\"default\":\"wrap\",\"kind\":null,\"name\":\"flex_wrap\"},{\"default\":\"flex-start\",\"kind\":null,\"name\":\"justify_content\"}]},{\"extends\":null,\"module\":null,\"name\":\"GridStack1\",\"overrides\":[],\"properties\":[{\"default\":\"warn\",\"kind\":null,\"name\":\"mode\"},{\"default\":null,\"kind\":null,\"name\":\"ncols\"},{\"default\":null,\"kind\":null,\"name\":\"nrows\"},{\"default\":true,\"kind\":null,\"name\":\"allow_resize\"},{\"default\":true,\"kind\":null,\"name\":\"allow_drag\"},{\"default\":[],\"kind\":null,\"name\":\"state\"}]},{\"extends\":null,\"module\":null,\"name\":\"click1\",\"overrides\":[],\"properties\":[{\"default\":\"\",\"kind\":null,\"name\":\"terminal_output\"},{\"default\":\"\",\"kind\":null,\"name\":\"debug_name\"},{\"default\":0,\"kind\":null,\"name\":\"clears\"}]},{\"extends\":null,\"module\":null,\"name\":\"TemplateActions1\",\"overrides\":[],\"properties\":[{\"default\":0,\"kind\":null,\"name\":\"open_modal\"},{\"default\":0,\"kind\":null,\"name\":\"close_modal\"}]},{\"extends\":null,\"module\":null,\"name\":\"MaterialTemplateActions1\",\"overrides\":[],\"properties\":[{\"default\":0,\"kind\":null,\"name\":\"open_modal\"},{\"default\":0,\"kind\":null,\"name\":\"close_modal\"}]}],\"roots\":{\"references\":[{\"attributes\":{\"below\":[{\"id\":\"1012\"}],\"center\":[{\"id\":\"1015\"},{\"id\":\"1019\"},{\"id\":\"1055\"}],\"left\":[{\"id\":\"1016\"}],\"renderers\":[{\"id\":\"1042\"}],\"title\":{\"id\":\"1044\"},\"toolbar\":{\"id\":\"1027\"},\"width\":900,\"x_range\":{\"id\":\"1004\"},\"x_scale\":{\"id\":\"1008\"},\"y_range\":{\"id\":\"1006\"},\"y_scale\":{\"id\":\"1010\"}},\"id\":\"1003\",\"subtype\":\"Figure\",\"type\":\"Plot\"},{\"attributes\":{\"bottom_units\":\"screen\",\"coordinates\":null,\"fill_alpha\":0.5,\"fill_color\":\"lightgrey\",\"group\":null,\"left_units\":\"screen\",\"level\":\"overlay\",\"line_alpha\":1.0,\"line_color\":\"black\",\"line_dash\":[4,4],\"line_width\":2,\"right_units\":\"screen\",\"syncable\":false,\"top_units\":\"screen\"},\"id\":\"1026\",\"type\":\"BoxAnnotation\"},{\"attributes\":{},\"id\":\"1051\",\"type\":\"AllLabels\"},{\"attributes\":{},\"id\":\"1024\",\"type\":\"ResetTool\"},{\"attributes\":{\"axis_label\":\"Tiredness (score)\",\"coordinates\":null,\"formatter\":{\"id\":\"1047\"},\"group\":null,\"major_label_policy\":{\"id\":\"1048\"},\"ticker\":{\"id\":\"1017\"}},\"id\":\"1016\",\"type\":\"LinearAxis\"},{\"attributes\":{\"range\":null,\"width\":0.5},\"id\":\"1034\",\"type\":\"Jitter\"},{\"attributes\":{\"overlay\":{\"id\":\"1026\"}},\"id\":\"1022\",\"type\":\"BoxZoomTool\"},{\"attributes\":{},\"id\":\"1017\",\"type\":\"BasicTicker\"},{\"attributes\":{},\"id\":\"1020\",\"type\":\"PanTool\"},{\"attributes\":{},\"id\":\"1052\",\"type\":\"UnionRenderers\"},{\"attributes\":{},\"id\":\"1050\",\"type\":\"BasicTickFormatter\"},{\"attributes\":{},\"id\":\"1053\",\"type\":\"Selection\"},{\"attributes\":{},\"id\":\"1004\",\"type\":\"DataRange1d\"},{\"attributes\":{},\"id\":\"1048\",\"type\":\"AllLabels\"},{\"attributes\":{\"fill_alpha\":{\"value\":0.1},\"fill_color\":{\"field\":\"Breakfast\",\"transform\":{\"id\":\"1036\"}},\"hatch_alpha\":{\"value\":0.1},\"hatch_color\":{\"field\":\"Breakfast\",\"transform\":{\"id\":\"1036\"}},\"line_alpha\":{\"value\":0.1},\"line_color\":{\"field\":\"Breakfast\",\"transform\":{\"id\":\"1036\"}},\"size\":{\"value\":8},\"x\":{\"field\":\"Hours\",\"transform\":{\"id\":\"1034\"}},\"y\":{\"field\":\"Tired\",\"transform\":{\"id\":\"1035\"}}},\"id\":\"1040\",\"type\":\"Scatter\"},{\"attributes\":{\"data\":{\"Breakfast\":[\"Yes\",\"No\",\"Yes\",\"No\",\"Yes\",\"No\",\"Yes\",\"Yes\",\"Yes\",\"Yes\",\"No\",\"Yes\",\"No\",\"No\",\"Yes\",\"No\",\"Yes\",\"Yes\",\"Yes\",\"No\",\"No\",\"Yes\",\"Yes\",\"Yes\",\"No\",\"No\",\"No\",\"No\",\"Yes\",\"Yes\",\"Yes\",\"Yes\",\"No\",\"No\",\"Yes\",\"Yes\",\"Yes\",\"Yes\",\"No\",\"No\",\"Yes\",\"Yes\",\"No\",\"Yes\",\"No\",\"No\",\"Yes\",\"Yes\",\"Yes\",\"Yes\",\"No\",\"Yes\",\"Yes\",\"No\",\"Yes\",\"Yes\",\"No\",\"No\",\"Yes\",\"No\",\"No\",\"Yes\",\"No\",\"No\",\"Yes\",\"No\",\"Yes\",\"No\",\"Yes\",\"Yes\",\"Yes\",\"No\",\"Yes\",\"Yes\",\"No\",\"Yes\",\"No\",\"Yes\",\"No\",\"No\",\"No\",\"No\",\"Yes\",\"Yes\",\"No\",\"Yes\",\"Yes\",\"Yes\",\"Yes\",\"Yes\",\"Yes\",\"Yes\",\"No\",\"Yes\",\"Yes\",\"No\",\"No\",\"Yes\",\"Yes\",\"Yes\",\"Yes\",\"Yes\"],\"Enough\":[\"Yes\",\"No\",\"Yes\",\"No\",\"No\",\"No\",\"Yes\",\"No\",\"No\",\"No\",\"No\",\"No\",\"Yes\",\"Yes\",\"Yes\",\"Yes\",\"Yes\",\"Yes\",\"No\",\"Yes\",\"No\",\"No\",\"No\",\"No\",\"No\",\"No\",\"No\",\"No\",\"Yes\",\"Yes\",\"Yes\",\"No\",\"No\",\"No\",\"No\",\"No\",\"Yes\",\"Yes\",\"No\",\"No\",\"Yes\",\"No\",\"No\",\"No\",\"No\",\"No\",\"Yes\",\"No\",\"No\",\"No\",\"No\",\"No\",\"No\",\"No\",\"No\",\"No\",\"No\",\"No\",\"No\",\"Yes\",\"No\",\"No\",\"No\",\"No\",\"No\",\"Yes\",\"No\",\"Yes\",\"No\",\"Yes\",\"No\",\"No\",\"No\",\"Yes\",\"No\",\"No\",\"Yes\",\"No\",\"No\",\"Yes\",\"No\",\"No\",\"Yes\",\"Yes\",\"No\",\"No\",\"No\",\"No\",\"Yes\",\"No\",\"Yes\",\"Yes\",\"Yes\",\"Yes\",\"No\",\"Yes\",\"No\",\"No\",\"No\",\"Yes\",\"Yes\",\"Yes\"],\"Hours\":{\"__ndarray__\":\"AAAAAAAAIEAAAAAAAAAYQAAAAAAAABhAAAAAAAAAHEAAAAAAAAAcQAAAAAAAABxAAAAAAAAAHEAAAAAAAAAcQAAAAAAAABBAAAAAAAAAGEAAAAAAAAAkQAAAAAAAABxAAAAAAAAAHEAAAAAAAAAgQAAAAAAAABxAAAAAAAAAIEAAAAAAAAAYQAAAAAAAACBAAAAAAAAAIkAAAAAAAAAgQAAAAAAAAABAAAAAAAAAEEAAAAAAAAAUQAAAAAAAABxAAAAAAAAAFEAAAAAAAAAcQAAAAAAAABhAAAAAAAAAGEAAAAAAAAAcQAAAAAAAACJAAAAAAAAAIEAAAAAAAAAgQAAAAAAAABhAAAAAAAAAGEAAAAAAAAAcQAAAAAAAABxAAAAAAAAAHEAAAAAAAAAiQAAAAAAAABRAAAAAAAAAHEAAAAAAAAAgQAAAAAAAABxAAAAAAAAAFEAAAAAAAAAYQAAAAAAAABBAAAAAAAAAHEAAAAAAAAAiQAAAAAAAABRAAAAAAAAAGEAAAAAAAAAQQAAAAAAAABRAAAAAAAAAIEAAAAAAAAAcQAAAAAAAABRAAAAAAAAAHEAAAAAAAAAUQAAAAAAAABhAAAAAAAAAIkAAAAAAAAAiQAAAAAAAABxAAAAAAAAAGEAAAAAAAAAcQAAAAAAAAABAAAAAAAAAIEAAAAAAAAAcQAAAAAAAABxAAAAAAAAAHEAAAAAAAAAcQAAAAAAAABhAAAAAAAAAGEAAAAAAAAAUQAAAAAAAABRAAAAAAAAAGEAAAAAAAAAcQAAAAAAAABhAAAAAAAAAIEAAAAAAAAAYQAAAAAAAABhAAAAAAAAAHEAAAAAAAAAYQAAAAAAAABhAAAAAAAAAFEAAAAAAAAAgQAAAAAAAACBAAAAAAAAAGEAAAAAAAAAiQAAAAAAAABRAAAAAAAAAGEAAAAAAAAAgQAAAAAAAABxAAAAAAAAAHEAAAAAAAAAiQAAAAAAAACBAAAAAAAAAHEAAAAAAAAAcQAAAAAAAABxAAAAAAAAAGEAAAAAAAAAcQAAAAAAAABxAAAAAAAAAIEAAAAAAAAAcQAAAAAAAABhA\",\"dtype\":\"float64\",\"order\":\"little\",\"shape\":[102]},\"PhoneReach\":[\"Yes\",\"Yes\",\"Yes\",\"Yes\",\"Yes\",\"Yes\",\"Yes\",\"Yes\",\"No\",\"Yes\",\"Yes\",\"Yes\",\"Yes\",\"Yes\",\"No\",\"Yes\",\"Yes\",\"Yes\",\"Yes\",\"Yes\",\"Yes\",\"Yes\",\"Yes\",\"Yes\",\"Yes\",\"No\",\"Yes\",\"Yes\",\"Yes\",\"No\",\"Yes\",\"No\",\"Yes\",\"No\",\"No\",\"Yes\",\"No\",\"No\",\"Yes\",\"Yes\",\"No\",\"No\",\"Yes\",\"Yes\",\"No\",\"Yes\",\"Yes\",\"No\",\"No\",\"Yes\",\"Yes\",\"Yes\",\"No\",\"Yes\",\"Yes\",\"No\",\"Yes\",\"No\",\"Yes\",\"Yes\",\"Yes\",\"Yes\",\"No\",\"Yes\",\"Yes\",\"Yes\",\"Yes\",\"Yes\",\"Yes\",\"No\",\"Yes\",\"Yes\",\"No\",\"Yes\",\"No\",\"Yes\",\"Yes\",\"Yes\",\"Yes\",\"Yes\",\"Yes\",\"No\",\"No\",\"No\",\"Yes\",\"No\",\"Yes\",\"Yes\",\"No\",\"No\",\"No\",\"No\",\"Yes\",\"No\",\"Yes\",\"Yes\",\"Yes\",\"Yes\",\"No\",\"Yes\",\"Yes\",\"Yes\"],\"PhoneTime\":[\"Yes\",\"Yes\",\"Yes\",\"Yes\",\"Yes\",\"Yes\",\"Yes\",\"Yes\",\"Yes\",\"Yes\",\"Yes\",\"Yes\",\"Yes\",\"Yes\",\"Yes\",\"Yes\",\"Yes\",\"Yes\",\"Yes\",\"Yes\",\"Yes\",\"Yes\",\"No\",\"No\",\"Yes\",\"Yes\",\"Yes\",\"Yes\",\"No\",\"No\",\"Yes\",\"Yes\",\"Yes\",\"No\",\"Yes\",\"Yes\",\"No\",\"Yes\",\"No\",\"Yes\",\"Yes\",\"Yes\",\"Yes\",\"Yes\",\"No\",\"Yes\",\"Yes\",\"No\",\"Yes\",\"Yes\",\"No\",\"Yes\",\"Yes\",\"Yes\",\"Yes\",\"Yes\",\"Yes\",\"Yes\",\"No\",\"Yes\",\"Yes\",\"Yes\",\"No\",\"Yes\",\"Yes\",\"No\",\"Yes\",\"No\",\"Yes\",\"Yes\",\"Yes\",\"Yes\",\"Yes\",\"Yes\",\"Yes\",\"Yes\",\"Yes\",\"Yes\",\"Yes\",\"Yes\",\"Yes\",\"No\",\"No\",\"Yes\",\"Yes\",\"Yes\",\"No\",\"No\",\"Yes\",\"Yes\",\"Yes\",\"No\",\"Yes\",\"Yes\",\"Yes\",\"Yes\",\"Yes\",\"Yes\",\"Yes\",\"Yes\",\"Yes\",\"Yes\"],\"Tired\":[3,3,2,4,2,4,3,3,2,3,4,2,3,2,3,3,4,3,3,3,5,2,3,3,2,5,3,2,2,2,2,3,4,3,3,3,2,2,5,2,1,4,3,3,5,4,1,5,3,2,3,3,4,2,3,2,3,5,4,2,3,3,5,5,4,1,3,3,3,4,4,4,5,4,4,4,4,3,4,3,3,4,2,1,3,5,4,2,3,4,2,2,4,2,4,2,3,2,3,3,2,3],\"index\":[0,1,2,3,4,5,6,7,8,9,10,11,12,13,14,15,16,17,18,19,20,21,22,23,24,25,26,27,28,29,30,31,32,33,34,35,36,37,38,39,40,41,42,43,44,45,46,47,48,49,50,51,52,53,54,55,56,57,58,59,60,61,62,63,64,66,67,68,69,70,71,72,73,74,75,76,77,78,79,80,81,82,83,84,85,86,87,88,89,90,92,93,94,95,96,97,98,99,100,101,102,103]},\"selected\":{\"id\":\"1053\"},\"selection_policy\":{\"id\":\"1052\"}},\"id\":\"1037\",\"type\":\"ColumnDataSource\"},{\"attributes\":{\"axis\":{\"id\":\"1016\"},\"coordinates\":null,\"dimension\":1,\"group\":null,\"ticker\":null},\"id\":\"1019\",\"type\":\"Grid\"},{\"attributes\":{\"fill_alpha\":{\"value\":0.2},\"fill_color\":{\"field\":\"Breakfast\",\"transform\":{\"id\":\"1036\"}},\"hatch_alpha\":{\"value\":0.2},\"hatch_color\":{\"field\":\"Breakfast\",\"transform\":{\"id\":\"1036\"}},\"line_alpha\":{\"value\":0.2},\"line_color\":{\"field\":\"Breakfast\",\"transform\":{\"id\":\"1036\"}},\"size\":{\"value\":8},\"x\":{\"field\":\"Hours\",\"transform\":{\"id\":\"1034\"}},\"y\":{\"field\":\"Tired\",\"transform\":{\"id\":\"1035\"}}},\"id\":\"1041\",\"type\":\"Scatter\"},{\"attributes\":{},\"id\":\"1023\",\"type\":\"SaveTool\"},{\"attributes\":{\"coordinates\":null,\"data_source\":{\"id\":\"1037\"},\"glyph\":{\"id\":\"1039\"},\"group\":null,\"hover_glyph\":null,\"muted_glyph\":{\"id\":\"1041\"},\"nonselection_glyph\":{\"id\":\"1040\"},\"view\":{\"id\":\"1043\"}},\"id\":\"1042\",\"type\":\"GlyphRenderer\"},{\"attributes\":{},\"id\":\"1008\",\"type\":\"LinearScale\"},{\"attributes\":{},\"id\":\"1021\",\"type\":\"WheelZoomTool\"},{\"attributes\":{\"coordinates\":null,\"group\":null},\"id\":\"1044\",\"type\":\"Title\"},{\"attributes\":{},\"id\":\"1047\",\"type\":\"BasicTickFormatter\"},{\"attributes\":{},\"id\":\"1010\",\"type\":\"LinearScale\"},{\"attributes\":{},\"id\":\"1025\",\"type\":\"HelpTool\"},{\"attributes\":{\"range\":null,\"width\":0.5},\"id\":\"1035\",\"type\":\"Jitter\"},{\"attributes\":{},\"id\":\"1013\",\"type\":\"BasicTicker\"},{\"attributes\":{\"coordinates\":null,\"group\":null,\"items\":[{\"id\":\"1056\"},{\"id\":\"1057\"}]},\"id\":\"1055\",\"type\":\"Legend\"},{\"attributes\":{\"index\":1,\"label\":{\"value\":\"No\"},\"renderers\":[{\"id\":\"1042\"}]},\"id\":\"1056\",\"type\":\"LegendItem\"},{\"attributes\":{\"tools\":[{\"id\":\"1020\"},{\"id\":\"1021\"},{\"id\":\"1022\"},{\"id\":\"1023\"},{\"id\":\"1024\"},{\"id\":\"1025\"}]},\"id\":\"1027\",\"type\":\"Toolbar\"},{\"attributes\":{},\"id\":\"1006\",\"type\":\"DataRange1d\"},{\"attributes\":{\"source\":{\"id\":\"1037\"}},\"id\":\"1043\",\"type\":\"CDSView\"},{\"attributes\":{\"axis\":{\"id\":\"1012\"},\"coordinates\":null,\"group\":null,\"ticker\":null},\"id\":\"1015\",\"type\":\"Grid\"},{\"attributes\":{\"index\":0,\"label\":{\"value\":\"Yes\"},\"renderers\":[{\"id\":\"1042\"}]},\"id\":\"1057\",\"type\":\"LegendItem\"},{\"attributes\":{\"factors\":[\"Yes\",\"No\"],\"palette\":[\"#1f77b4\",\"#ff7f0e\",\"#2ca02c\"]},\"id\":\"1036\",\"type\":\"CategoricalColorMapper\"},{\"attributes\":{\"fill_alpha\":{\"value\":0.5},\"fill_color\":{\"field\":\"Breakfast\",\"transform\":{\"id\":\"1036\"}},\"hatch_alpha\":{\"value\":0.5},\"hatch_color\":{\"field\":\"Breakfast\",\"transform\":{\"id\":\"1036\"}},\"line_alpha\":{\"value\":0.5},\"line_color\":{\"field\":\"Breakfast\",\"transform\":{\"id\":\"1036\"}},\"size\":{\"value\":8},\"x\":{\"field\":\"Hours\",\"transform\":{\"id\":\"1034\"}},\"y\":{\"field\":\"Tired\",\"transform\":{\"id\":\"1035\"}}},\"id\":\"1039\",\"type\":\"Scatter\"},{\"attributes\":{\"axis_label\":\"Time (hours)\",\"coordinates\":null,\"formatter\":{\"id\":\"1050\"},\"group\":null,\"major_label_policy\":{\"id\":\"1051\"},\"ticker\":{\"id\":\"1013\"}},\"id\":\"1012\",\"type\":\"LinearAxis\"}],\"root_ids\":[\"1003\"]},\"title\":\"Bokeh Application\",\"version\":\"2.4.2\"}};\n",
       "  const render_items = [{\"docid\":\"d78bd422-6698-4d1c-83f6-cb722d844be1\",\"root_ids\":[\"1003\"],\"roots\":{\"1003\":\"af56eead-56cc-468a-8229-d855693b8e4e\"}}];\n",
       "  root.Bokeh.embed.embed_items_notebook(docs_json, render_items);\n",
       "\n",
       "  }\n",
       "  if (root.Bokeh !== undefined) {\n",
       "    embed_document(root);\n",
       "  } else {\n",
       "    let attempts = 0;\n",
       "    const timer = setInterval(function(root) {\n",
       "      if (root.Bokeh !== undefined) {\n",
       "        clearInterval(timer);\n",
       "        embed_document(root);\n",
       "      } else {\n",
       "        attempts++;\n",
       "        if (attempts > 100) {\n",
       "          clearInterval(timer);\n",
       "          console.log(\"Bokeh: ERROR: Unable to run BokehJS code because BokehJS library is missing\");\n",
       "        }\n",
       "      }\n",
       "    }, 10, root)\n",
       "  }\n",
       "})(window);"
      ],
      "application/vnd.bokehjs_exec.v0+json": ""
     },
     "metadata": {
      "application/vnd.bokehjs_exec.v0+json": {
       "id": "1003"
      }
     },
     "output_type": "display_data"
    },
    {
     "name": "stdout",
     "output_type": "stream",
     "text": [
      "You can see that most of the participants sleep between 6 and 8 hours. Most of the people have a tiredness score of 3 or 4. \n",
      "You can clearly see that people who sleep more also ate breakfast and people who sleep less didn't had breakfast. \n",
      "So around 7 and 8 with a tiredness score of 3, most people ate breakfast because there are more blue points. Around 6 hours of sleep with a score of 3, most people didn't had breakfast colored in orange. There are more orange points on the left and more blue points on the right.\n"
     ]
    }
   ],
   "source": [
    "\"\"\"\n",
    "I choose to visualize the Hours vs Tiredness in scatterplot colored on Breakfast to see its relation.\n",
    "I used jitter to avoid the dots being plotted on top of each other and to give a better view of overlapping data points.\n",
    "I choose alpha = 0.5 to make it more transparent and view overlapping better.\n",
    "\"\"\"\n",
    "\n",
    "BREAKFAST = ['Yes', 'No']\n",
    "\n",
    "p = figure(width=900)\n",
    "p.xaxis.axis_label = \"Time (hours)\"\n",
    "p.yaxis.axis_label = \"Tiredness (score)\"\n",
    "\n",
    "# Plot Hours vs Tired colored on Breakfast\n",
    "p.scatter(x=jitter(\"Hours\", width=0.5), y=jitter(\"Tired\", width=0.5), source=df_sleep, legend_group=\"Breakfast\", size=8, alpha=0.5,\n",
    "          color=factor_cmap(\"Breakfast\", \"Category10_3\", BREAKFAST))\n",
    "\n",
    "# Show\n",
    "show(p)\n",
    "\n",
    "print(\"You can see that most of the participants sleep between 6 and 8 hours. Most of the people have a tiredness score of 3 or 4. \\\n",
    "\\nYou can clearly see that people who sleep more also ate breakfast and people who sleep less didn't had breakfast. \\\n",
    "\\nSo around 7 and 8 with a tiredness score of 3, most people ate breakfast because there are more blue points. \\\n",
    "Around 6 hours of sleep with a score of 3, most people didn't had breakfast colored in orange. \\\n",
    "There are more orange points on the left and more blue points on the right.\")"
   ]
  },
  {
   "cell_type": "markdown",
   "metadata": {},
   "source": [
    "---"
   ]
  },
  {
   "cell_type": "markdown",
   "metadata": {},
   "source": [
    "### Target statistics of the dependent variable"
   ]
  },
  {
   "cell_type": "code",
   "execution_count": 16,
   "metadata": {},
   "outputs": [
    {
     "name": "stdout",
     "output_type": "stream",
     "text": [
      "The basic statistics of the dependent variable are:\n",
      "count    102.000000\n",
      "mean       6.656863\n",
      "std        1.417676\n",
      "min        2.000000\n",
      "25%        6.000000\n",
      "50%        7.000000\n",
      "75%        7.000000\n",
      "max       10.000000\n",
      "Name: Hours, dtype: float64\n"
     ]
    }
   ],
   "source": [
    "\"\"\"\n",
    "I choose describe to make a quick overview of the basic statistics.\n",
    "\"\"\"\n",
    "\n",
    "print(f\"The basic statistics of the dependent variable are:\\n{df_sleep.Hours.describe()}\")"
   ]
  },
  {
   "cell_type": "code",
   "execution_count": 17,
   "metadata": {},
   "outputs": [
    {
     "name": "stdout",
     "output_type": "stream",
     "text": [
      "You can clearly see that there are 4 outliers. The mean as described above lies within 6 and 7 which you can see. \n",
      "Everything described above can be seen, however, not the excact values but it give a great overview of the Hours.\n"
     ]
    },
    {
     "data": {
      "image/png": "[encoded data removed]",
      "text/plain": [
       "<Figure size 1080x576 with 1 Axes>"
      ]
     },
     "metadata": {
      "needs_background": "light"
     },
     "output_type": "display_data"
    }
   ],
   "source": [
    "\"\"\"\n",
    "I choose to make a boxplot of the column 'Hours' to see the distribution of quantitative data. Just as described above.\n",
    "\"\"\"\n",
    "\n",
    "plt.figure(figsize=(15,8))\n",
    "\n",
    "# Plot the boxplot\n",
    "sns.boxplot(data=df_sleep, y=\"Hours\")\n",
    "\n",
    "print(\"You can clearly see that there are 4 outliers. The mean as described above lies within 6 and 7 which you can see. \\\n",
    "\\nEverything described above can be seen, however, not the excact values but it give a great overview of the Hours.\")"
   ]
  },
  {
   "cell_type": "code",
   "execution_count": 18,
   "metadata": {},
   "outputs": [
    {
     "name": "stdout",
     "output_type": "stream",
     "text": [
      "Not all data is on one line because there are two points that lie outside of the line. \n",
      "The data also does not run from ~ -3 to ~ 3 but starts around ~ -2 until ~ 3. So it is not normal distributed.\n"
     ]
    },
    {
     "data": {
      "image/png": "[encoded data removed]",
      "text/plain": [
       "<Figure size 432x288 with 1 Axes>"
      ]
     },
     "metadata": {
      "needs_background": "light"
     },
     "output_type": "display_data"
    }
   ],
   "source": [
    "\"\"\"\n",
    "I choose to make a qqplot to determine if the data of Hours is normally distributed.\n",
    "\"\"\"\n",
    "\n",
    "# Plot the qqplot\n",
    "sm.qqplot(df_sleep.Hours, fit=True, line=\"45\")\n",
    "\n",
    "print(\"Not all data is on one line because there are two points that lie outside of the line. \\\n",
    "\\nThe data also does not run from ~ -3 to ~ 3 but starts around ~ -2 until ~ 3. \\\n",
    "So it is not normal distributed.\")"
   ]
  },
  {
   "cell_type": "markdown",
   "metadata": {},
   "source": [
    "---"
   ]
  },
  {
   "cell_type": "markdown",
   "metadata": {},
   "source": [
    "### Heatmap"
   ]
  },
  {
   "cell_type": "code",
   "execution_count": 19,
   "metadata": {},
   "outputs": [
    {
     "data": {
      "text/html": [
       "\n",
       "\n",
       "\n",
       "\n",
       "\n",
       "\n",
       "  <div class=\"bk-root\" id=\"8232c0b9-7024-4073-89ac-e1ac124af980\" data-root-id=\"1125\"></div>\n"
      ]
     },
     "metadata": {},
     "output_type": "display_data"
    },
    {
     "data": {
      "application/javascript": [
       "(function(root) {\n",
       "  function embed_document(root) {\n",
       "    \n",
       "  const docs_json = {\"c4e92a3d-36a1-4449-bbdd-c2c5bf11160b\":{\"defs\":[{\"extends\":null,\"module\":null,\"name\":\"ReactiveHTML1\",\"overrides\":[],\"properties\":[]},{\"extends\":null,\"module\":null,\"name\":\"FlexBox1\",\"overrides\":[],\"properties\":[{\"default\":\"flex-start\",\"kind\":null,\"name\":\"align_content\"},{\"default\":\"flex-start\",\"kind\":null,\"name\":\"align_items\"},{\"default\":\"row\",\"kind\":null,\"name\":\"flex_direction\"},{\"default\":\"wrap\",\"kind\":null,\"name\":\"flex_wrap\"},{\"default\":\"flex-start\",\"kind\":null,\"name\":\"justify_content\"}]},{\"extends\":null,\"module\":null,\"name\":\"GridStack1\",\"overrides\":[],\"properties\":[{\"default\":\"warn\",\"kind\":null,\"name\":\"mode\"},{\"default\":null,\"kind\":null,\"name\":\"ncols\"},{\"default\":null,\"kind\":null,\"name\":\"nrows\"},{\"default\":true,\"kind\":null,\"name\":\"allow_resize\"},{\"default\":true,\"kind\":null,\"name\":\"allow_drag\"},{\"default\":[],\"kind\":null,\"name\":\"state\"}]},{\"extends\":null,\"module\":null,\"name\":\"click1\",\"overrides\":[],\"properties\":[{\"default\":\"\",\"kind\":null,\"name\":\"terminal_output\"},{\"default\":\"\",\"kind\":null,\"name\":\"debug_name\"},{\"default\":0,\"kind\":null,\"name\":\"clears\"}]},{\"extends\":null,\"module\":null,\"name\":\"TemplateActions1\",\"overrides\":[],\"properties\":[{\"default\":0,\"kind\":null,\"name\":\"open_modal\"},{\"default\":0,\"kind\":null,\"name\":\"close_modal\"}]},{\"extends\":null,\"module\":null,\"name\":\"MaterialTemplateActions1\",\"overrides\":[],\"properties\":[{\"default\":0,\"kind\":null,\"name\":\"open_modal\"},{\"default\":0,\"kind\":null,\"name\":\"close_modal\"}]}],\"roots\":{\"references\":[{\"attributes\":{\"above\":[{\"id\":\"1136\"}],\"center\":[{\"id\":\"1138\"},{\"id\":\"1141\"}],\"left\":[{\"id\":\"1139\"}],\"renderers\":[{\"id\":\"1161\"}],\"right\":[{\"id\":\"1165\"}],\"title\":{\"id\":\"1126\"},\"toolbar\":{\"id\":\"1149\"},\"toolbar_location\":null,\"width\":700,\"x_range\":{\"id\":\"1128\"},\"x_scale\":{\"id\":\"1132\"},\"y_range\":{\"id\":\"1130\"},\"y_scale\":{\"id\":\"1134\"}},\"id\":\"1125\",\"subtype\":\"Figure\",\"type\":\"Plot\"},{\"attributes\":{\"factors\":[\"Enough\",\"Hours\",\"PhoneReach\",\"PhoneTime\",\"Tired\"]},\"id\":\"1128\",\"type\":\"FactorRange\"},{\"attributes\":{},\"id\":\"1134\",\"type\":\"CategoricalScale\"},{\"attributes\":{\"axis\":{\"id\":\"1136\"},\"coordinates\":null,\"group\":null,\"ticker\":null},\"id\":\"1138\",\"type\":\"Grid\"},{\"attributes\":{},\"id\":\"1185\",\"type\":\"UnionRenderers\"},{\"attributes\":{},\"id\":\"1147\",\"type\":\"HelpTool\"},{\"attributes\":{},\"id\":\"1186\",\"type\":\"Selection\"},{\"attributes\":{\"source\":{\"id\":\"1156\"}},\"id\":\"1162\",\"type\":\"CDSView\"},{\"attributes\":{\"coordinates\":null,\"data_source\":{\"id\":\"1156\"},\"glyph\":{\"id\":\"1158\"},\"group\":null,\"hover_glyph\":null,\"muted_glyph\":{\"id\":\"1160\"},\"nonselection_glyph\":{\"id\":\"1159\"},\"view\":{\"id\":\"1162\"}},\"id\":\"1161\",\"type\":\"GlyphRenderer\"},{\"attributes\":{\"axis_line_color\":null,\"coordinates\":null,\"formatter\":{\"id\":\"1179\"},\"group\":null,\"major_label_policy\":{\"id\":\"1180\"},\"major_label_standoff\":0,\"major_label_text_font_size\":\"12px\",\"major_tick_line_color\":null,\"ticker\":{\"id\":\"1140\"}},\"id\":\"1139\",\"type\":\"CategoricalAxis\"},{\"attributes\":{\"fill_alpha\":{\"value\":0.2},\"fill_color\":{\"field\":\"r\",\"transform\":{\"id\":\"1124\"}},\"hatch_alpha\":{\"value\":0.2},\"height\":{\"value\":1},\"line_alpha\":{\"value\":0.2},\"line_color\":{\"value\":null},\"width\":{\"value\":1},\"x\":{\"field\":\"level_0\"},\"y\":{\"field\":\"level_1\"}},\"id\":\"1160\",\"type\":\"Rect\"},{\"attributes\":{\"fill_alpha\":{\"value\":0.1},\"fill_color\":{\"field\":\"r\",\"transform\":{\"id\":\"1124\"}},\"hatch_alpha\":{\"value\":0.1},\"height\":{\"value\":1},\"line_alpha\":{\"value\":0.1},\"line_color\":{\"value\":null},\"width\":{\"value\":1},\"x\":{\"field\":\"level_0\"},\"y\":{\"field\":\"level_1\"}},\"id\":\"1159\",\"type\":\"Rect\"},{\"attributes\":{\"coordinates\":null,\"group\":null,\"text\":\"Correlation Heatmap\"},\"id\":\"1126\",\"type\":\"Title\"},{\"attributes\":{},\"id\":\"1132\",\"type\":\"CategoricalScale\"},{\"attributes\":{\"bottom_units\":\"screen\",\"coordinates\":null,\"fill_alpha\":0.5,\"fill_color\":\"lightgrey\",\"group\":null,\"left_units\":\"screen\",\"level\":\"overlay\",\"line_alpha\":1.0,\"line_color\":\"black\",\"line_dash\":[4,4],\"line_width\":2,\"right_units\":\"screen\",\"syncable\":false,\"top_units\":\"screen\"},\"id\":\"1148\",\"type\":\"BoxAnnotation\"},{\"attributes\":{},\"id\":\"1137\",\"type\":\"CategoricalTicker\"},{\"attributes\":{\"factors\":[\"Tired\",\"PhoneTime\",\"PhoneReach\",\"Hours\",\"Enough\"]},\"id\":\"1130\",\"type\":\"FactorRange\"},{\"attributes\":{\"desired_num_ticks\":5},\"id\":\"1163\",\"type\":\"BasicTicker\"},{\"attributes\":{\"fill_color\":{\"field\":\"r\",\"transform\":{\"id\":\"1124\"}},\"height\":{\"value\":1},\"line_color\":{\"value\":null},\"width\":{\"value\":1},\"x\":{\"field\":\"level_0\"},\"y\":{\"field\":\"level_1\"}},\"id\":\"1158\",\"type\":\"Rect\"},{\"attributes\":{\"axis_line_color\":null,\"coordinates\":null,\"formatter\":{\"id\":\"1183\"},\"group\":null,\"major_label_orientation\":1,\"major_label_policy\":{\"id\":\"1184\"},\"major_label_standoff\":0,\"major_label_text_font_size\":\"12px\",\"major_tick_line_color\":null,\"ticker\":{\"id\":\"1137\"}},\"id\":\"1136\",\"type\":\"CategoricalAxis\"},{\"attributes\":{\"tools\":[{\"id\":\"1142\"},{\"id\":\"1143\"},{\"id\":\"1144\"},{\"id\":\"1145\"},{\"id\":\"1146\"},{\"id\":\"1147\"}]},\"id\":\"1149\",\"type\":\"Toolbar\"},{\"attributes\":{},\"id\":\"1179\",\"type\":\"CategoricalTickFormatter\"},{\"attributes\":{\"data\":{\"index\":[0,1,2,3,4,5,6,7,8,9,10,11,12,13,14,15,16,17,18,19,20,21,22,23,24],\"level_0\":[\"Enough\",\"Enough\",\"Enough\",\"Enough\",\"Enough\",\"Hours\",\"Hours\",\"Hours\",\"Hours\",\"Hours\",\"PhoneReach\",\"PhoneReach\",\"PhoneReach\",\"PhoneReach\",\"PhoneReach\",\"PhoneTime\",\"PhoneTime\",\"PhoneTime\",\"PhoneTime\",\"PhoneTime\",\"Tired\",\"Tired\",\"Tired\",\"Tired\",\"Tired\"],\"level_1\":[\"Enough\",\"Hours\",\"PhoneReach\",\"PhoneTime\",\"Tired\",\"Enough\",\"Hours\",\"PhoneReach\",\"PhoneTime\",\"Tired\",\"Enough\",\"Hours\",\"PhoneReach\",\"PhoneTime\",\"Tired\",\"Enough\",\"Hours\",\"PhoneReach\",\"PhoneTime\",\"Tired\",\"Enough\",\"Hours\",\"PhoneReach\",\"PhoneTime\",\"Tired\"],\"r\":{\"__ndarray__\":\"AAAAAAAA8D/9We82Cl7YPwxHTAttU6+/MEGez5IXmr/oYCmpQUTav/1Z7zYKXtg/AAAAAAAA8D+ZS/u7YCOsv8/dFVpaYMM/bPNOJ5iQyL8MR0wLbVOvv5lL+7tgI6y/AAAAAAAA8D8yK1urjZrGPyCbLtYJBre/MEGez5IXmr/P3RVaWmDDPzIrW6uNmsY/AAAAAAAA8D8RjXoO+OGgv+hgKalBRNq/bPNOJ5iQyL8gmy7WCQa3vxGNeg744aC/AAAAAAAA8D8=\",\"dtype\":\"float64\",\"order\":\"little\",\"shape\":[25]}},\"selected\":{\"id\":\"1186\"},\"selection_policy\":{\"id\":\"1185\"}},\"id\":\"1156\",\"type\":\"ColumnDataSource\"},{\"attributes\":{},\"id\":\"1180\",\"type\":\"AllLabels\"},{\"attributes\":{},\"id\":\"1181\",\"type\":\"NoOverlap\"},{\"attributes\":{},\"id\":\"1183\",\"type\":\"CategoricalTickFormatter\"},{\"attributes\":{\"format\":\"%.1f\"},\"id\":\"1164\",\"type\":\"PrintfTickFormatter\"},{\"attributes\":{},\"id\":\"1146\",\"type\":\"ResetTool\"},{\"attributes\":{},\"id\":\"1184\",\"type\":\"AllLabels\"},{\"attributes\":{},\"id\":\"1145\",\"type\":\"SaveTool\"},{\"attributes\":{\"color_mapper\":{\"id\":\"1124\"},\"coordinates\":null,\"formatter\":{\"id\":\"1164\"},\"group\":null,\"location\":[0,0],\"major_label_policy\":{\"id\":\"1181\"},\"ticker\":{\"id\":\"1163\"}},\"id\":\"1165\",\"type\":\"ColorBar\"},{\"attributes\":{\"overlay\":{\"id\":\"1148\"}},\"id\":\"1144\",\"type\":\"BoxZoomTool\"},{\"attributes\":{},\"id\":\"1142\",\"type\":\"PanTool\"},{\"attributes\":{},\"id\":\"1143\",\"type\":\"WheelZoomTool\"},{\"attributes\":{\"high\":1.0,\"low\":-0.41041604537669096,\"palette\":[\"#fff5eb\",\"#fff5ea\",\"#fff4e9\",\"#fff4e8\",\"#fff3e7\",\"#fff3e6\",\"#fff2e6\",\"#fff2e5\",\"#fff1e4\",\"#fff1e3\",\"#fff0e2\",\"#fff0e1\",\"#ffefe0\",\"#ffefdf\",\"#ffeede\",\"#ffeedd\",\"#feeddc\",\"#feeddc\",\"#feeddb\",\"#feecda\",\"#feecd9\",\"#feebd8\",\"#feebd7\",\"#feead6\",\"#feead5\",\"#fee9d4\",\"#fee9d3\",\"#fee8d2\",\"#fee8d2\",\"#fee7d1\",\"#fee7d0\",\"#fee6cf\",\"#fee6ce\",\"#fee5cc\",\"#fee5cb\",\"#fee4ca\",\"#fee3c8\",\"#fee2c7\",\"#fee2c6\",\"#fee1c4\",\"#fee0c3\",\"#fee0c1\",\"#fedfc0\",\"#fedebf\",\"#fedebd\",\"#feddbc\",\"#fedcbb\",\"#fedcb9\",\"#fddbb8\",\"#fddab6\",\"#fdd9b5\",\"#fdd9b4\",\"#fdd8b2\",\"#fdd7b1\",\"#fdd7af\",\"#fdd6ae\",\"#fdd5ad\",\"#fdd5ab\",\"#fdd4aa\",\"#fdd3a9\",\"#fdd3a7\",\"#fdd2a6\",\"#fdd1a4\",\"#fdd1a3\",\"#fdd0a2\",\"#fdcfa0\",\"#fdce9e\",\"#fdcd9c\",\"#fdcb9b\",\"#fdca99\",\"#fdc997\",\"#fdc895\",\"#fdc794\",\"#fdc692\",\"#fdc590\",\"#fdc48f\",\"#fdc38d\",\"#fdc28b\",\"#fdc189\",\"#fdc088\",\"#fdbf86\",\"#fdbe84\",\"#fdbd83\",\"#fdbb81\",\"#fdba7f\",\"#fdb97d\",\"#fdb87c\",\"#fdb77a\",\"#fdb678\",\"#fdb576\",\"#fdb475\",\"#fdb373\",\"#fdb271\",\"#fdb170\",\"#fdb06e\",\"#fdaf6c\",\"#fdae6a\",\"#fdad69\",\"#fdac67\",\"#fdab66\",\"#fda965\",\"#fda863\",\"#fda762\",\"#fda660\",\"#fda55f\",\"#fda45d\",\"#fda35c\",\"#fda25a\",\"#fda159\",\"#fda057\",\"#fd9f56\",\"#fd9e54\",\"#fd9d53\",\"#fd9c51\",\"#fd9b50\",\"#fd9a4e\",\"#fd994d\",\"#fd984b\",\"#fd974a\",\"#fd9649\",\"#fd9547\",\"#fd9446\",\"#fd9344\",\"#fd9243\",\"#fd9141\",\"#fd9040\",\"#fd8f3e\",\"#fd8e3d\",\"#fd8c3b\",\"#fc8b3a\",\"#fc8a39\",\"#fc8937\",\"#fb8836\",\"#fb8735\",\"#fb8634\",\"#fa8532\",\"#fa8331\",\"#f98230\",\"#f9812e\",\"#f9802d\",\"#f87f2c\",\"#f87e2b\",\"#f87d29\",\"#f77b28\",\"#f77a27\",\"#f67925\",\"#f67824\",\"#f67723\",\"#f57622\",\"#f57520\",\"#f5741f\",\"#f4721e\",\"#f4711c\",\"#f3701b\",\"#f36f1a\",\"#f36e19\",\"#f26d17\",\"#f26c16\",\"#f26b15\",\"#f16913\",\"#f16813\",\"#f06712\",\"#ef6612\",\"#ee6511\",\"#ee6410\",\"#ed6310\",\"#ec620f\",\"#eb610f\",\"#eb600e\",\"#ea5f0e\",\"#e95e0d\",\"#e85d0c\",\"#e75c0c\",\"#e75b0b\",\"#e65a0b\",\"#e5590a\",\"#e4580a\",\"#e45709\",\"#e35608\",\"#e25508\",\"#e15407\",\"#e15307\",\"#e05206\",\"#df5106\",\"#de5005\",\"#de4e05\",\"#dd4d04\",\"#dc4c03\",\"#db4b03\",\"#db4a02\",\"#da4902\",\"#d94801\",\"#d84801\",\"#d64701\",\"#d54601\",\"#d34601\",\"#d14501\",\"#d04501\",\"#ce4401\",\"#cd4401\",\"#cb4302\",\"#c94202\",\"#c84202\",\"#c64102\",\"#c54102\",\"#c34002\",\"#c14002\",\"#c03f02\",\"#be3f02\",\"#bd3e02\",\"#bb3d02\",\"#b93d02\",\"#b83c02\",\"#b63c02\",\"#b53b02\",\"#b33b02\",\"#b13a03\",\"#b03903\",\"#ae3903\",\"#ad3803\",\"#ab3803\",\"#a93703\",\"#a83703\",\"#a63603\",\"#a53603\",\"#a43503\",\"#a23503\",\"#a13403\",\"#a03403\",\"#9f3303\",\"#9e3303\",\"#9c3203\",\"#9b3203\",\"#9a3103\",\"#993103\",\"#973003\",\"#963003\",\"#952f03\",\"#942f03\",\"#932f03\",\"#912e04\",\"#902e04\",\"#8f2d04\",\"#8e2d04\",\"#8c2c04\",\"#8b2c04\",\"#8a2b04\",\"#892b04\",\"#882a04\",\"#862a04\",\"#852904\",\"#842904\",\"#832804\",\"#812804\",\"#802704\",\"#7f2704\"]},\"id\":\"1124\",\"type\":\"LinearColorMapper\"},{\"attributes\":{},\"id\":\"1140\",\"type\":\"CategoricalTicker\"},{\"attributes\":{\"axis\":{\"id\":\"1139\"},\"coordinates\":null,\"dimension\":1,\"group\":null,\"ticker\":null},\"id\":\"1141\",\"type\":\"Grid\"}],\"root_ids\":[\"1125\"]},\"title\":\"Bokeh Application\",\"version\":\"2.4.2\"}};\n",
       "  const render_items = [{\"docid\":\"c4e92a3d-36a1-4449-bbdd-c2c5bf11160b\",\"root_ids\":[\"1125\"],\"roots\":{\"1125\":\"8232c0b9-7024-4073-89ac-e1ac124af980\"}}];\n",
       "  root.Bokeh.embed.embed_items_notebook(docs_json, render_items);\n",
       "\n",
       "  }\n",
       "  if (root.Bokeh !== undefined) {\n",
       "    embed_document(root);\n",
       "  } else {\n",
       "    let attempts = 0;\n",
       "    const timer = setInterval(function(root) {\n",
       "      if (root.Bokeh !== undefined) {\n",
       "        clearInterval(timer);\n",
       "        embed_document(root);\n",
       "      } else {\n",
       "        attempts++;\n",
       "        if (attempts > 100) {\n",
       "          clearInterval(timer);\n",
       "          console.log(\"Bokeh: ERROR: Unable to run BokehJS code because BokehJS library is missing\");\n",
       "        }\n",
       "      }\n",
       "    }, 10, root)\n",
       "  }\n",
       "})(window);"
      ],
      "application/vnd.bokehjs_exec.v0+json": ""
     },
     "metadata": {
      "application/vnd.bokehjs_exec.v0+json": {
       "id": "1125"
      }
     },
     "output_type": "display_data"
    },
    {
     "name": "stdout",
     "output_type": "stream",
     "text": [
      "Based on the heatmap you can see that 'Tired' and 'Enough' aren't correlated compared to the other variables. \n",
      "The variables colored dark red are correlated with themselves. 'Hours' and 'Enough' are the most correlated compared to the \n",
      "others. 'PhoneReach' is the second most correlated with 'Enough' and 'Hours'.\n"
     ]
    }
   ],
   "source": [
    "\"\"\"\n",
    "I used the heatmap from the gitbook as reference. The heatmap shows the correlations between the variables.\n",
    "I used the Oranges256 palette reversed for the colors in the heatmap so that a cold color means \n",
    "not correlated and a warm color means correlated.\n",
    "\"\"\"\n",
    "\n",
    "# Get the correlations\n",
    "df_c = df_sleep_num.corr()\n",
    "\n",
    "# Define the ranges of the heatmap\n",
    "x_range = (list(df_c.index))\n",
    "y_range = (list(reversed(df_c.columns)))\n",
    "\n",
    "# Create a correlation data frame\n",
    "df_corr = pd.DataFrame(df_c.stack(), columns=[\"r\"]).reset_index()\n",
    "\n",
    "# Create the color mapper \n",
    "color_mapper = LinearColorMapper(palette=Oranges256[::-1], low=df_corr.r.min(), high=df_corr.r.max())\n",
    "\n",
    "# Create the heatmap\n",
    "p = figure(title=\"Correlation Heatmap\", plot_width=700,\n",
    "           x_range=x_range, y_range=y_range, x_axis_location=\"above\", toolbar_location=None)\n",
    "\n",
    "# Fill the rectangles in the heatmap with the color mapper\n",
    "p.rect(x=\"level_0\", y=\"level_1\", width=1, height=1, source=df_corr,\n",
    "       line_color=None, fill_color=transform(\"r\", color_mapper))\n",
    "\n",
    "# Create the color bar\n",
    "color_bar = ColorBar(color_mapper=color_mapper, location=(0, 0),\n",
    "                     ticker=BasicTicker(desired_num_ticks=len(x_range)), \n",
    "                     formatter=PrintfTickFormatter(format=\"%.1f\"))\n",
    "# Add the color bar\n",
    "p.add_layout(color_bar, \"right\")\n",
    "\n",
    "# Draw the axis\n",
    "p.axis.axis_line_color = None\n",
    "p.axis.major_tick_line_color = None\n",
    "p.axis.major_label_text_font_size = \"12px\"\n",
    "p.axis.major_label_standoff = 0\n",
    "p.xaxis.major_label_orientation = 1\n",
    "\n",
    "# Show the heatmap\n",
    "show(p)\n",
    "\n",
    "print(\"Based on the heatmap you can see that 'Tired' and 'Enough' aren't correlated compared to the other variables. \\\n",
    "\\nThe variables colored dark red are correlated with themselves. 'Hours' and 'Enough' are the most \\\n",
    "correlated compared to the \\nothers. 'PhoneReach' is the second most correlated with 'Enough' and 'Hours'.\")"
   ]
  },
  {
   "cell_type": "markdown",
   "metadata": {},
   "source": [
    "---"
   ]
  },
  {
   "cell_type": "markdown",
   "metadata": {},
   "source": [
    "<a name='2'></a>\n",
    "## Part 3: Check Assumptions\n",
    "\n",
    "Before we answer the research question with ANOVA we need to check the following assumptions:\n",
    "\n",
    "1. ANOVA assumes that the dependent variable is normaly distributed\n",
    "2. ANOVA also assumes homogeneity of variance\n",
    "3. ANOVA also assumes that the observations are independent of each other. Most of the time we need domain knowledge and experiment setup descriptions to estimate this assumption\n",
    "\n",
    "We are going to do this graphically and statistically. "
   ]
  },
  {
   "cell_type": "markdown",
   "metadata": {},
   "source": [
    "<a name='ex-31'></a>\n",
    "### Check normality (10 pt)\n",
    "\n",
    "<ul><li>\n",
    "Plot the distribution of the dependent variable. Add a vertical line at the position of the average. Add a vertical line for the robuust estimation. Add the normal distribution line to the plot. Comment on the normallity of the data. Do you want the full points? Plot with bokeh!</li>\n",
    "\n",
    "<li>Use a Shapiro-Wilk Test or an Anderson-Darling test to check statistically</li></ul>\n",
    "\n",
    "\n",
    "<details>    \n",
    "<summary>\n",
    "    <font size=\"3\" color=\"darkgreen\"><b>Hints</b></font>\n",
    "</summary>\n",
    "    <ul><li>check the code of lesson 1 DS1 bayesian statistics</li>\n",
    "        <li>heart_failure case of gitbook uses bokeh histograms</li>\n",
    "</ul>\n",
    "</details>"
   ]
  },
  {
   "cell_type": "code",
   "execution_count": 20,
   "metadata": {
    "scrolled": false
   },
   "outputs": [
    {
     "data": {
      "text/html": [
       "\n",
       "\n",
       "\n",
       "\n",
       "\n",
       "\n",
       "  <div class=\"bk-root\" id=\"08f23393-5180-4479-bfa6-bcf55df49aec\" data-root-id=\"1243\"></div>\n"
      ]
     },
     "metadata": {},
     "output_type": "display_data"
    },
    {
     "data": {
      "application/javascript": [
       "(function(root) {\n",
       "  function embed_document(root) {\n",
       "    \n",
       "  const docs_json = {\"b0fb13ac-2dc0-4a8f-a1ac-96833a1229f3\":{\"defs\":[{\"extends\":null,\"module\":null,\"name\":\"ReactiveHTML1\",\"overrides\":[],\"properties\":[]},{\"extends\":null,\"module\":null,\"name\":\"FlexBox1\",\"overrides\":[],\"properties\":[{\"default\":\"flex-start\",\"kind\":null,\"name\":\"align_content\"},{\"default\":\"flex-start\",\"kind\":null,\"name\":\"align_items\"},{\"default\":\"row\",\"kind\":null,\"name\":\"flex_direction\"},{\"default\":\"wrap\",\"kind\":null,\"name\":\"flex_wrap\"},{\"default\":\"flex-start\",\"kind\":null,\"name\":\"justify_content\"}]},{\"extends\":null,\"module\":null,\"name\":\"GridStack1\",\"overrides\":[],\"properties\":[{\"default\":\"warn\",\"kind\":null,\"name\":\"mode\"},{\"default\":null,\"kind\":null,\"name\":\"ncols\"},{\"default\":null,\"kind\":null,\"name\":\"nrows\"},{\"default\":true,\"kind\":null,\"name\":\"allow_resize\"},{\"default\":true,\"kind\":null,\"name\":\"allow_drag\"},{\"default\":[],\"kind\":null,\"name\":\"state\"}]},{\"extends\":null,\"module\":null,\"name\":\"click1\",\"overrides\":[],\"properties\":[{\"default\":\"\",\"kind\":null,\"name\":\"terminal_output\"},{\"default\":\"\",\"kind\":null,\"name\":\"debug_name\"},{\"default\":0,\"kind\":null,\"name\":\"clears\"}]},{\"extends\":null,\"module\":null,\"name\":\"TemplateActions1\",\"overrides\":[],\"properties\":[{\"default\":0,\"kind\":null,\"name\":\"open_modal\"},{\"default\":0,\"kind\":null,\"name\":\"close_modal\"}]},{\"extends\":null,\"module\":null,\"name\":\"MaterialTemplateActions1\",\"overrides\":[],\"properties\":[{\"default\":0,\"kind\":null,\"name\":\"open_modal\"},{\"default\":0,\"kind\":null,\"name\":\"close_modal\"}]}],\"roots\":{\"references\":[{\"attributes\":{\"below\":[{\"id\":\"1254\"}],\"center\":[{\"id\":\"1257\"},{\"id\":\"1261\"},{\"id\":\"1292\"}],\"left\":[{\"id\":\"1258\"}],\"renderers\":[{\"id\":\"1280\"},{\"id\":\"1298\"},{\"id\":\"1317\"},{\"id\":\"1338\"}],\"title\":{\"id\":\"1244\"},\"toolbar\":{\"id\":\"1269\"},\"toolbar_location\":null,\"width\":700,\"x_range\":{\"id\":\"1246\"},\"x_scale\":{\"id\":\"1250\"},\"y_range\":{\"id\":\"1248\"},\"y_scale\":{\"id\":\"1252\"}},\"id\":\"1243\",\"subtype\":\"Figure\",\"type\":\"Plot\"},{\"attributes\":{},\"id\":\"1267\",\"type\":\"HelpTool\"},{\"attributes\":{},\"id\":\"1288\",\"type\":\"AllLabels\"},{\"attributes\":{\"data\":{\"left\":{\"__ndarray__\":\"AAAAAAAAAEDHcRzHcRwHQI7jOI7jOA5AqqqqqqqqEkCO4ziO4zgWQHIcx3EcxxlAVVVVVVVVHUAcx3Ecx3EgQI7jOI7jOCJA\",\"dtype\":\"float64\",\"order\":\"little\",\"shape\":[9]},\"right\":{\"__ndarray__\":\"x3Ecx3EcB0CO4ziO4zgOQKqqqqqqqhJAjuM4juM4FkByHMdxHMcZQFVVVVVVVR1AHMdxHMdxIECO4ziO4zgiQAAAAAAAACRA\",\"dtype\":\"float64\",\"order\":\"little\",\"shape\":[9]},\"top\":[2,0,4,12,24,35,16,8,1]},\"selected\":{\"id\":\"1290\"},\"selection_policy\":{\"id\":\"1289\"}},\"id\":\"1276\",\"type\":\"ColumnDataSource\"},{\"attributes\":{\"bottom\":{\"value\":0},\"fill_alpha\":{\"value\":0.1},\"fill_color\":{\"value\":\"steelblue\"},\"hatch_alpha\":{\"value\":0.1},\"left\":{\"field\":\"left\"},\"line_alpha\":{\"value\":0.1},\"line_color\":{\"value\":\"white\"},\"right\":{\"field\":\"right\"},\"top\":{\"field\":\"top\"}},\"id\":\"1278\",\"type\":\"Quad\"},{\"attributes\":{},\"id\":\"1265\",\"type\":\"SaveTool\"},{\"attributes\":{},\"id\":\"1266\",\"type\":\"ResetTool\"},{\"attributes\":{\"coordinates\":null,\"group\":null},\"id\":\"1244\",\"type\":\"Title\"},{\"attributes\":{\"label\":{\"value\":\"Robust Estimate\"},\"renderers\":[{\"id\":\"1317\"}]},\"id\":\"1333\",\"type\":\"LegendItem\"},{\"attributes\":{\"data\":{\"y\":[0,35]},\"selected\":{\"id\":\"1310\"},\"selection_policy\":{\"id\":\"1309\"}},\"id\":\"1294\",\"type\":\"ColumnDataSource\"},{\"attributes\":{\"line_color\":\"orange\",\"line_width\":2,\"x\":{\"value\":6.6568627450980395},\"y\":{\"field\":\"y\"}},\"id\":\"1295\",\"type\":\"Line\"},{\"attributes\":{\"bottom_units\":\"screen\",\"coordinates\":null,\"fill_alpha\":0.5,\"fill_color\":\"lightgrey\",\"group\":null,\"left_units\":\"screen\",\"level\":\"overlay\",\"line_alpha\":1.0,\"line_color\":\"black\",\"line_dash\":[4,4],\"line_width\":2,\"right_units\":\"screen\",\"syncable\":false,\"top_units\":\"screen\"},\"id\":\"1268\",\"type\":\"BoxAnnotation\"},{\"attributes\":{\"bottom\":{\"value\":0},\"fill_color\":{\"value\":\"steelblue\"},\"left\":{\"field\":\"left\"},\"line_color\":{\"value\":\"white\"},\"right\":{\"field\":\"right\"},\"top\":{\"field\":\"top\"}},\"id\":\"1277\",\"type\":\"Quad\"},{\"attributes\":{},\"id\":\"1246\",\"type\":\"DataRange1d\"},{\"attributes\":{},\"id\":\"1289\",\"type\":\"UnionRenderers\"},{\"attributes\":{},\"id\":\"1252\",\"type\":\"LinearScale\"},{\"attributes\":{\"source\":{\"id\":\"1276\"}},\"id\":\"1281\",\"type\":\"CDSView\"},{\"attributes\":{},\"id\":\"1290\",\"type\":\"Selection\"},{\"attributes\":{\"label\":{\"value\":\"Hours\"},\"renderers\":[{\"id\":\"1280\"}]},\"id\":\"1293\",\"type\":\"LegendItem\"},{\"attributes\":{\"axis_label\":\"Frequency\",\"coordinates\":null,\"formatter\":{\"id\":\"1284\"},\"group\":null,\"major_label_policy\":{\"id\":\"1285\"},\"ticker\":{\"id\":\"1259\"}},\"id\":\"1258\",\"type\":\"LinearAxis\"},{\"attributes\":{},\"id\":\"1259\",\"type\":\"BasicTicker\"},{\"attributes\":{},\"id\":\"1285\",\"type\":\"AllLabels\"},{\"attributes\":{\"label\":{\"value\":\"Average\"},\"renderers\":[{\"id\":\"1298\"}]},\"id\":\"1312\",\"type\":\"LegendItem\"},{\"attributes\":{\"data\":{\"y\":[0,35]},\"selected\":{\"id\":\"1331\"},\"selection_policy\":{\"id\":\"1330\"}},\"id\":\"1313\",\"type\":\"ColumnDataSource\"},{\"attributes\":{\"source\":{\"id\":\"1334\"}},\"id\":\"1339\",\"type\":\"CDSView\"},{\"attributes\":{\"coordinates\":null,\"data_source\":{\"id\":\"1334\"},\"glyph\":{\"id\":\"1335\"},\"group\":null,\"hover_glyph\":null,\"muted_glyph\":{\"id\":\"1337\"},\"nonselection_glyph\":{\"id\":\"1336\"},\"view\":{\"id\":\"1339\"}},\"id\":\"1338\",\"type\":\"GlyphRenderer\"},{\"attributes\":{\"line_color\":\"orange\",\"line_dash\":[6,5],\"line_width\":2,\"x\":{\"value\":7.0},\"y\":{\"field\":\"y\"}},\"id\":\"1314\",\"type\":\"Line\"},{\"attributes\":{\"coordinates\":null,\"group\":null,\"items\":[{\"id\":\"1293\"},{\"id\":\"1312\"},{\"id\":\"1333\"},{\"id\":\"1356\"}]},\"id\":\"1292\",\"type\":\"Legend\"},{\"attributes\":{\"data\":{\"x\":{\"__ndarray__\":\"AAAAAAAAAED7lQK1fqUAQPYrBWr9SgFA8MEHH3zwAUDrVwrU+pUCQObtDIl5OwNA4YMPPvjgA0DcGRLzdoYEQNevFKj1KwVA0kUXXXTRBUDM2xkS83YGQMdxHMdxHAdAwgcffPDBB0C9nSExb2cIQLgzJObtDAlAsskmm2yyCUCuXylQ61cKQKj1KwVq/QpAo4suuuiiC0CeITFvZ0gMQJm3MyTm7QxAlE022WSTDUCO4ziO4zgOQIp5O0Ni3g5AhA8++OCDD0DAUqDWrxQQQL2dITFvZxBAuuiiiy66EEC4MyTm7QwRQLV+pUCtXxFAsskmm2yyEUCwFKj1KwUSQK5fKVDrVxJAq6qqqqqqEkCo9SsFav0SQKZArV8pUBNAo4suuuiiE0Cg1q8UqPUTQJ4hMW9nSBRAnGyyySabFECZtzMk5u0UQJYCtX6lQBVAlE022WSTFUCRmLczJOYVQI7jOI7jOBZAjC666KKLFkCKeTtDYt4WQIfEvJ0hMRdAhA8++OCDF0CCWr9SoNYXQH+lQK1fKRhAffDBBx98GEB6O0Ni3s4YQHeGxLydIRlAddFFF110GUByHMdxHMcZQHBnSMzbGRpAbbLJJptsGkBq/UqBWr8aQGhIzNsZEhtAZZNNNtlkG0Bj3s6QmLcbQGApUOtXChxAXnTRRRddHEBbv1Kg1q8cQFgK1PqVAh1AVlVVVVVVHUBToNavFKgdQFHrVwrU+h1ATjbZZJNNHkBMgVq/UqAeQEnM2xkS8x5ARhdddNFFH0BEYt7OkJgfQEGtXylQ6x9AIHzwwQcfIECeITFvZ0ggQBzHcRzHcSBAnGyyySabIEAaEvN2hsQgQJm3MyTm7SBAGF100UUXIUCWArV+pUAhQBWo9SsFaiFAlE022WSTIUAS83aGxLwhQJGYtzMk5iFAED744IMPIkCO4ziO4zgiQA6JeTtDYiJAjC666KKLIkAK1PqVArUiQIp5O0Ni3iJACB988MEHI0CHxLydITEjQAZq/UqBWiNAhA8++OCDI0ADtX6lQK0jQIJav1Kg1iNAAAAAAAAAJEA=\",\"dtype\":\"float64\",\"order\":\"little\",\"shape\":[100]},\"y\":{\"__ndarray__\":\"kqAiFoxHwz9YzxMRHkHHP1dN2rT19Ms/lhcOYAfA0D+imai/bwHUP6nBTvXI0Nc/rJMsfhtC3D8wwMqBvLXgP0jWJGaGsuM/I4Bl0JIk5z8yUXXdGxrrP2uoP6Vqou8/UqfEBOdm8j9tZ3mqxVb1PzAwofrjqfg/Nf/q1LVp/D91GPak/k8AQNpxfqxZqwJAH6xRHfZLBUBe9ROS2zYIQO4fPsX8cAtAtEPaAyP/DkAx0J/J63IRQH2Nbp6llBNAw8iuIp7mFUCg042TbWoYQLJBNj1XIRtAcpIVRDsMHkDhNd9ExJUgQLv8lX2XPyJAe8wOTkkDJEDSNMXTP+AlQLDuvQ+Q1SdAy6NXk/nhKUCB3Ps94wMsQLUnKTVZOS5ApXI4HgZAMEBJquRGqWoxQHS3BSYVmzJAHujZ0J7PM0BiiJVKdAY1QESNEkmgPTZA4/ilzg5zN0CqP1eOkqQ4QCMsTgrrzzlA9mEDV8vyOkDeSMFo4Qo8QIk+eczdFT1A0CEEqXsRPkDh8rriiPs+QEboDDnu0T9APB43mltJQECCeGDdDJ5AQLminJA+5kBAgwdeSkAhQUBBxWJagE5BQDc1fSCObUFAGFdA3xt+QUAAAAAAAIBBQDNgxMA1c0FAG183SN1XQUDEFBcfOy5BQFjeQBK39kBAp6HZg9qxQEBQElg1TmBAQLM2LZfXAkBAGkHBWqs0P0Dndz01e08+QEY0xMktWD1ATdQFEO9QPECScRnW/zs7QLgtg5qtGzpAyPddfkryOECLDGl2JcI3QKylxt6CjTZAZyN7kZVWNUDGulabeB80QJFMD6Yp6jJAn6MWKYS4MUAen1VtPYwwQIz/INXCzS5AeCj2/6CTLEAwPCEJfGwqQL5ydE5fWihA5zCSJfteJkDZzreMpnskQMKk+x9isSJAiN9iKtwAIUAAr65O69QeQGG5+g6Q3BtA3Q1GF1cYGUB4AscSfIcWQK5P/93TKBRAP2xnvdr6EUCQOTj1hPcPQLW+SE8AUwxAf4pmobIDCUCnRgbc4AQGQOewgOGgUQNAwApYnu7kAEA=\",\"dtype\":\"float64\",\"order\":\"little\",\"shape\":[100]}},\"selected\":{\"id\":\"1354\"},\"selection_policy\":{\"id\":\"1353\"}},\"id\":\"1334\",\"type\":\"ColumnDataSource\"},{\"attributes\":{},\"id\":\"1262\",\"type\":\"PanTool\"},{\"attributes\":{\"coordinates\":null,\"data_source\":{\"id\":\"1276\"},\"glyph\":{\"id\":\"1277\"},\"group\":null,\"hover_glyph\":null,\"muted_glyph\":{\"id\":\"1279\"},\"nonselection_glyph\":{\"id\":\"1278\"},\"view\":{\"id\":\"1281\"}},\"id\":\"1280\",\"type\":\"GlyphRenderer\"},{\"attributes\":{\"coordinates\":null,\"data_source\":{\"id\":\"1294\"},\"glyph\":{\"id\":\"1295\"},\"group\":null,\"hover_glyph\":null,\"muted_glyph\":{\"id\":\"1297\"},\"nonselection_glyph\":{\"id\":\"1296\"},\"view\":{\"id\":\"1299\"}},\"id\":\"1298\",\"type\":\"GlyphRenderer\"},{\"attributes\":{\"axis\":{\"id\":\"1254\"},\"coordinates\":null,\"group\":null,\"ticker\":null},\"id\":\"1257\",\"type\":\"Grid\"},{\"attributes\":{\"line_color\":\"orange\",\"line_width\":2,\"x\":{\"field\":\"x\"},\"y\":{\"field\":\"y\"}},\"id\":\"1335\",\"type\":\"Line\"},{\"attributes\":{\"bottom\":{\"value\":0},\"fill_alpha\":{\"value\":0.2},\"fill_color\":{\"value\":\"steelblue\"},\"hatch_alpha\":{\"value\":0.2},\"left\":{\"field\":\"left\"},\"line_alpha\":{\"value\":0.2},\"line_color\":{\"value\":\"white\"},\"right\":{\"field\":\"right\"},\"top\":{\"field\":\"top\"}},\"id\":\"1279\",\"type\":\"Quad\"},{\"attributes\":{\"source\":{\"id\":\"1294\"}},\"id\":\"1299\",\"type\":\"CDSView\"},{\"attributes\":{\"coordinates\":null,\"data_source\":{\"id\":\"1313\"},\"glyph\":{\"id\":\"1314\"},\"group\":null,\"hover_glyph\":null,\"muted_glyph\":{\"id\":\"1316\"},\"nonselection_glyph\":{\"id\":\"1315\"},\"view\":{\"id\":\"1318\"}},\"id\":\"1317\",\"type\":\"GlyphRenderer\"},{\"attributes\":{\"tools\":[{\"id\":\"1262\"},{\"id\":\"1263\"},{\"id\":\"1264\"},{\"id\":\"1265\"},{\"id\":\"1266\"},{\"id\":\"1267\"}]},\"id\":\"1269\",\"type\":\"Toolbar\"},{\"attributes\":{},\"id\":\"1250\",\"type\":\"LinearScale\"},{\"attributes\":{\"line_alpha\":0.1,\"line_color\":\"orange\",\"line_width\":2,\"x\":{\"value\":6.6568627450980395},\"y\":{\"field\":\"y\"}},\"id\":\"1296\",\"type\":\"Line\"},{\"attributes\":{\"line_alpha\":0.1,\"line_color\":\"orange\",\"line_width\":2,\"x\":{\"field\":\"x\"},\"y\":{\"field\":\"y\"}},\"id\":\"1336\",\"type\":\"Line\"},{\"attributes\":{\"line_alpha\":0.2,\"line_color\":\"orange\",\"line_width\":2,\"x\":{\"field\":\"x\"},\"y\":{\"field\":\"y\"}},\"id\":\"1337\",\"type\":\"Line\"},{\"attributes\":{\"source\":{\"id\":\"1313\"}},\"id\":\"1318\",\"type\":\"CDSView\"},{\"attributes\":{\"axis_label\":\"Time (hours)\",\"coordinates\":null,\"formatter\":{\"id\":\"1287\"},\"group\":null,\"major_label_policy\":{\"id\":\"1288\"},\"ticker\":{\"id\":\"1255\"}},\"id\":\"1254\",\"type\":\"LinearAxis\"},{\"attributes\":{\"overlay\":{\"id\":\"1268\"}},\"id\":\"1264\",\"type\":\"BoxZoomTool\"},{\"attributes\":{\"line_alpha\":0.2,\"line_color\":\"orange\",\"line_dash\":[6,5],\"line_width\":2,\"x\":{\"value\":7.0},\"y\":{\"field\":\"y\"}},\"id\":\"1316\",\"type\":\"Line\"},{\"attributes\":{},\"id\":\"1248\",\"type\":\"DataRange1d\"},{\"attributes\":{\"line_alpha\":0.2,\"line_color\":\"orange\",\"line_width\":2,\"x\":{\"value\":6.6568627450980395},\"y\":{\"field\":\"y\"}},\"id\":\"1297\",\"type\":\"Line\"},{\"attributes\":{},\"id\":\"1263\",\"type\":\"WheelZoomTool\"},{\"attributes\":{\"axis\":{\"id\":\"1258\"},\"coordinates\":null,\"dimension\":1,\"group\":null,\"ticker\":null},\"id\":\"1261\",\"type\":\"Grid\"},{\"attributes\":{\"label\":{\"value\":\"Normal Distribution\"},\"renderers\":[{\"id\":\"1338\"}]},\"id\":\"1356\",\"type\":\"LegendItem\"},{\"attributes\":{\"line_alpha\":0.1,\"line_color\":\"orange\",\"line_dash\":[6,5],\"line_width\":2,\"x\":{\"value\":7.0},\"y\":{\"field\":\"y\"}},\"id\":\"1315\",\"type\":\"Line\"},{\"attributes\":{},\"id\":\"1353\",\"type\":\"UnionRenderers\"},{\"attributes\":{},\"id\":\"1255\",\"type\":\"BasicTicker\"},{\"attributes\":{},\"id\":\"1331\",\"type\":\"Selection\"},{\"attributes\":{},\"id\":\"1354\",\"type\":\"Selection\"},{\"attributes\":{},\"id\":\"1310\",\"type\":\"Selection\"},{\"attributes\":{},\"id\":\"1330\",\"type\":\"UnionRenderers\"},{\"attributes\":{},\"id\":\"1284\",\"type\":\"BasicTickFormatter\"},{\"attributes\":{},\"id\":\"1309\",\"type\":\"UnionRenderers\"},{\"attributes\":{},\"id\":\"1287\",\"type\":\"BasicTickFormatter\"}],\"root_ids\":[\"1243\"]},\"title\":\"Bokeh Application\",\"version\":\"2.4.2\"}};\n",
       "  const render_items = [{\"docid\":\"b0fb13ac-2dc0-4a8f-a1ac-96833a1229f3\",\"root_ids\":[\"1243\"],\"roots\":{\"1243\":\"08f23393-5180-4479-bfa6-bcf55df49aec\"}}];\n",
       "  root.Bokeh.embed.embed_items_notebook(docs_json, render_items);\n",
       "\n",
       "  }\n",
       "  if (root.Bokeh !== undefined) {\n",
       "    embed_document(root);\n",
       "  } else {\n",
       "    let attempts = 0;\n",
       "    const timer = setInterval(function(root) {\n",
       "      if (root.Bokeh !== undefined) {\n",
       "        clearInterval(timer);\n",
       "        embed_document(root);\n",
       "      } else {\n",
       "        attempts++;\n",
       "        if (attempts > 100) {\n",
       "          clearInterval(timer);\n",
       "          console.log(\"Bokeh: ERROR: Unable to run BokehJS code because BokehJS library is missing\");\n",
       "        }\n",
       "      }\n",
       "    }, 10, root)\n",
       "  }\n",
       "})(window);"
      ],
      "application/vnd.bokehjs_exec.v0+json": ""
     },
     "metadata": {
      "application/vnd.bokehjs_exec.v0+json": {
       "id": "1243"
      }
     },
     "output_type": "display_data"
    }
   ],
   "source": [
    "\"\"\"\n",
    "I used bokeh to visualize the histogram together with the lines of the average, robust estimation, and the normal distribution.\n",
    "\"\"\"\n",
    "\n",
    "hours = df_sleep.Hours\n",
    "mu = np.mean(hours) # Mean of the data\n",
    "mu_R = np.median(hours) # Robust estimate\n",
    "\n",
    "sigma = np.std(hours) # Standard deviation\n",
    "\n",
    "# Define figure\n",
    "p = figure(width=700, toolbar_location=None, title=\"\")\n",
    "\n",
    "# Plot the histogram\n",
    "hist, edges = np.histogram(hours, bins=9) # Bins=9 otherwise it will look like there is missing data between 5 and 6\n",
    "p.quad(top=hist, bottom=0, left=edges[:-1], right=edges[1:],\n",
    "      fill_color=\"steelblue\", line_color=\"white\",\n",
    "      legend_label=\"Hours\")\n",
    "\n",
    "# Add a vertical line at the position of the average\n",
    "p.line(x=mu, y=[0, max(hours.value_counts())], legend_label=\"Average\", line_width=2, line_color=\"orange\")\n",
    "\n",
    "# Add a vertical line for the robust estimation \n",
    "p.line(x=mu_R, y=[0, max(hours.value_counts())], legend_label=\"Robust Estimate\", line_dash=\"6 5\", \n",
    "       line_width=2, line_color=\"orange\")\n",
    "\n",
    "# Create an array with x values\n",
    "x = np.linspace(min(hours), max(hours), 100)\n",
    "\n",
    "# Calculate the normal distribution\n",
    "pdf = norm.pdf(x, mu, sigma)\n",
    "# Normalize the curve to match the histogram height\n",
    "pdf *= max(hist) / max(pdf)\n",
    "\n",
    "# Add a line for the normal distribution\n",
    "p.line(x=x, y=pdf, legend_label=\"Normal Distribution\", line_width=2, line_color=\"orange\")\n",
    "\n",
    "# Define axis labels\n",
    "p.xaxis.axis_label = \"Time (hours)\"\n",
    "p.yaxis.axis_label = \"Frequency\"\n",
    "\n",
    "# Show the plot\n",
    "show(p)"
   ]
  },
  {
   "cell_type": "markdown",
   "metadata": {},
   "source": [
    "---"
   ]
  },
  {
   "cell_type": "code",
   "execution_count": 21,
   "metadata": {
    "scrolled": true
   },
   "outputs": [
    {
     "name": "stdout",
     "output_type": "stream",
     "text": [
      "--------------------------------------------------------------------------------\n",
      "Anderson-Darling-test for normality of data:\n",
      "     assuming Normal(mu | sigma2) data for dataset\n",
      "y.av = 6.66, s = 1.42, n = 102, alpha = 0.05\n",
      "H0: data follows normal distribution\n",
      "H1: data does not follow normal distribution\n",
      "AD = 2.67, AD* = 2.69, p-value = 8.92e-07, AD*.crit = 0.753\n",
      "--------------------------------------------------------------------------------\n",
      "\n",
      "The data doesn't look normally distributed as seen in the histogram, since it is not following the line everywhere. \n",
      "The anderson darling test has a p-value of 8.92e-07, which is lower than the alpha (0.05), thus p < 0.05. \n",
      "Thus the H0 is rejected and the H1 is accepted, meaning that the data doesn't follow a normal distribution.\n"
     ]
    }
   ],
   "source": [
    "\"\"\"\n",
    "I created a file that I import with the anderson darling test from the course bayesian statistics.\n",
    "This function gives a great overview of the anderson darling test.\n",
    "\"\"\"\n",
    "\n",
    "from AndersonDarling import DS_AndersonDarling_test_normal\n",
    "\n",
    "DS_AndersonDarling_test_normal(hours)\n",
    "\n",
    "print(\"\\nThe data doesn't look normally distributed as seen in the histogram, since it is not following the line everywhere. \\\n",
    "\\nThe anderson darling test has a p-value of 8.92e-07, which is lower than the alpha (0.05), thus p < 0.05. \\\n",
    "\\nThus the H0 is rejected and the H1 is accepted, meaning that the data doesn't follow a normal distribution.\")"
   ]
  },
  {
   "cell_type": "markdown",
   "metadata": {},
   "source": [
    "<a name='ex-32'></a>\n",
    "### Check homogeneity of variance (20 pt)\n",
    "\n",
    "<ul><li>\n",
    "Use boxplots for the check of homogeneity of variance. Do you want the full points? Plot with bokeh!</li>\n",
    "\n",
    "<li>Use a Levene’s & Bartlett’s Test of Equality (Homogeneity) of Variance to test equal variance statistically</li><ul>"
   ]
  },
  {
   "cell_type": "markdown",
   "metadata": {},
   "source": [
    "---"
   ]
  },
  {
   "cell_type": "code",
   "execution_count": 22,
   "metadata": {
    "scrolled": false
   },
   "outputs": [
    {
     "data": {
      "application/javascript": [
       "\n",
       "(function(root) {\n",
       "  function now() {\n",
       "    return new Date();\n",
       "  }\n",
       "\n",
       "  var force = true;\n",
       "\n",
       "  if (typeof root._bokeh_onload_callbacks === \"undefined\" || force === true) {\n",
       "    root._bokeh_onload_callbacks = [];\n",
       "    root._bokeh_is_loading = undefined;\n",
       "  }\n",
       "\n",
       "  if (typeof (root._bokeh_timeout) === \"undefined\" || force === true) {\n",
       "    root._bokeh_timeout = Date.now() + 5000;\n",
       "    root._bokeh_failed_load = false;\n",
       "  }\n",
       "\n",
       "  function run_callbacks() {\n",
       "    try {\n",
       "      root._bokeh_onload_callbacks.forEach(function(callback) {\n",
       "        if (callback != null)\n",
       "          callback();\n",
       "      });\n",
       "    } finally {\n",
       "      delete root._bokeh_onload_callbacks\n",
       "    }\n",
       "    console.debug(\"Bokeh: all callbacks have finished\");\n",
       "  }\n",
       "\n",
       "  function load_libs(css_urls, js_urls, js_modules, callback) {\n",
       "    if (css_urls == null) css_urls = [];\n",
       "    if (js_urls == null) js_urls = [];\n",
       "    if (js_modules == null) js_modules = [];\n",
       "\n",
       "    root._bokeh_onload_callbacks.push(callback);\n",
       "    if (root._bokeh_is_loading > 0) {\n",
       "      console.debug(\"Bokeh: BokehJS is being loaded, scheduling callback at\", now());\n",
       "      return null;\n",
       "    }\n",
       "    if (js_urls.length === 0 && js_modules.length === 0) {\n",
       "      run_callbacks();\n",
       "      return null;\n",
       "    }\n",
       "    console.debug(\"Bokeh: BokehJS not loaded, scheduling load and callback at\", now());\n",
       "\n",
       "    function on_load() {\n",
       "      root._bokeh_is_loading--;\n",
       "      if (root._bokeh_is_loading === 0) {\n",
       "        console.debug(\"Bokeh: all BokehJS libraries/stylesheets loaded\");\n",
       "        run_callbacks()\n",
       "      }\n",
       "    }\n",
       "\n",
       "    function on_error() {\n",
       "      console.error(\"failed to load \" + url);\n",
       "    }\n",
       "\n",
       "    for (var i = 0; i < css_urls.length; i++) {\n",
       "      var url = css_urls[i];\n",
       "      const element = document.createElement(\"link\");\n",
       "      element.onload = on_load;\n",
       "      element.onerror = on_error;\n",
       "      element.rel = \"stylesheet\";\n",
       "      element.type = \"text/css\";\n",
       "      element.href = url;\n",
       "      console.debug(\"Bokeh: injecting link tag for BokehJS stylesheet: \", url);\n",
       "      document.body.appendChild(element);\n",
       "    }\n",
       "\n",
       "    var skip = [];\n",
       "    if (window.requirejs) {\n",
       "      window.requirejs.config({'packages': {}, 'paths': {'gridstack': 'https://cdn.jsdelivr.net/npm/gridstack@4.2.5/dist/gridstack-h5'}, 'shim': {'gridstack': {'exports': 'GridStack'}}});\n",
       "      \n",
       "      require([\"gridstack\"], function(GridStack) {\n",
       "\t\n",
       "\twindow.GridStack = GridStack\n",
       "\t\n",
       "\ton_load()\n",
       "      })\n",
       "      \n",
       "      root._bokeh_is_loading = css_urls.length + 1;\n",
       "    } else {\n",
       "      root._bokeh_is_loading = css_urls.length + js_urls.length + js_modules.length;\n",
       "    }\n",
       "    if (((window['GridStack'] !== undefined) && (!(window['GridStack'] instanceof HTMLElement))) || window.requirejs) {\n",
       "      var urls = ['https://cdn.jsdelivr.net/npm/gridstack@4.2.5/dist/gridstack-h5.js'];\n",
       "      for (var i = 0; i < urls.length; i++) {\n",
       "        skip.push(urls[i])\n",
       "      }\n",
       "    }\n",
       "    for (var i = 0; i < js_urls.length; i++) {\n",
       "      var url = js_urls[i];\n",
       "      if (skip.indexOf(url) >= 0) {\n",
       "\tif (!window.requirejs) {\n",
       "\t  on_load();\n",
       "\t}\n",
       "\tcontinue;\n",
       "      }\n",
       "      var element = document.createElement('script');\n",
       "      element.onload = on_load;\n",
       "      element.onerror = on_error;\n",
       "      element.async = false;\n",
       "      element.src = url;\n",
       "      console.debug(\"Bokeh: injecting script tag for BokehJS library: \", url);\n",
       "      document.head.appendChild(element);\n",
       "    }\n",
       "    for (var i = 0; i < js_modules.length; i++) {\n",
       "      var url = js_modules[i];\n",
       "      if (skip.indexOf(url) >= 0) {\n",
       "\tif (!window.requirejs) {\n",
       "\t  on_load();\n",
       "\t}\n",
       "\tcontinue;\n",
       "      }\n",
       "      var element = document.createElement('script');\n",
       "      element.onload = on_load;\n",
       "      element.onerror = on_error;\n",
       "      element.async = false;\n",
       "      element.src = url;\n",
       "      element.type = \"module\";\n",
       "      console.debug(\"Bokeh: injecting script tag for BokehJS library: \", url);\n",
       "      document.head.appendChild(element);\n",
       "    }\n",
       "    if (!js_urls.length && !js_modules.length) {\n",
       "      on_load()\n",
       "    }\n",
       "  };\n",
       "\n",
       "  function inject_raw_css(css) {\n",
       "    const element = document.createElement(\"style\");\n",
       "    element.appendChild(document.createTextNode(css));\n",
       "    document.body.appendChild(element);\n",
       "  }\n",
       "\n",
       "  var js_urls = [\"https://cdn.bokeh.org/bokeh/release/bokeh-2.4.2.min.js\", \"https://cdn.bokeh.org/bokeh/release/bokeh-gl-2.4.2.min.js\", \"https://cdn.bokeh.org/bokeh/release/bokeh-widgets-2.4.2.min.js\", \"https://cdn.bokeh.org/bokeh/release/bokeh-tables-2.4.2.min.js\", \"https://cdn.bokeh.org/bokeh/release/bokeh-mathjax-2.4.2.min.js\", \"https://unpkg.com/@holoviz/panel@0.13.0/dist/panel.min.js\"];\n",
       "  var js_modules = [];\n",
       "  var css_urls = [\"https://unpkg.com/@holoviz/panel@0.13.0/dist/css/alerts.css\", \"https://unpkg.com/@holoviz/panel@0.13.0/dist/css/card.css\", \"https://unpkg.com/@holoviz/panel@0.13.0/dist/css/dataframe.css\", \"https://unpkg.com/@holoviz/panel@0.13.0/dist/css/debugger.css\", \"https://unpkg.com/@holoviz/panel@0.13.0/dist/css/json.css\", \"https://unpkg.com/@holoviz/panel@0.13.0/dist/css/loading.css\", \"https://unpkg.com/@holoviz/panel@0.13.0/dist/css/markdown.css\", \"https://unpkg.com/@holoviz/panel@0.13.0/dist/css/widgets.css\"];\n",
       "  var inline_js = [\n",
       "    function(Bokeh) {\n",
       "      inject_raw_css(\"\\n    .bk.pn-loading.arcs:before {\\n      background-image: url(\\\"data:image/svg+xml;base64,PHN2ZyB4bWxucz0iaHR0cDovL3d3dy53My5vcmcvMjAwMC9zdmciIHhtbG5zOnhsaW5rPSJodHRwOi8vd3d3LnczLm9yZy8xOTk5L3hsaW5rIiBzdHlsZT0ibWFyZ2luOiBhdXRvOyBiYWNrZ3JvdW5kOiBub25lOyBkaXNwbGF5OiBibG9jazsgc2hhcGUtcmVuZGVyaW5nOiBhdXRvOyIgdmlld0JveD0iMCAwIDEwMCAxMDAiIHByZXNlcnZlQXNwZWN0UmF0aW89InhNaWRZTWlkIj4gIDxjaXJjbGUgY3g9IjUwIiBjeT0iNTAiIHI9IjMyIiBzdHJva2Utd2lkdGg9IjgiIHN0cm9rZT0iI2MzYzNjMyIgc3Ryb2tlLWRhc2hhcnJheT0iNTAuMjY1NDgyNDU3NDM2NjkgNTAuMjY1NDgyNDU3NDM2NjkiIGZpbGw9Im5vbmUiIHN0cm9rZS1saW5lY2FwPSJyb3VuZCI+ICAgIDxhbmltYXRlVHJhbnNmb3JtIGF0dHJpYnV0ZU5hbWU9InRyYW5zZm9ybSIgdHlwZT0icm90YXRlIiByZXBlYXRDb3VudD0iaW5kZWZpbml0ZSIgZHVyPSIxcyIga2V5VGltZXM9IjA7MSIgdmFsdWVzPSIwIDUwIDUwOzM2MCA1MCA1MCI+PC9hbmltYXRlVHJhbnNmb3JtPiAgPC9jaXJjbGU+PC9zdmc+\\\");\\n      background-size: auto calc(min(50%, 400px));\\n    }\\n    \");\n",
       "    },\n",
       "    function(Bokeh) {\n",
       "      Bokeh.set_log_level(\"info\");\n",
       "    },\n",
       "    function(Bokeh) {} // ensure no trailing comma for IE\n",
       "  ];\n",
       "\n",
       "  function run_inline_js() {\n",
       "    if ((root.Bokeh !== undefined) || (force === true)) {\n",
       "      for (var i = 0; i < inline_js.length; i++) {\n",
       "        inline_js[i].call(root, root.Bokeh);\n",
       "      }} else if (Date.now() < root._bokeh_timeout) {\n",
       "      setTimeout(run_inline_js, 100);\n",
       "    } else if (!root._bokeh_failed_load) {\n",
       "      console.log(\"Bokeh: BokehJS failed to load within specified timeout.\");\n",
       "      root._bokeh_failed_load = true;\n",
       "    }\n",
       "  }\n",
       "\n",
       "  if (root._bokeh_is_loading === 0) {\n",
       "    console.debug(\"Bokeh: BokehJS loaded, going straight to plotting\");\n",
       "    run_inline_js();\n",
       "  } else {\n",
       "    load_libs(css_urls, js_urls, js_modules, function() {\n",
       "      console.debug(\"Bokeh: BokehJS plotting callback run at\", now());\n",
       "      run_inline_js();\n",
       "    });\n",
       "  }\n",
       "}(window));"
      ],
      "application/vnd.holoviews_load.v0+json": "\n(function(root) {\n  function now() {\n    return new Date();\n  }\n\n  var force = true;\n\n  if (typeof root._bokeh_onload_callbacks === \"undefined\" || force === true) {\n    root._bokeh_onload_callbacks = [];\n    root._bokeh_is_loading = undefined;\n  }\n\n  if (typeof (root._bokeh_timeout) === \"undefined\" || force === true) {\n    root._bokeh_timeout = Date.now() + 5000;\n    root._bokeh_failed_load = false;\n  }\n\n  function run_callbacks() {\n    try {\n      root._bokeh_onload_callbacks.forEach(function(callback) {\n        if (callback != null)\n          callback();\n      });\n    } finally {\n      delete root._bokeh_onload_callbacks\n    }\n    console.debug(\"Bokeh: all callbacks have finished\");\n  }\n\n  function load_libs(css_urls, js_urls, js_modules, callback) {\n    if (css_urls == null) css_urls = [];\n    if (js_urls == null) js_urls = [];\n    if (js_modules == null) js_modules = [];\n\n    root._bokeh_onload_callbacks.push(callback);\n    if (root._bokeh_is_loading > 0) {\n      console.debug(\"Bokeh: BokehJS is being loaded, scheduling callback at\", now());\n      return null;\n    }\n    if (js_urls.length === 0 && js_modules.length === 0) {\n      run_callbacks();\n      return null;\n    }\n    console.debug(\"Bokeh: BokehJS not loaded, scheduling load and callback at\", now());\n\n    function on_load() {\n      root._bokeh_is_loading--;\n      if (root._bokeh_is_loading === 0) {\n        console.debug(\"Bokeh: all BokehJS libraries/stylesheets loaded\");\n        run_callbacks()\n      }\n    }\n\n    function on_error() {\n      console.error(\"failed to load \" + url);\n    }\n\n    for (var i = 0; i < css_urls.length; i++) {\n      var url = css_urls[i];\n      const element = document.createElement(\"link\");\n      element.onload = on_load;\n      element.onerror = on_error;\n      element.rel = \"stylesheet\";\n      element.type = \"text/css\";\n      element.href = url;\n      console.debug(\"Bokeh: injecting link tag for BokehJS stylesheet: \", url);\n      document.body.appendChild(element);\n    }\n\n    var skip = [];\n    if (window.requirejs) {\n      window.requirejs.config({'packages': {}, 'paths': {'gridstack': 'https://cdn.jsdelivr.net/npm/gridstack@4.2.5/dist/gridstack-h5'}, 'shim': {'gridstack': {'exports': 'GridStack'}}});\n      \n      require([\"gridstack\"], function(GridStack) {\n\t\n\twindow.GridStack = GridStack\n\t\n\ton_load()\n      })\n      \n      root._bokeh_is_loading = css_urls.length + 1;\n    } else {\n      root._bokeh_is_loading = css_urls.length + js_urls.length + js_modules.length;\n    }\n    if (((window['GridStack'] !== undefined) && (!(window['GridStack'] instanceof HTMLElement))) || window.requirejs) {\n      var urls = ['https://cdn.jsdelivr.net/npm/gridstack@4.2.5/dist/gridstack-h5.js'];\n      for (var i = 0; i < urls.length; i++) {\n        skip.push(urls[i])\n      }\n    }\n    for (var i = 0; i < js_urls.length; i++) {\n      var url = js_urls[i];\n      if (skip.indexOf(url) >= 0) {\n\tif (!window.requirejs) {\n\t  on_load();\n\t}\n\tcontinue;\n      }\n      var element = document.createElement('script');\n      element.onload = on_load;\n      element.onerror = on_error;\n      element.async = false;\n      element.src = url;\n      console.debug(\"Bokeh: injecting script tag for BokehJS library: \", url);\n      document.head.appendChild(element);\n    }\n    for (var i = 0; i < js_modules.length; i++) {\n      var url = js_modules[i];\n      if (skip.indexOf(url) >= 0) {\n\tif (!window.requirejs) {\n\t  on_load();\n\t}\n\tcontinue;\n      }\n      var element = document.createElement('script');\n      element.onload = on_load;\n      element.onerror = on_error;\n      element.async = false;\n      element.src = url;\n      element.type = \"module\";\n      console.debug(\"Bokeh: injecting script tag for BokehJS library: \", url);\n      document.head.appendChild(element);\n    }\n    if (!js_urls.length && !js_modules.length) {\n      on_load()\n    }\n  };\n\n  function inject_raw_css(css) {\n    const element = document.createElement(\"style\");\n    element.appendChild(document.createTextNode(css));\n    document.body.appendChild(element);\n  }\n\n  var js_urls = [\"https://cdn.bokeh.org/bokeh/release/bokeh-2.4.2.min.js\", \"https://cdn.bokeh.org/bokeh/release/bokeh-gl-2.4.2.min.js\", \"https://cdn.bokeh.org/bokeh/release/bokeh-widgets-2.4.2.min.js\", \"https://cdn.bokeh.org/bokeh/release/bokeh-tables-2.4.2.min.js\", \"https://cdn.bokeh.org/bokeh/release/bokeh-mathjax-2.4.2.min.js\", \"https://unpkg.com/@holoviz/panel@0.13.0/dist/panel.min.js\"];\n  var js_modules = [];\n  var css_urls = [\"https://unpkg.com/@holoviz/panel@0.13.0/dist/css/alerts.css\", \"https://unpkg.com/@holoviz/panel@0.13.0/dist/css/card.css\", \"https://unpkg.com/@holoviz/panel@0.13.0/dist/css/dataframe.css\", \"https://unpkg.com/@holoviz/panel@0.13.0/dist/css/debugger.css\", \"https://unpkg.com/@holoviz/panel@0.13.0/dist/css/json.css\", \"https://unpkg.com/@holoviz/panel@0.13.0/dist/css/loading.css\", \"https://unpkg.com/@holoviz/panel@0.13.0/dist/css/markdown.css\", \"https://unpkg.com/@holoviz/panel@0.13.0/dist/css/widgets.css\"];\n  var inline_js = [\n    function(Bokeh) {\n      inject_raw_css(\"\\n    .bk.pn-loading.arcs:before {\\n      background-image: url(\\\"data:image/svg+xml;base64,PHN2ZyB4bWxucz0iaHR0cDovL3d3dy53My5vcmcvMjAwMC9zdmciIHhtbG5zOnhsaW5rPSJodHRwOi8vd3d3LnczLm9yZy8xOTk5L3hsaW5rIiBzdHlsZT0ibWFyZ2luOiBhdXRvOyBiYWNrZ3JvdW5kOiBub25lOyBkaXNwbGF5OiBibG9jazsgc2hhcGUtcmVuZGVyaW5nOiBhdXRvOyIgdmlld0JveD0iMCAwIDEwMCAxMDAiIHByZXNlcnZlQXNwZWN0UmF0aW89InhNaWRZTWlkIj4gIDxjaXJjbGUgY3g9IjUwIiBjeT0iNTAiIHI9IjMyIiBzdHJva2Utd2lkdGg9IjgiIHN0cm9rZT0iI2MzYzNjMyIgc3Ryb2tlLWRhc2hhcnJheT0iNTAuMjY1NDgyNDU3NDM2NjkgNTAuMjY1NDgyNDU3NDM2NjkiIGZpbGw9Im5vbmUiIHN0cm9rZS1saW5lY2FwPSJyb3VuZCI+ICAgIDxhbmltYXRlVHJhbnNmb3JtIGF0dHJpYnV0ZU5hbWU9InRyYW5zZm9ybSIgdHlwZT0icm90YXRlIiByZXBlYXRDb3VudD0iaW5kZWZpbml0ZSIgZHVyPSIxcyIga2V5VGltZXM9IjA7MSIgdmFsdWVzPSIwIDUwIDUwOzM2MCA1MCA1MCI+PC9hbmltYXRlVHJhbnNmb3JtPiAgPC9jaXJjbGU+PC9zdmc+\\\");\\n      background-size: auto calc(min(50%, 400px));\\n    }\\n    \");\n    },\n    function(Bokeh) {\n      Bokeh.set_log_level(\"info\");\n    },\n    function(Bokeh) {} // ensure no trailing comma for IE\n  ];\n\n  function run_inline_js() {\n    if ((root.Bokeh !== undefined) || (force === true)) {\n      for (var i = 0; i < inline_js.length; i++) {\n        inline_js[i].call(root, root.Bokeh);\n      }} else if (Date.now() < root._bokeh_timeout) {\n      setTimeout(run_inline_js, 100);\n    } else if (!root._bokeh_failed_load) {\n      console.log(\"Bokeh: BokehJS failed to load within specified timeout.\");\n      root._bokeh_failed_load = true;\n    }\n  }\n\n  if (root._bokeh_is_loading === 0) {\n    console.debug(\"Bokeh: BokehJS loaded, going straight to plotting\");\n    run_inline_js();\n  } else {\n    load_libs(css_urls, js_urls, js_modules, function() {\n      console.debug(\"Bokeh: BokehJS plotting callback run at\", now());\n      run_inline_js();\n    });\n  }\n}(window));"
     },
     "metadata": {},
     "output_type": "display_data"
    },
    {
     "data": {
      "application/javascript": [
       "\n",
       "if ((window.PyViz === undefined) || (window.PyViz instanceof HTMLElement)) {\n",
       "  window.PyViz = {comms: {}, comm_status:{}, kernels:{}, receivers: {}, plot_index: []}\n",
       "}\n",
       "\n",
       "\n",
       "    function JupyterCommManager() {\n",
       "    }\n",
       "\n",
       "    JupyterCommManager.prototype.register_target = function(plot_id, comm_id, msg_handler) {\n",
       "      if (window.comm_manager || ((window.Jupyter !== undefined) && (Jupyter.notebook.kernel != null))) {\n",
       "        var comm_manager = window.comm_manager || Jupyter.notebook.kernel.comm_manager;\n",
       "        comm_manager.register_target(comm_id, function(comm) {\n",
       "          comm.on_msg(msg_handler);\n",
       "        });\n",
       "      } else if ((plot_id in window.PyViz.kernels) && (window.PyViz.kernels[plot_id])) {\n",
       "        window.PyViz.kernels[plot_id].registerCommTarget(comm_id, function(comm) {\n",
       "          comm.onMsg = msg_handler;\n",
       "        });\n",
       "      } else if (typeof google != 'undefined' && google.colab.kernel != null) {\n",
       "        google.colab.kernel.comms.registerTarget(comm_id, (comm) => {\n",
       "          var messages = comm.messages[Symbol.asyncIterator]();\n",
       "          function processIteratorResult(result) {\n",
       "            var message = result.value;\n",
       "            console.log(message)\n",
       "            var content = {data: message.data, comm_id};\n",
       "            var buffers = []\n",
       "            for (var buffer of message.buffers || []) {\n",
       "              buffers.push(new DataView(buffer))\n",
       "            }\n",
       "            var metadata = message.metadata || {};\n",
       "            var msg = {content, buffers, metadata}\n",
       "            msg_handler(msg);\n",
       "            return messages.next().then(processIteratorResult);\n",
       "          }\n",
       "          return messages.next().then(processIteratorResult);\n",
       "        })\n",
       "      }\n",
       "    }\n",
       "\n",
       "    JupyterCommManager.prototype.get_client_comm = function(plot_id, comm_id, msg_handler) {\n",
       "      if (comm_id in window.PyViz.comms) {\n",
       "        return window.PyViz.comms[comm_id];\n",
       "      } else if (window.comm_manager || ((window.Jupyter !== undefined) && (Jupyter.notebook.kernel != null))) {\n",
       "        var comm_manager = window.comm_manager || Jupyter.notebook.kernel.comm_manager;\n",
       "        var comm = comm_manager.new_comm(comm_id, {}, {}, {}, comm_id);\n",
       "        if (msg_handler) {\n",
       "          comm.on_msg(msg_handler);\n",
       "        }\n",
       "      } else if ((plot_id in window.PyViz.kernels) && (window.PyViz.kernels[plot_id])) {\n",
       "        var comm = window.PyViz.kernels[plot_id].connectToComm(comm_id);\n",
       "        comm.open();\n",
       "        if (msg_handler) {\n",
       "          comm.onMsg = msg_handler;\n",
       "        }\n",
       "      } else if (typeof google != 'undefined' && google.colab.kernel != null) {\n",
       "        var comm_promise = google.colab.kernel.comms.open(comm_id)\n",
       "        comm_promise.then((comm) => {\n",
       "          window.PyViz.comms[comm_id] = comm;\n",
       "          if (msg_handler) {\n",
       "            var messages = comm.messages[Symbol.asyncIterator]();\n",
       "            function processIteratorResult(result) {\n",
       "              var message = result.value;\n",
       "              var content = {data: message.data};\n",
       "              var metadata = message.metadata || {comm_id};\n",
       "              var msg = {content, metadata}\n",
       "              msg_handler(msg);\n",
       "              return messages.next().then(processIteratorResult);\n",
       "            }\n",
       "            return messages.next().then(processIteratorResult);\n",
       "          }\n",
       "        }) \n",
       "        var sendClosure = (data, metadata, buffers, disposeOnDone) => {\n",
       "          return comm_promise.then((comm) => {\n",
       "            comm.send(data, metadata, buffers, disposeOnDone);\n",
       "          });\n",
       "        };\n",
       "        var comm = {\n",
       "          send: sendClosure\n",
       "        };\n",
       "      }\n",
       "      window.PyViz.comms[comm_id] = comm;\n",
       "      return comm;\n",
       "    }\n",
       "    window.PyViz.comm_manager = new JupyterCommManager();\n",
       "    \n",
       "\n",
       "\n",
       "var JS_MIME_TYPE = 'application/javascript';\n",
       "var HTML_MIME_TYPE = 'text/html';\n",
       "var EXEC_MIME_TYPE = 'application/vnd.holoviews_exec.v0+json';\n",
       "var CLASS_NAME = 'output';\n",
       "\n",
       "/**\n",
       " * Render data to the DOM node\n",
       " */\n",
       "function render(props, node) {\n",
       "  var div = document.createElement(\"div\");\n",
       "  var script = document.createElement(\"script\");\n",
       "  node.appendChild(div);\n",
       "  node.appendChild(script);\n",
       "}\n",
       "\n",
       "/**\n",
       " * Handle when a new output is added\n",
       " */\n",
       "function handle_add_output(event, handle) {\n",
       "  var output_area = handle.output_area;\n",
       "  var output = handle.output;\n",
       "  if ((output.data == undefined) || (!output.data.hasOwnProperty(EXEC_MIME_TYPE))) {\n",
       "    return\n",
       "  }\n",
       "  var id = output.metadata[EXEC_MIME_TYPE][\"id\"];\n",
       "  var toinsert = output_area.element.find(\".\" + CLASS_NAME.split(' ')[0]);\n",
       "  if (id !== undefined) {\n",
       "    var nchildren = toinsert.length;\n",
       "    var html_node = toinsert[nchildren-1].children[0];\n",
       "    html_node.innerHTML = output.data[HTML_MIME_TYPE];\n",
       "    var scripts = [];\n",
       "    var nodelist = html_node.querySelectorAll(\"script\");\n",
       "    for (var i in nodelist) {\n",
       "      if (nodelist.hasOwnProperty(i)) {\n",
       "        scripts.push(nodelist[i])\n",
       "      }\n",
       "    }\n",
       "\n",
       "    scripts.forEach( function (oldScript) {\n",
       "      var newScript = document.createElement(\"script\");\n",
       "      var attrs = [];\n",
       "      var nodemap = oldScript.attributes;\n",
       "      for (var j in nodemap) {\n",
       "        if (nodemap.hasOwnProperty(j)) {\n",
       "          attrs.push(nodemap[j])\n",
       "        }\n",
       "      }\n",
       "      attrs.forEach(function(attr) { newScript.setAttribute(attr.name, attr.value) });\n",
       "      newScript.appendChild(document.createTextNode(oldScript.innerHTML));\n",
       "      oldScript.parentNode.replaceChild(newScript, oldScript);\n",
       "    });\n",
       "    if (JS_MIME_TYPE in output.data) {\n",
       "      toinsert[nchildren-1].children[1].textContent = output.data[JS_MIME_TYPE];\n",
       "    }\n",
       "    output_area._hv_plot_id = id;\n",
       "    if ((window.Bokeh !== undefined) && (id in Bokeh.index)) {\n",
       "      window.PyViz.plot_index[id] = Bokeh.index[id];\n",
       "    } else {\n",
       "      window.PyViz.plot_index[id] = null;\n",
       "    }\n",
       "  } else if (output.metadata[EXEC_MIME_TYPE][\"server_id\"] !== undefined) {\n",
       "    var bk_div = document.createElement(\"div\");\n",
       "    bk_div.innerHTML = output.data[HTML_MIME_TYPE];\n",
       "    var script_attrs = bk_div.children[0].attributes;\n",
       "    for (var i = 0; i < script_attrs.length; i++) {\n",
       "      toinsert[toinsert.length - 1].childNodes[1].setAttribute(script_attrs[i].name, script_attrs[i].value);\n",
       "    }\n",
       "    // store reference to server id on output_area\n",
       "    output_area._bokeh_server_id = output.metadata[EXEC_MIME_TYPE][\"server_id\"];\n",
       "  }\n",
       "}\n",
       "\n",
       "/**\n",
       " * Handle when an output is cleared or removed\n",
       " */\n",
       "function handle_clear_output(event, handle) {\n",
       "  var id = handle.cell.output_area._hv_plot_id;\n",
       "  var server_id = handle.cell.output_area._bokeh_server_id;\n",
       "  if (((id === undefined) || !(id in PyViz.plot_index)) && (server_id !== undefined)) { return; }\n",
       "  var comm = window.PyViz.comm_manager.get_client_comm(\"hv-extension-comm\", \"hv-extension-comm\", function () {});\n",
       "  if (server_id !== null) {\n",
       "    comm.send({event_type: 'server_delete', 'id': server_id});\n",
       "    return;\n",
       "  } else if (comm !== null) {\n",
       "    comm.send({event_type: 'delete', 'id': id});\n",
       "  }\n",
       "  delete PyViz.plot_index[id];\n",
       "  if ((window.Bokeh !== undefined) & (id in window.Bokeh.index)) {\n",
       "    var doc = window.Bokeh.index[id].model.document\n",
       "    doc.clear();\n",
       "    const i = window.Bokeh.documents.indexOf(doc);\n",
       "    if (i > -1) {\n",
       "      window.Bokeh.documents.splice(i, 1);\n",
       "    }\n",
       "  }\n",
       "}\n",
       "\n",
       "/**\n",
       " * Handle kernel restart event\n",
       " */\n",
       "function handle_kernel_cleanup(event, handle) {\n",
       "  delete PyViz.comms[\"hv-extension-comm\"];\n",
       "  window.PyViz.plot_index = {}\n",
       "}\n",
       "\n",
       "/**\n",
       " * Handle update_display_data messages\n",
       " */\n",
       "function handle_update_output(event, handle) {\n",
       "  handle_clear_output(event, {cell: {output_area: handle.output_area}})\n",
       "  handle_add_output(event, handle)\n",
       "}\n",
       "\n",
       "function register_renderer(events, OutputArea) {\n",
       "  function append_mime(data, metadata, element) {\n",
       "    // create a DOM node to render to\n",
       "    var toinsert = this.create_output_subarea(\n",
       "    metadata,\n",
       "    CLASS_NAME,\n",
       "    EXEC_MIME_TYPE\n",
       "    );\n",
       "    this.keyboard_manager.register_events(toinsert);\n",
       "    // Render to node\n",
       "    var props = {data: data, metadata: metadata[EXEC_MIME_TYPE]};\n",
       "    render(props, toinsert[0]);\n",
       "    element.append(toinsert);\n",
       "    return toinsert\n",
       "  }\n",
       "\n",
       "  events.on('output_added.OutputArea', handle_add_output);\n",
       "  events.on('output_updated.OutputArea', handle_update_output);\n",
       "  events.on('clear_output.CodeCell', handle_clear_output);\n",
       "  events.on('delete.Cell', handle_clear_output);\n",
       "  events.on('kernel_ready.Kernel', handle_kernel_cleanup);\n",
       "\n",
       "  OutputArea.prototype.register_mime_type(EXEC_MIME_TYPE, append_mime, {\n",
       "    safe: true,\n",
       "    index: 0\n",
       "  });\n",
       "}\n",
       "\n",
       "if (window.Jupyter !== undefined) {\n",
       "  try {\n",
       "    var events = require('base/js/events');\n",
       "    var OutputArea = require('notebook/js/outputarea').OutputArea;\n",
       "    if (OutputArea.prototype.mime_types().indexOf(EXEC_MIME_TYPE) == -1) {\n",
       "      register_renderer(events, OutputArea);\n",
       "    }\n",
       "  } catch(err) {\n",
       "  }\n",
       "}\n"
      ],
      "application/vnd.holoviews_load.v0+json": "\nif ((window.PyViz === undefined) || (window.PyViz instanceof HTMLElement)) {\n  window.PyViz = {comms: {}, comm_status:{}, kernels:{}, receivers: {}, plot_index: []}\n}\n\n\n    function JupyterCommManager() {\n    }\n\n    JupyterCommManager.prototype.register_target = function(plot_id, comm_id, msg_handler) {\n      if (window.comm_manager || ((window.Jupyter !== undefined) && (Jupyter.notebook.kernel != null))) {\n        var comm_manager = window.comm_manager || Jupyter.notebook.kernel.comm_manager;\n        comm_manager.register_target(comm_id, function(comm) {\n          comm.on_msg(msg_handler);\n        });\n      } else if ((plot_id in window.PyViz.kernels) && (window.PyViz.kernels[plot_id])) {\n        window.PyViz.kernels[plot_id].registerCommTarget(comm_id, function(comm) {\n          comm.onMsg = msg_handler;\n        });\n      } else if (typeof google != 'undefined' && google.colab.kernel != null) {\n        google.colab.kernel.comms.registerTarget(comm_id, (comm) => {\n          var messages = comm.messages[Symbol.asyncIterator]();\n          function processIteratorResult(result) {\n            var message = result.value;\n            console.log(message)\n            var content = {data: message.data, comm_id};\n            var buffers = []\n            for (var buffer of message.buffers || []) {\n              buffers.push(new DataView(buffer))\n            }\n            var metadata = message.metadata || {};\n            var msg = {content, buffers, metadata}\n            msg_handler(msg);\n            return messages.next().then(processIteratorResult);\n          }\n          return messages.next().then(processIteratorResult);\n        })\n      }\n    }\n\n    JupyterCommManager.prototype.get_client_comm = function(plot_id, comm_id, msg_handler) {\n      if (comm_id in window.PyViz.comms) {\n        return window.PyViz.comms[comm_id];\n      } else if (window.comm_manager || ((window.Jupyter !== undefined) && (Jupyter.notebook.kernel != null))) {\n        var comm_manager = window.comm_manager || Jupyter.notebook.kernel.comm_manager;\n        var comm = comm_manager.new_comm(comm_id, {}, {}, {}, comm_id);\n        if (msg_handler) {\n          comm.on_msg(msg_handler);\n        }\n      } else if ((plot_id in window.PyViz.kernels) && (window.PyViz.kernels[plot_id])) {\n        var comm = window.PyViz.kernels[plot_id].connectToComm(comm_id);\n        comm.open();\n        if (msg_handler) {\n          comm.onMsg = msg_handler;\n        }\n      } else if (typeof google != 'undefined' && google.colab.kernel != null) {\n        var comm_promise = google.colab.kernel.comms.open(comm_id)\n        comm_promise.then((comm) => {\n          window.PyViz.comms[comm_id] = comm;\n          if (msg_handler) {\n            var messages = comm.messages[Symbol.asyncIterator]();\n            function processIteratorResult(result) {\n              var message = result.value;\n              var content = {data: message.data};\n              var metadata = message.metadata || {comm_id};\n              var msg = {content, metadata}\n              msg_handler(msg);\n              return messages.next().then(processIteratorResult);\n            }\n            return messages.next().then(processIteratorResult);\n          }\n        }) \n        var sendClosure = (data, metadata, buffers, disposeOnDone) => {\n          return comm_promise.then((comm) => {\n            comm.send(data, metadata, buffers, disposeOnDone);\n          });\n        };\n        var comm = {\n          send: sendClosure\n        };\n      }\n      window.PyViz.comms[comm_id] = comm;\n      return comm;\n    }\n    window.PyViz.comm_manager = new JupyterCommManager();\n    \n\n\nvar JS_MIME_TYPE = 'application/javascript';\nvar HTML_MIME_TYPE = 'text/html';\nvar EXEC_MIME_TYPE = 'application/vnd.holoviews_exec.v0+json';\nvar CLASS_NAME = 'output';\n\n/**\n * Render data to the DOM node\n */\nfunction render(props, node) {\n  var div = document.createElement(\"div\");\n  var script = document.createElement(\"script\");\n  node.appendChild(div);\n  node.appendChild(script);\n}\n\n/**\n * Handle when a new output is added\n */\nfunction handle_add_output(event, handle) {\n  var output_area = handle.output_area;\n  var output = handle.output;\n  if ((output.data == undefined) || (!output.data.hasOwnProperty(EXEC_MIME_TYPE))) {\n    return\n  }\n  var id = output.metadata[EXEC_MIME_TYPE][\"id\"];\n  var toinsert = output_area.element.find(\".\" + CLASS_NAME.split(' ')[0]);\n  if (id !== undefined) {\n    var nchildren = toinsert.length;\n    var html_node = toinsert[nchildren-1].children[0];\n    html_node.innerHTML = output.data[HTML_MIME_TYPE];\n    var scripts = [];\n    var nodelist = html_node.querySelectorAll(\"script\");\n    for (var i in nodelist) {\n      if (nodelist.hasOwnProperty(i)) {\n        scripts.push(nodelist[i])\n      }\n    }\n\n    scripts.forEach( function (oldScript) {\n      var newScript = document.createElement(\"script\");\n      var attrs = [];\n      var nodemap = oldScript.attributes;\n      for (var j in nodemap) {\n        if (nodemap.hasOwnProperty(j)) {\n          attrs.push(nodemap[j])\n        }\n      }\n      attrs.forEach(function(attr) { newScript.setAttribute(attr.name, attr.value) });\n      newScript.appendChild(document.createTextNode(oldScript.innerHTML));\n      oldScript.parentNode.replaceChild(newScript, oldScript);\n    });\n    if (JS_MIME_TYPE in output.data) {\n      toinsert[nchildren-1].children[1].textContent = output.data[JS_MIME_TYPE];\n    }\n    output_area._hv_plot_id = id;\n    if ((window.Bokeh !== undefined) && (id in Bokeh.index)) {\n      window.PyViz.plot_index[id] = Bokeh.index[id];\n    } else {\n      window.PyViz.plot_index[id] = null;\n    }\n  } else if (output.metadata[EXEC_MIME_TYPE][\"server_id\"] !== undefined) {\n    var bk_div = document.createElement(\"div\");\n    bk_div.innerHTML = output.data[HTML_MIME_TYPE];\n    var script_attrs = bk_div.children[0].attributes;\n    for (var i = 0; i < script_attrs.length; i++) {\n      toinsert[toinsert.length - 1].childNodes[1].setAttribute(script_attrs[i].name, script_attrs[i].value);\n    }\n    // store reference to server id on output_area\n    output_area._bokeh_server_id = output.metadata[EXEC_MIME_TYPE][\"server_id\"];\n  }\n}\n\n/**\n * Handle when an output is cleared or removed\n */\nfunction handle_clear_output(event, handle) {\n  var id = handle.cell.output_area._hv_plot_id;\n  var server_id = handle.cell.output_area._bokeh_server_id;\n  if (((id === undefined) || !(id in PyViz.plot_index)) && (server_id !== undefined)) { return; }\n  var comm = window.PyViz.comm_manager.get_client_comm(\"hv-extension-comm\", \"hv-extension-comm\", function () {});\n  if (server_id !== null) {\n    comm.send({event_type: 'server_delete', 'id': server_id});\n    return;\n  } else if (comm !== null) {\n    comm.send({event_type: 'delete', 'id': id});\n  }\n  delete PyViz.plot_index[id];\n  if ((window.Bokeh !== undefined) & (id in window.Bokeh.index)) {\n    var doc = window.Bokeh.index[id].model.document\n    doc.clear();\n    const i = window.Bokeh.documents.indexOf(doc);\n    if (i > -1) {\n      window.Bokeh.documents.splice(i, 1);\n    }\n  }\n}\n\n/**\n * Handle kernel restart event\n */\nfunction handle_kernel_cleanup(event, handle) {\n  delete PyViz.comms[\"hv-extension-comm\"];\n  window.PyViz.plot_index = {}\n}\n\n/**\n * Handle update_display_data messages\n */\nfunction handle_update_output(event, handle) {\n  handle_clear_output(event, {cell: {output_area: handle.output_area}})\n  handle_add_output(event, handle)\n}\n\nfunction register_renderer(events, OutputArea) {\n  function append_mime(data, metadata, element) {\n    // create a DOM node to render to\n    var toinsert = this.create_output_subarea(\n    metadata,\n    CLASS_NAME,\n    EXEC_MIME_TYPE\n    );\n    this.keyboard_manager.register_events(toinsert);\n    // Render to node\n    var props = {data: data, metadata: metadata[EXEC_MIME_TYPE]};\n    render(props, toinsert[0]);\n    element.append(toinsert);\n    return toinsert\n  }\n\n  events.on('output_added.OutputArea', handle_add_output);\n  events.on('output_updated.OutputArea', handle_update_output);\n  events.on('clear_output.CodeCell', handle_clear_output);\n  events.on('delete.Cell', handle_clear_output);\n  events.on('kernel_ready.Kernel', handle_kernel_cleanup);\n\n  OutputArea.prototype.register_mime_type(EXEC_MIME_TYPE, append_mime, {\n    safe: true,\n    index: 0\n  });\n}\n\nif (window.Jupyter !== undefined) {\n  try {\n    var events = require('base/js/events');\n    var OutputArea = require('notebook/js/outputarea').OutputArea;\n    if (OutputArea.prototype.mime_types().indexOf(EXEC_MIME_TYPE) == -1) {\n      register_renderer(events, OutputArea);\n    }\n  } catch(err) {\n  }\n}\n"
     },
     "metadata": {},
     "output_type": "display_data"
    },
    {
     "data": {
      "text/html": [
       "<style>.bk-root, .bk-root .bk:before, .bk-root .bk:after {\n",
       "  font-family: var(--jp-ui-font-size1);\n",
       "  font-size: var(--jp-ui-font-size1);\n",
       "  color: var(--jp-ui-font-color1);\n",
       "}\n",
       "</style>"
      ]
     },
     "metadata": {},
     "output_type": "display_data"
    },
    {
     "data": {},
     "metadata": {},
     "output_type": "display_data"
    },
    {
     "data": {
      "application/vnd.holoviews_exec.v0+json": "",
      "text/html": [
       "<div id='1532'>\n",
       "\n",
       "\n",
       "\n",
       "\n",
       "\n",
       "  <div class=\"bk-root\" id=\"cf138def-c411-4634-8abe-13d7f6777796\" data-root-id=\"1532\"></div>\n",
       "</div>\n",
       "<script type=\"application/javascript\">(function(root) {\n",
       "  function embed_document(root) {\n",
       "    var docs_json = {\"f66007ad-ec54-469b-b36c-a7403cd4968f\":{\"defs\":[{\"extends\":null,\"module\":null,\"name\":\"ReactiveHTML1\",\"overrides\":[],\"properties\":[]},{\"extends\":null,\"module\":null,\"name\":\"FlexBox1\",\"overrides\":[],\"properties\":[{\"default\":\"flex-start\",\"kind\":null,\"name\":\"align_content\"},{\"default\":\"flex-start\",\"kind\":null,\"name\":\"align_items\"},{\"default\":\"row\",\"kind\":null,\"name\":\"flex_direction\"},{\"default\":\"wrap\",\"kind\":null,\"name\":\"flex_wrap\"},{\"default\":\"flex-start\",\"kind\":null,\"name\":\"justify_content\"}]},{\"extends\":null,\"module\":null,\"name\":\"GridStack1\",\"overrides\":[],\"properties\":[{\"default\":\"warn\",\"kind\":null,\"name\":\"mode\"},{\"default\":null,\"kind\":null,\"name\":\"ncols\"},{\"default\":null,\"kind\":null,\"name\":\"nrows\"},{\"default\":true,\"kind\":null,\"name\":\"allow_resize\"},{\"default\":true,\"kind\":null,\"name\":\"allow_drag\"},{\"default\":[],\"kind\":null,\"name\":\"state\"}]},{\"extends\":null,\"module\":null,\"name\":\"click1\",\"overrides\":[],\"properties\":[{\"default\":\"\",\"kind\":null,\"name\":\"terminal_output\"},{\"default\":\"\",\"kind\":null,\"name\":\"debug_name\"},{\"default\":0,\"kind\":null,\"name\":\"clears\"}]},{\"extends\":null,\"module\":null,\"name\":\"TemplateActions1\",\"overrides\":[],\"properties\":[{\"default\":0,\"kind\":null,\"name\":\"open_modal\"},{\"default\":0,\"kind\":null,\"name\":\"close_modal\"}]},{\"extends\":null,\"module\":null,\"name\":\"MaterialTemplateActions1\",\"overrides\":[],\"properties\":[{\"default\":0,\"kind\":null,\"name\":\"open_modal\"},{\"default\":0,\"kind\":null,\"name\":\"close_modal\"}]}],\"roots\":{\"references\":[{\"attributes\":{\"data\":{\"Breakfast\":[\"Yes\",\"No\",\"Yes\",\"No\",\"Yes\",\"No\",\"Yes\",\"Yes\",\"Yes\",\"Yes\",\"No\",\"Yes\",\"No\",\"No\",\"Yes\",\"No\",\"Yes\",\"Yes\",\"Yes\",\"No\",\"No\",\"Yes\",\"Yes\",\"Yes\",\"No\",\"No\",\"No\",\"No\",\"Yes\",\"Yes\",\"Yes\",\"Yes\",\"No\",\"No\",\"Yes\",\"Yes\",\"Yes\",\"Yes\",\"No\",\"No\",\"Yes\",\"Yes\",\"No\",\"Yes\",\"No\",\"No\",\"Yes\",\"Yes\",\"Yes\",\"Yes\",\"No\",\"Yes\",\"Yes\",\"No\",\"Yes\",\"Yes\",\"No\",\"No\",\"Yes\",\"No\",\"No\",\"Yes\",\"No\",\"No\",\"Yes\",\"No\",\"Yes\",\"No\",\"Yes\",\"Yes\",\"Yes\",\"No\",\"Yes\",\"Yes\",\"No\",\"Yes\",\"No\",\"Yes\",\"No\",\"No\",\"No\",\"No\",\"Yes\",\"Yes\",\"No\",\"Yes\",\"Yes\",\"Yes\",\"Yes\",\"Yes\",\"Yes\",\"Yes\",\"No\",\"Yes\",\"Yes\",\"No\",\"No\",\"Yes\",\"Yes\",\"Yes\",\"Yes\",\"Yes\"],\"Hours\":{\"__ndarray__\":\"AAAAAAAAIEAAAAAAAAAYQAAAAAAAABhAAAAAAAAAHEAAAAAAAAAcQAAAAAAAABxAAAAAAAAAHEAAAAAAAAAcQAAAAAAAABBAAAAAAAAAGEAAAAAAAAAkQAAAAAAAABxAAAAAAAAAHEAAAAAAAAAgQAAAAAAAABxAAAAAAAAAIEAAAAAAAAAYQAAAAAAAACBAAAAAAAAAIkAAAAAAAAAgQAAAAAAAAABAAAAAAAAAEEAAAAAAAAAUQAAAAAAAABxAAAAAAAAAFEAAAAAAAAAcQAAAAAAAABhAAAAAAAAAGEAAAAAAAAAcQAAAAAAAACJAAAAAAAAAIEAAAAAAAAAgQAAAAAAAABhAAAAAAAAAGEAAAAAAAAAcQAAAAAAAABxAAAAAAAAAHEAAAAAAAAAiQAAAAAAAABRAAAAAAAAAHEAAAAAAAAAgQAAAAAAAABxAAAAAAAAAFEAAAAAAAAAYQAAAAAAAABBAAAAAAAAAHEAAAAAAAAAiQAAAAAAAABRAAAAAAAAAGEAAAAAAAAAQQAAAAAAAABRAAAAAAAAAIEAAAAAAAAAcQAAAAAAAABRAAAAAAAAAHEAAAAAAAAAUQAAAAAAAABhAAAAAAAAAIkAAAAAAAAAiQAAAAAAAABxAAAAAAAAAGEAAAAAAAAAcQAAAAAAAAABAAAAAAAAAIEAAAAAAAAAcQAAAAAAAABxAAAAAAAAAHEAAAAAAAAAcQAAAAAAAABhAAAAAAAAAGEAAAAAAAAAUQAAAAAAAABRAAAAAAAAAGEAAAAAAAAAcQAAAAAAAABhAAAAAAAAAIEAAAAAAAAAYQAAAAAAAABhAAAAAAAAAHEAAAAAAAAAYQAAAAAAAABhAAAAAAAAAFEAAAAAAAAAgQAAAAAAAACBAAAAAAAAAGEAAAAAAAAAiQAAAAAAAABRAAAAAAAAAGEAAAAAAAAAgQAAAAAAAABxAAAAAAAAAHEAAAAAAAAAiQAAAAAAAACBAAAAAAAAAHEAAAAAAAAAcQAAAAAAAABxAAAAAAAAAGEAAAAAAAAAcQAAAAAAAABxAAAAAAAAAIEAAAAAAAAAcQAAAAAAAABhA\",\"dtype\":\"float64\",\"order\":\"little\",\"shape\":[102]},\"Tired\":[\"3\",\"3\",\"2\",\"4\",\"2\",\"4\",\"3\",\"3\",\"2\",\"3\",\"4\",\"2\",\"3\",\"2\",\"3\",\"3\",\"4\",\"3\",\"3\",\"3\",\"5\",\"2\",\"3\",\"3\",\"2\",\"5\",\"3\",\"2\",\"2\",\"2\",\"2\",\"3\",\"4\",\"3\",\"3\",\"3\",\"2\",\"2\",\"5\",\"2\",\"1\",\"4\",\"3\",\"3\",\"5\",\"4\",\"1\",\"5\",\"3\",\"2\",\"3\",\"3\",\"4\",\"2\",\"3\",\"2\",\"3\",\"5\",\"4\",\"2\",\"3\",\"3\",\"5\",\"5\",\"4\",\"1\",\"3\",\"3\",\"3\",\"4\",\"4\",\"4\",\"5\",\"4\",\"4\",\"4\",\"4\",\"3\",\"4\",\"3\",\"3\",\"4\",\"2\",\"1\",\"3\",\"5\",\"4\",\"2\",\"3\",\"4\",\"2\",\"2\",\"4\",\"2\",\"4\",\"2\",\"3\",\"2\",\"3\",\"3\",\"2\",\"3\"],\"index\":[0,1,2,3,4,5,6,7,8,9,10,11,12,13,14,15,16,17,18,19,20,21,22,23,24,25,26,27,28,29,30,31,32,33,34,35,36,37,38,39,40,41,42,43,44,45,46,47,48,49,50,51,52,53,54,55,56,57,58,59,60,61,62,63,64,65,66,67,68,69,70,71,72,73,74,75,76,77,78,79,80,81,82,83,84,85,86,87,88,89,90,91,92,93,94,95,96,97,98,99,100,101],\"lower\":{\"__ndarray__\":\"AAAAAAAACEAAAAAAAAASQAAAAAAAAAhAAAAAAAAAEkAAAAAAAAAIQAAAAAAAABJAAAAAAAAACEAAAAAAAAAIQAAAAAAAAAhAAAAAAAAACEAAAAAAAAASQAAAAAAAAAhAAAAAAAAAEkAAAAAAAAASQAAAAAAAAAhAAAAAAAAAEkAAAAAAAAAIQAAAAAAAAAhAAAAAAAAACEAAAAAAAAASQAAAAAAAABJAAAAAAAAACEAAAAAAAAAIQAAAAAAAAAhAAAAAAAAAEkAAAAAAAAASQAAAAAAAABJAAAAAAAAAEkAAAAAAAAAIQAAAAAAAAAhAAAAAAAAACEAAAAAAAAAIQAAAAAAAABJAAAAAAAAAEkAAAAAAAAAIQAAAAAAAAAhAAAAAAAAACEAAAAAAAAAIQAAAAAAAABJAAAAAAAAAEkAAAAAAAAAIQAAAAAAAAAhAAAAAAAAAEkAAAAAAAAAIQAAAAAAAABJAAAAAAAAAEkAAAAAAAAAIQAAAAAAAAAhAAAAAAAAACEAAAAAAAAAIQAAAAAAAABJAAAAAAAAACEAAAAAAAAAIQAAAAAAAABJAAAAAAAAACEAAAAAAAAAIQAAAAAAAABJAAAAAAAAAEkAAAAAAAAAIQAAAAAAAABJAAAAAAAAAEkAAAAAAAAAIQAAAAAAAABJAAAAAAAAAEkAAAAAAAAAIQAAAAAAAABJAAAAAAAAACEAAAAAAAAASQAAAAAAAAAhAAAAAAAAACEAAAAAAAAAIQAAAAAAAABJAAAAAAAAACEAAAAAAAAAIQAAAAAAAABJAAAAAAAAACEAAAAAAAAASQAAAAAAAAAhAAAAAAAAAEkAAAAAAAAASQAAAAAAAABJAAAAAAAAAEkAAAAAAAAAIQAAAAAAAAAhAAAAAAAAAEkAAAAAAAAAIQAAAAAAAAAhAAAAAAAAACEAAAAAAAAAIQAAAAAAAAAhAAAAAAAAACEAAAAAAAAAIQAAAAAAAABJAAAAAAAAACEAAAAAAAAAIQAAAAAAAABJAAAAAAAAAEkAAAAAAAAAIQAAAAAAAAAhAAAAAAAAACEAAAAAAAAAIQAAAAAAAAAhA\",\"dtype\":\"float64\",\"order\":\"little\",\"shape\":[102]},\"q1\":{\"__ndarray__\":\"AAAAAAAAGEAAAAAAAAAYQAAAAAAAABhAAAAAAAAAGEAAAAAAAAAYQAAAAAAAABhAAAAAAAAAGEAAAAAAAAAYQAAAAAAAABhAAAAAAAAAGEAAAAAAAAAYQAAAAAAAABhAAAAAAAAAGEAAAAAAAAAYQAAAAAAAABhAAAAAAAAAGEAAAAAAAAAYQAAAAAAAABhAAAAAAAAAGEAAAAAAAAAYQAAAAAAAABhAAAAAAAAAGEAAAAAAAAAYQAAAAAAAABhAAAAAAAAAGEAAAAAAAAAYQAAAAAAAABhAAAAAAAAAGEAAAAAAAAAYQAAAAAAAABhAAAAAAAAAGEAAAAAAAAAYQAAAAAAAABhAAAAAAAAAGEAAAAAAAAAYQAAAAAAAABhAAAAAAAAAGEAAAAAAAAAYQAAAAAAAABhAAAAAAAAAGEAAAAAAAAAYQAAAAAAAABhAAAAAAAAAGEAAAAAAAAAYQAAAAAAAABhAAAAAAAAAGEAAAAAAAAAYQAAAAAAAABhAAAAAAAAAGEAAAAAAAAAYQAAAAAAAABhAAAAAAAAAGEAAAAAAAAAYQAAAAAAAABhAAAAAAAAAGEAAAAAAAAAYQAAAAAAAABhAAAAAAAAAGEAAAAAAAAAYQAAAAAAAABhAAAAAAAAAGEAAAAAAAAAYQAAAAAAAABhAAAAAAAAAGEAAAAAAAAAYQAAAAAAAABhAAAAAAAAAGEAAAAAAAAAYQAAAAAAAABhAAAAAAAAAGEAAAAAAAAAYQAAAAAAAABhAAAAAAAAAGEAAAAAAAAAYQAAAAAAAABhAAAAAAAAAGEAAAAAAAAAYQAAAAAAAABhAAAAAAAAAGEAAAAAAAAAYQAAAAAAAABhAAAAAAAAAGEAAAAAAAAAYQAAAAAAAABhAAAAAAAAAGEAAAAAAAAAYQAAAAAAAABhAAAAAAAAAGEAAAAAAAAAYQAAAAAAAABhAAAAAAAAAGEAAAAAAAAAYQAAAAAAAABhAAAAAAAAAGEAAAAAAAAAYQAAAAAAAABhAAAAAAAAAGEAAAAAAAAAYQAAAAAAAABhAAAAAAAAAGEAAAAAAAAAYQAAAAAAAABhA\",\"dtype\":\"float64\",\"order\":\"little\",\"shape\":[102]},\"q2\":{\"__ndarray__\":\"AAAAAAAAHEAAAAAAAAAYQAAAAAAAABxAAAAAAAAAGEAAAAAAAAAcQAAAAAAAABhAAAAAAAAAHEAAAAAAAAAcQAAAAAAAABxAAAAAAAAAHEAAAAAAAAAYQAAAAAAAABxAAAAAAAAAGEAAAAAAAAAYQAAAAAAAABxAAAAAAAAAGEAAAAAAAAAcQAAAAAAAABxAAAAAAAAAHEAAAAAAAAAYQAAAAAAAABhAAAAAAAAAHEAAAAAAAAAcQAAAAAAAABxAAAAAAAAAGEAAAAAAAAAYQAAAAAAAABhAAAAAAAAAGEAAAAAAAAAcQAAAAAAAABxAAAAAAAAAHEAAAAAAAAAcQAAAAAAAABhAAAAAAAAAGEAAAAAAAAAcQAAAAAAAABxAAAAAAAAAHEAAAAAAAAAcQAAAAAAAABhAAAAAAAAAGEAAAAAAAAAcQAAAAAAAABxAAAAAAAAAGEAAAAAAAAAcQAAAAAAAABhAAAAAAAAAGEAAAAAAAAAcQAAAAAAAABxAAAAAAAAAHEAAAAAAAAAcQAAAAAAAABhAAAAAAAAAHEAAAAAAAAAcQAAAAAAAABhAAAAAAAAAHEAAAAAAAAAcQAAAAAAAABhAAAAAAAAAGEAAAAAAAAAcQAAAAAAAABhAAAAAAAAAGEAAAAAAAAAcQAAAAAAAABhAAAAAAAAAGEAAAAAAAAAcQAAAAAAAABhAAAAAAAAAHEAAAAAAAAAYQAAAAAAAABxAAAAAAAAAHEAAAAAAAAAcQAAAAAAAABhAAAAAAAAAHEAAAAAAAAAcQAAAAAAAABhAAAAAAAAAHEAAAAAAAAAYQAAAAAAAABxAAAAAAAAAGEAAAAAAAAAYQAAAAAAAABhAAAAAAAAAGEAAAAAAAAAcQAAAAAAAABxAAAAAAAAAGEAAAAAAAAAcQAAAAAAAABxAAAAAAAAAHEAAAAAAAAAcQAAAAAAAABxAAAAAAAAAHEAAAAAAAAAcQAAAAAAAABhAAAAAAAAAHEAAAAAAAAAcQAAAAAAAABhAAAAAAAAAGEAAAAAAAAAcQAAAAAAAABxAAAAAAAAAHEAAAAAAAAAcQAAAAAAAABxA\",\"dtype\":\"float64\",\"order\":\"little\",\"shape\":[102]},\"q3\":{\"__ndarray__\":\"AAAAAAAAIEAAAAAAAAAcQAAAAAAAACBAAAAAAAAAHEAAAAAAAAAgQAAAAAAAABxAAAAAAAAAIEAAAAAAAAAgQAAAAAAAACBAAAAAAAAAIEAAAAAAAAAcQAAAAAAAACBAAAAAAAAAHEAAAAAAAAAcQAAAAAAAACBAAAAAAAAAHEAAAAAAAAAgQAAAAAAAACBAAAAAAAAAIEAAAAAAAAAcQAAAAAAAABxAAAAAAAAAIEAAAAAAAAAgQAAAAAAAACBAAAAAAAAAHEAAAAAAAAAcQAAAAAAAABxAAAAAAAAAHEAAAAAAAAAgQAAAAAAAACBAAAAAAAAAIEAAAAAAAAAgQAAAAAAAABxAAAAAAAAAHEAAAAAAAAAgQAAAAAAAACBAAAAAAAAAIEAAAAAAAAAgQAAAAAAAABxAAAAAAAAAHEAAAAAAAAAgQAAAAAAAACBAAAAAAAAAHEAAAAAAAAAgQAAAAAAAABxAAAAAAAAAHEAAAAAAAAAgQAAAAAAAACBAAAAAAAAAIEAAAAAAAAAgQAAAAAAAABxAAAAAAAAAIEAAAAAAAAAgQAAAAAAAABxAAAAAAAAAIEAAAAAAAAAgQAAAAAAAABxAAAAAAAAAHEAAAAAAAAAgQAAAAAAAABxAAAAAAAAAHEAAAAAAAAAgQAAAAAAAABxAAAAAAAAAHEAAAAAAAAAgQAAAAAAAABxAAAAAAAAAIEAAAAAAAAAcQAAAAAAAACBAAAAAAAAAIEAAAAAAAAAgQAAAAAAAABxAAAAAAAAAIEAAAAAAAAAgQAAAAAAAABxAAAAAAAAAIEAAAAAAAAAcQAAAAAAAACBAAAAAAAAAHEAAAAAAAAAcQAAAAAAAABxAAAAAAAAAHEAAAAAAAAAgQAAAAAAAACBAAAAAAAAAHEAAAAAAAAAgQAAAAAAAACBAAAAAAAAAIEAAAAAAAAAgQAAAAAAAACBAAAAAAAAAIEAAAAAAAAAgQAAAAAAAABxAAAAAAAAAIEAAAAAAAAAgQAAAAAAAABxAAAAAAAAAHEAAAAAAAAAgQAAAAAAAACBAAAAAAAAAIEAAAAAAAAAgQAAAAAAAACBA\",\"dtype\":\"float64\",\"order\":\"little\",\"shape\":[102]},\"upper\":{\"__ndarray__\":\"AAAAAAAAJkAAAAAAAAAhQAAAAAAAACZAAAAAAAAAIUAAAAAAAAAmQAAAAAAAACFAAAAAAAAAJkAAAAAAAAAmQAAAAAAAACZAAAAAAAAAJkAAAAAAAAAhQAAAAAAAACZAAAAAAAAAIUAAAAAAAAAhQAAAAAAAACZAAAAAAAAAIUAAAAAAAAAmQAAAAAAAACZAAAAAAAAAJkAAAAAAAAAhQAAAAAAAACFAAAAAAAAAJkAAAAAAAAAmQAAAAAAAACZAAAAAAAAAIUAAAAAAAAAhQAAAAAAAACFAAAAAAAAAIUAAAAAAAAAmQAAAAAAAACZAAAAAAAAAJkAAAAAAAAAmQAAAAAAAACFAAAAAAAAAIUAAAAAAAAAmQAAAAAAAACZAAAAAAAAAJkAAAAAAAAAmQAAAAAAAACFAAAAAAAAAIUAAAAAAAAAmQAAAAAAAACZAAAAAAAAAIUAAAAAAAAAmQAAAAAAAACFAAAAAAAAAIUAAAAAAAAAmQAAAAAAAACZAAAAAAAAAJkAAAAAAAAAmQAAAAAAAACFAAAAAAAAAJkAAAAAAAAAmQAAAAAAAACFAAAAAAAAAJkAAAAAAAAAmQAAAAAAAACFAAAAAAAAAIUAAAAAAAAAmQAAAAAAAACFAAAAAAAAAIUAAAAAAAAAmQAAAAAAAACFAAAAAAAAAIUAAAAAAAAAmQAAAAAAAACFAAAAAAAAAJkAAAAAAAAAhQAAAAAAAACZAAAAAAAAAJkAAAAAAAAAmQAAAAAAAACFAAAAAAAAAJkAAAAAAAAAmQAAAAAAAACFAAAAAAAAAJkAAAAAAAAAhQAAAAAAAACZAAAAAAAAAIUAAAAAAAAAhQAAAAAAAACFAAAAAAAAAIUAAAAAAAAAmQAAAAAAAACZAAAAAAAAAIUAAAAAAAAAmQAAAAAAAACZAAAAAAAAAJkAAAAAAAAAmQAAAAAAAACZAAAAAAAAAJkAAAAAAAAAmQAAAAAAAACFAAAAAAAAAJkAAAAAAAAAmQAAAAAAAACFAAAAAAAAAIUAAAAAAAAAmQAAAAAAAACZAAAAAAAAAJkAAAAAAAAAmQAAAAAAAACZA\",\"dtype\":\"float64\",\"order\":\"little\",\"shape\":[102]}},\"selected\":{\"id\":\"1548\"},\"selection_policy\":{\"id\":\"1547\"}},\"id\":\"1475\",\"type\":\"ColumnDataSource\"},{\"attributes\":{},\"id\":\"1549\",\"type\":\"UnionRenderers\"},{\"attributes\":{},\"id\":\"1544\",\"type\":\"AllLabels\"},{\"attributes\":{\"fill_alpha\":{\"value\":0.1},\"fill_color\":{\"value\":\"black\"},\"hatch_alpha\":{\"value\":0.1},\"line_alpha\":{\"value\":0.1},\"size\":{\"value\":6},\"x\":{\"field\":\"Breakfast\"},\"y\":{\"field\":\"Hours\"}},\"id\":\"1528\",\"type\":\"Scatter\"},{\"attributes\":{\"children\":[{\"id\":\"1534\"},{\"id\":\"1535\"}],\"margin\":[0,0,0,0],\"name\":\"Column00110\"},\"id\":\"1533\",\"type\":\"Column\"},{\"attributes\":{\"bottom\":{\"field\":\"q3\"},\"fill_color\":{\"field\":\"Breakfast\",\"transform\":{\"id\":\"1512\"}},\"hatch_color\":{\"field\":\"Breakfast\",\"transform\":{\"id\":\"1512\"}},\"top\":{\"field\":\"q2\"},\"width\":{\"value\":0.7},\"x\":{\"field\":\"Breakfast\"}},\"id\":\"1514\",\"type\":\"VBar\"},{\"attributes\":{\"source\":{\"id\":\"1525\"}},\"id\":\"1531\",\"type\":\"CDSView\"},{\"attributes\":{\"data\":{\"Breakfast\":[\"No\",\"No\",\"No\",\"No\",\"No\"],\"Hours\":{\"__ndarray__\":\"AAAAAAAAJEAAAAAAAAAAQAAAAAAAABBAAAAAAAAAIkAAAAAAAAAAQA==\",\"dtype\":\"float64\",\"order\":\"little\",\"shape\":[5]},\"Tired\":[\"4\",\"5\",\"5\",\"5\",\"5\"],\"index\":[10,20,44,57,62],\"lower\":{\"__ndarray__\":\"AAAAAAAAEkAAAAAAAAASQAAAAAAAABJAAAAAAAAAEkAAAAAAAAASQA==\",\"dtype\":\"float64\",\"order\":\"little\",\"shape\":[5]},\"q1\":{\"__ndarray__\":\"AAAAAAAAGEAAAAAAAAAYQAAAAAAAABhAAAAAAAAAGEAAAAAAAAAYQA==\",\"dtype\":\"float64\",\"order\":\"little\",\"shape\":[5]},\"q2\":{\"__ndarray__\":\"AAAAAAAAGEAAAAAAAAAYQAAAAAAAABhAAAAAAAAAGEAAAAAAAAAYQA==\",\"dtype\":\"float64\",\"order\":\"little\",\"shape\":[5]},\"q3\":{\"__ndarray__\":\"AAAAAAAAHEAAAAAAAAAcQAAAAAAAABxAAAAAAAAAHEAAAAAAAAAcQA==\",\"dtype\":\"float64\",\"order\":\"little\",\"shape\":[5]},\"upper\":{\"__ndarray__\":\"AAAAAAAAIUAAAAAAAAAhQAAAAAAAACFAAAAAAAAAIUAAAAAAAAAhQA==\",\"dtype\":\"float64\",\"order\":\"little\",\"shape\":[5]}},\"selected\":{\"id\":\"1550\"},\"selection_policy\":{\"id\":\"1549\"}},\"id\":\"1525\",\"type\":\"ColumnDataSource\"},{\"attributes\":{},\"id\":\"1550\",\"type\":\"Selection\"},{\"attributes\":{\"fill_alpha\":{\"value\":0.2},\"fill_color\":{\"value\":\"black\"},\"hatch_alpha\":{\"value\":0.2},\"line_alpha\":{\"value\":0.2},\"size\":{\"value\":6},\"x\":{\"field\":\"Breakfast\"},\"y\":{\"field\":\"Hours\"}},\"id\":\"1529\",\"type\":\"Scatter\"},{\"attributes\":{\"bottom\":{\"field\":\"q3\"},\"fill_alpha\":{\"value\":0.2},\"fill_color\":{\"field\":\"Breakfast\",\"transform\":{\"id\":\"1512\"}},\"hatch_alpha\":{\"value\":0.2},\"hatch_color\":{\"field\":\"Breakfast\",\"transform\":{\"id\":\"1512\"}},\"line_alpha\":{\"value\":0.2},\"top\":{\"field\":\"q2\"},\"width\":{\"value\":0.7},\"x\":{\"field\":\"Breakfast\"}},\"id\":\"1516\",\"type\":\"VBar\"},{\"attributes\":{},\"id\":\"1494\",\"type\":\"PanTool\"},{\"attributes\":{\"axis_label\":\"Breakfast\",\"coordinates\":null,\"formatter\":{\"id\":\"1543\"},\"group\":null,\"major_label_policy\":{\"id\":\"1544\"},\"ticker\":{\"id\":\"1488\"}},\"id\":\"1487\",\"type\":\"CategoricalAxis\"},{\"attributes\":{\"size\":{\"value\":20}},\"id\":\"1510\",\"type\":\"TeeHead\"},{\"attributes\":{},\"id\":\"1547\",\"type\":\"UnionRenderers\"},{\"attributes\":{},\"id\":\"1491\",\"type\":\"BasicTicker\"},{\"attributes\":{},\"id\":\"1540\",\"type\":\"BasicTickFormatter\"},{\"attributes\":{\"fill_color\":{\"value\":\"black\"},\"size\":{\"value\":6},\"x\":{\"field\":\"Breakfast\"},\"y\":{\"field\":\"Hours\"}},\"id\":\"1527\",\"type\":\"Scatter\"},{\"attributes\":{\"size\":{\"value\":20}},\"id\":\"1511\",\"type\":\"TeeHead\"},{\"attributes\":{},\"id\":\"1497\",\"type\":\"SaveTool\"},{\"attributes\":{\"children\":[{\"id\":\"1533\"},{\"id\":\"1537\"}],\"margin\":[0,0,0,0],\"name\":\"Row00111\"},\"id\":\"1532\",\"type\":\"Row\"},{\"attributes\":{\"coordinates\":null,\"data_source\":{\"id\":\"1475\"},\"glyph\":{\"id\":\"1520\"},\"group\":null,\"hover_glyph\":null,\"muted_glyph\":{\"id\":\"1522\"},\"nonselection_glyph\":{\"id\":\"1521\"},\"view\":{\"id\":\"1524\"}},\"id\":\"1523\",\"type\":\"GlyphRenderer\"},{\"attributes\":{},\"id\":\"1498\",\"type\":\"ResetTool\"},{\"attributes\":{\"children\":[{\"id\":\"1536\"}],\"margin\":[0,0,0,0],\"name\":\"Column00107\"},\"id\":\"1535\",\"type\":\"Column\"},{\"attributes\":{\"bottom\":{\"field\":\"q3\"},\"fill_alpha\":{\"value\":0.1},\"fill_color\":{\"field\":\"Breakfast\",\"transform\":{\"id\":\"1512\"}},\"hatch_alpha\":{\"value\":0.1},\"hatch_color\":{\"field\":\"Breakfast\",\"transform\":{\"id\":\"1512\"}},\"line_alpha\":{\"value\":0.1},\"top\":{\"field\":\"q2\"},\"width\":{\"value\":0.7},\"x\":{\"field\":\"Breakfast\"}},\"id\":\"1515\",\"type\":\"VBar\"},{\"attributes\":{},\"id\":\"1488\",\"type\":\"CategoricalTicker\"},{\"attributes\":{},\"id\":\"1548\",\"type\":\"Selection\"},{\"attributes\":{\"bottom\":{\"field\":\"q2\"},\"fill_alpha\":{\"value\":0.2},\"fill_color\":{\"field\":\"Breakfast\",\"transform\":{\"id\":\"1512\"}},\"hatch_alpha\":{\"value\":0.2},\"hatch_color\":{\"field\":\"Breakfast\",\"transform\":{\"id\":\"1512\"}},\"line_alpha\":{\"value\":0.2},\"top\":{\"field\":\"q1\"},\"width\":{\"value\":0.7},\"x\":{\"field\":\"Breakfast\"}},\"id\":\"1522\",\"type\":\"VBar\"},{\"attributes\":{\"overlay\":{\"id\":\"1500\"}},\"id\":\"1496\",\"type\":\"BoxZoomTool\"},{\"attributes\":{\"bottom_units\":\"screen\",\"coordinates\":null,\"fill_alpha\":0.5,\"fill_color\":\"lightgrey\",\"group\":null,\"left_units\":\"screen\",\"level\":\"overlay\",\"line_alpha\":1.0,\"line_color\":\"black\",\"line_dash\":[4,4],\"line_width\":2,\"right_units\":\"screen\",\"syncable\":false,\"top_units\":\"screen\"},\"id\":\"1500\",\"type\":\"BoxAnnotation\"},{\"attributes\":{\"children\":[{\"id\":\"1476\"}],\"margin\":[0,0,0,0],\"name\":\"Row00106\"},\"id\":\"1537\",\"type\":\"Row\"},{\"attributes\":{},\"id\":\"1485\",\"type\":\"LinearScale\"},{\"attributes\":{\"coordinates\":null,\"data_source\":{\"id\":\"1475\"},\"glyph\":{\"id\":\"1514\"},\"group\":null,\"hover_glyph\":null,\"muted_glyph\":{\"id\":\"1516\"},\"nonselection_glyph\":{\"id\":\"1515\"},\"view\":{\"id\":\"1518\"}},\"id\":\"1517\",\"type\":\"GlyphRenderer\"},{\"attributes\":{\"bottom\":{\"field\":\"q2\"},\"fill_color\":{\"field\":\"Breakfast\",\"transform\":{\"id\":\"1512\"}},\"hatch_color\":{\"field\":\"Breakfast\",\"transform\":{\"id\":\"1512\"}},\"top\":{\"field\":\"q1\"},\"width\":{\"value\":0.7},\"x\":{\"field\":\"Breakfast\"}},\"id\":\"1520\",\"type\":\"VBar\"},{\"attributes\":{\"end\":14,\"start\":-2},\"id\":\"1481\",\"type\":\"Range1d\"},{\"attributes\":{},\"id\":\"1499\",\"type\":\"HelpTool\"},{\"attributes\":{},\"id\":\"1541\",\"type\":\"AllLabels\"},{\"attributes\":{\"axis\":{\"id\":\"1490\"},\"coordinates\":null,\"dimension\":1,\"group\":null,\"ticker\":null},\"id\":\"1493\",\"type\":\"Grid\"},{\"attributes\":{\"source\":{\"id\":\"1475\"}},\"id\":\"1518\",\"type\":\"CDSView\"},{\"attributes\":{\"css_classes\":[\"markdown\"],\"margin\":[5,5,5,5],\"name\":\"Markdown00108\",\"text\":\"&lt;p&gt;Choose an x-value:&lt;/p&gt;\"},\"id\":\"1534\",\"type\":\"panel.models.markup.HTML\"},{\"attributes\":{\"below\":[{\"id\":\"1487\"}],\"center\":[{\"id\":\"1489\"},{\"id\":\"1493\"},{\"id\":\"1508\"}],\"left\":[{\"id\":\"1490\"}],\"renderers\":[{\"id\":\"1517\"},{\"id\":\"1523\"},{\"id\":\"1530\"}],\"title\":{\"id\":\"1477\"},\"toolbar\":{\"id\":\"1501\"},\"toolbar_location\":null,\"x_range\":{\"id\":\"1479\"},\"x_scale\":{\"id\":\"1483\"},\"y_range\":{\"id\":\"1481\"},\"y_scale\":{\"id\":\"1485\"}},\"id\":\"1476\",\"subtype\":\"Figure\",\"type\":\"Plot\"},{\"attributes\":{\"source\":{\"id\":\"1475\"}},\"id\":\"1524\",\"type\":\"CDSView\"},{\"attributes\":{},\"id\":\"1483\",\"type\":\"CategoricalScale\"},{\"attributes\":{\"bottom\":{\"field\":\"q2\"},\"fill_alpha\":{\"value\":0.1},\"fill_color\":{\"field\":\"Breakfast\",\"transform\":{\"id\":\"1512\"}},\"hatch_alpha\":{\"value\":0.1},\"hatch_color\":{\"field\":\"Breakfast\",\"transform\":{\"id\":\"1512\"}},\"line_alpha\":{\"value\":0.1},\"top\":{\"field\":\"q1\"},\"width\":{\"value\":0.7},\"x\":{\"field\":\"Breakfast\"}},\"id\":\"1521\",\"type\":\"VBar\"},{\"attributes\":{\"client_comm_id\":\"554d2901a844440b8fb92b0e9128681c\",\"comm_id\":\"5cbb2cf77cec44bc8909a35e44aad541\",\"plot_id\":\"1532\"},\"id\":\"1608\",\"type\":\"panel.models.comm_manager.CommManager\"},{\"attributes\":{\"coordinates\":null,\"data_source\":{\"id\":\"1525\"},\"glyph\":{\"id\":\"1527\"},\"group\":null,\"hover_glyph\":null,\"muted_glyph\":{\"id\":\"1529\"},\"nonselection_glyph\":{\"id\":\"1528\"},\"view\":{\"id\":\"1531\"}},\"id\":\"1530\",\"type\":\"GlyphRenderer\"},{\"attributes\":{},\"id\":\"1495\",\"type\":\"WheelZoomTool\"},{\"attributes\":{\"coordinates\":null,\"group\":null,\"text\":\"Time (hours) distribution by Breakfast\"},\"id\":\"1477\",\"type\":\"Title\"},{\"attributes\":{\"factors\":[\"No\",\"Yes\"]},\"id\":\"1479\",\"type\":\"FactorRange\"},{\"attributes\":{\"axis\":{\"id\":\"1487\"},\"coordinates\":null,\"grid_line_color\":null,\"group\":null,\"ticker\":null},\"id\":\"1489\",\"type\":\"Grid\"},{\"attributes\":{},\"id\":\"1543\",\"type\":\"CategoricalTickFormatter\"},{\"attributes\":{\"reload\":false},\"id\":\"1651\",\"type\":\"panel.models.location.Location\"},{\"attributes\":{\"tools\":[{\"id\":\"1494\"},{\"id\":\"1495\"},{\"id\":\"1496\"},{\"id\":\"1497\"},{\"id\":\"1498\"},{\"id\":\"1499\"}]},\"id\":\"1501\",\"type\":\"Toolbar\"},{\"attributes\":{\"base\":{\"field\":\"Breakfast\"},\"coordinates\":null,\"group\":null,\"lower\":{\"field\":\"lower\"},\"lower_head\":{\"id\":\"1511\"},\"source\":{\"id\":\"1475\"},\"upper\":{\"field\":\"upper\"},\"upper_head\":{\"id\":\"1510\"}},\"id\":\"1508\",\"type\":\"Whisker\"},{\"attributes\":{\"axis_label\":\"Time (hours)\",\"coordinates\":null,\"formatter\":{\"id\":\"1540\"},\"group\":null,\"major_label_policy\":{\"id\":\"1541\"},\"ticker\":{\"id\":\"1491\"}},\"id\":\"1490\",\"type\":\"LinearAxis\"},{\"attributes\":{\"margin\":[5,10,5,10],\"options\":[\"Breakfast\",\"Tired\"],\"title\":\"x\",\"value\":\"Breakfast\"},\"id\":\"1536\",\"type\":\"panel.models.widgets.CustomSelect\"},{\"attributes\":{\"factors\":[\"No\",\"Yes\"],\"palette\":[\"#1f77b4\",\"#ff7f0e\",\"#2ca02c\",\"#d62728\",\"#9467bd\"]},\"id\":\"1512\",\"type\":\"CategoricalColorMapper\"}],\"root_ids\":[\"1532\",\"1608\",\"1651\"]},\"title\":\"Bokeh Application\",\"version\":\"2.4.2\"}};\n",
       "    var render_items = [{\"docid\":\"f66007ad-ec54-469b-b36c-a7403cd4968f\",\"root_ids\":[\"1532\"],\"roots\":{\"1532\":\"cf138def-c411-4634-8abe-13d7f6777796\"}}];\n",
       "    root.Bokeh.embed.embed_items_notebook(docs_json, render_items);\n",
       "  }\n",
       "  if (root.Bokeh !== undefined && root.Bokeh.Panel !== undefined) {\n",
       "    embed_document(root);\n",
       "  } else {\n",
       "    var attempts = 0;\n",
       "    var timer = setInterval(function(root) {\n",
       "      if (root.Bokeh !== undefined && root.Bokeh.Panel !== undefined) {\n",
       "        clearInterval(timer);\n",
       "        embed_document(root);\n",
       "      } else if (document.readyState == \"complete\") {\n",
       "        attempts++;\n",
       "        if (attempts > 200) {\n",
       "          clearInterval(timer);\n",
       "          console.log(\"Bokeh: ERROR: Unable to run BokehJS code because BokehJS library is missing\");\n",
       "        }\n",
       "      }\n",
       "    }, 25, root)\n",
       "  }\n",
       "})(window);</script>"
      ],
      "text/plain": [
       "Row\n",
       "    [0] Column\n",
       "        [0] Markdown(str)\n",
       "        [1] Column\n",
       "            [0] Select(name='x', options=['Breakfast', 'Tired'], value='Breakfast')\n",
       "    [1] Row\n",
       "        [0] Bokeh(Figure, name='interactive00101')"
      ]
     },
     "execution_count": 22,
     "metadata": {
      "application/vnd.holoviews_exec.v0+json": {
       "id": "1532"
      }
     },
     "output_type": "execute_result"
    }
   ],
   "source": [
    "\"\"\"\n",
    "I choose to visualize Hours vs Tired and Hours vs Breakfast in a boxplot.\n",
    "I used a dropdown button to select one of these (Tired or Breakfast). I choose this because I wanted the visualize everything\n",
    "in one plot but it didn't work so I made a dropdown button. And because plotting two different boxplots in two different cells\n",
    "take a lot of space. This gives a better overview.\n",
    "I used the boxplot of bokeh to create the basics: https://docs.bokeh.org/en/3.0.2/docs/examples/topics/stats/boxplot.html\n",
    "\"\"\"\n",
    "\n",
    "# Load extension\n",
    "pn.extension()\n",
    "\n",
    "# Make a copy of the data frame and convert the 'Tired' column to a string\n",
    "df_sleep_box = df_sleep.copy()\n",
    "df_sleep_box.Tired = df_sleep_box.Tired.astype(\"str\")\n",
    "\n",
    "# Function the create a boxplot based on the selected x-value\n",
    "def render_boxplot(x):\n",
    "    # Make a shorter data frame\n",
    "    df = df_sleep_box[[\"Tired\", \"Hours\", \"Breakfast\"]]\n",
    "    \n",
    "    # Get the uniques of the x-value and sort\n",
    "    x_unique = df[x].unique()\n",
    "    x_unique = np.sort(x_unique)\n",
    "    \n",
    "    # Define the x-axis label based on the selected x-value\n",
    "    x_label = \"Tiredness (score)\" if x == \"Tired\" else \"Breakfast\"\n",
    "\n",
    "    # Compute quantiles\n",
    "    qs = df.groupby(x).Hours.quantile([0.25, 0.5, 0.75])\n",
    "    qs = qs.unstack().reset_index()\n",
    "    qs.columns = [x, \"q1\", \"q2\", \"q3\"]\n",
    "    df = pd.merge(df, qs, on=x, how=\"left\")\n",
    "\n",
    "    # Compute IQR outlier bounds\n",
    "    iqr = df.q3 - df.q1\n",
    "    df[\"upper\"] = df.q3 + 1.5*iqr\n",
    "    df[\"lower\"] = df.q1 - 1.5*iqr\n",
    "\n",
    "    source = ColumnDataSource(df)\n",
    "\n",
    "    # Define figure layout\n",
    "    p = figure(x_range=x_unique, y_range=(-2, 14), toolbar_location=None,\n",
    "               title=f\"Time (hours) distribution by {x_label}\",\n",
    "               x_axis_label=x_label, y_axis_label=\"Time (hours)\")\n",
    "\n",
    "    # Outlier range\n",
    "    whisker = Whisker(base=x, upper=\"upper\", lower=\"lower\", source=source)\n",
    "    whisker.upper_head.size = whisker.lower_head.size = 20\n",
    "    p.add_layout(whisker)\n",
    "\n",
    "    # Quantile boxes\n",
    "    cmap = factor_cmap(x, Category10_5, x_unique)\n",
    "    p.vbar(x, 0.7, \"q2\", \"q3\", source=source, color=cmap, line_color=\"black\")\n",
    "    p.vbar(x, 0.7, \"q1\", \"q2\", source=source, color=cmap, line_color=\"black\")\n",
    "\n",
    "    # Outliers\n",
    "    outliers = df[~df.Hours.between(df.lower, df.upper)]\n",
    "    p.scatter(x, \"Hours\", source=outliers, size=6, color=\"black\")\n",
    "\n",
    "    p.xgrid.grid_line_color = None\n",
    "\n",
    "    return p\n",
    "\n",
    "# Create the interation\n",
    "interactive_plot = pn.interact(render_boxplot, x=[\"Breakfast\", \"Tired\"])\n",
    "\n",
    "# Define the layout\n",
    "boxgrid = pn.Row(pn.Column(\"Choose an x-value:\", interactive_plot[0]), interactive_plot[1])\n",
    "\n",
    "# Show the boxplots\n",
    "boxgrid"
   ]
  },
  {
   "cell_type": "markdown",
   "metadata": {},
   "source": [
    "---"
   ]
  },
  {
   "cell_type": "code",
   "execution_count": 23,
   "metadata": {},
   "outputs": [
    {
     "name": "stdout",
     "output_type": "stream",
     "text": [
      "1: p-value for Levene's test Hours, Breakfast (yes) vs Hours, Breakfast (no): \u001b[1m0.3270310216888861\u001b[0m\n",
      "\n",
      "2: p-value for Levene's test Hours vs Tired: \u001b[1m0.02573520664256973\u001b[0m\n",
      "\n",
      "3: p-value for Levene's test Hours, Breakfast (yes) vs Tired, Breakfast (yes): \u001b[1m0.1636109239029688\u001b[0m\n",
      "\n",
      "4: p-value for Levene's test Hours, Breakfast (no) vs Tired, Breakfast (no): \u001b[1m0.20225955211394833\u001b[0m\n"
     ]
    }
   ],
   "source": [
    "\"\"\"\n",
    "Levene's test\n",
    "I choose to perform the test on hours vs breakfast (yes and no) and hours vs tired.\n",
    "Also on hours vs tired with breakfast is yes and on hours vs tired with breakfast is no.\n",
    "The columns are of interest and have a range that can be tested.\n",
    "\"\"\"\n",
    "\n",
    "# Performing Levene's test\n",
    "levene_breakfast = levene(df_sleep.Hours[df_sleep.Breakfast == \"Yes\"],\n",
    "                          df_sleep.Hours[df_sleep.Breakfast == \"No\"])\n",
    "\n",
    "levene_tired = levene(df_sleep.Hours, df_sleep.Tired)\n",
    "\n",
    "levene_tired_yes_b = levene(df_sleep.Hours[df_sleep.Breakfast == \"Yes\"],\n",
    "                            df_sleep.Tired[df_sleep.Breakfast == \"Yes\"])\n",
    "\n",
    "levene_tired_no_b = levene(df_sleep.Hours[df_sleep.Breakfast == \"No\"],\n",
    "                           df_sleep.Tired[df_sleep.Breakfast == \"No\"])\n",
    "\n",
    "print(f\"1: p-value for Levene's test Hours, Breakfast (yes) vs Hours, Breakfast (no): \\033[1m{levene_breakfast[1]}\\033[0m\")\n",
    "print(f\"\\n2: p-value for Levene's test Hours vs Tired: \\033[1m{levene_tired[1]}\\033[0m\")\n",
    "print(f\"\\n3: p-value for Levene's test Hours, Breakfast (yes) vs Tired, Breakfast (yes): \\033[1m{levene_tired_yes_b[1]}\\033[0m\")\n",
    "print(f\"\\n4: p-value for Levene's test Hours, Breakfast (no) vs Tired, Breakfast (no): \\033[1m{levene_tired_no_b[1]}\\033[0m\")"
   ]
  },
  {
   "cell_type": "markdown",
   "metadata": {},
   "source": [
    "*The Levene test tests the null hypothesis that all input samples are from populations with equal variances.*\n",
    "\n",
    "For the first test the p_value (0.3270310216888861) is greater than alpha (0.05). This means that p > 0.05 is thus it failed to reject H0. So the groups are not significantly different from each other and have equal variances.\n",
    "\n",
    "For the second test the p_value (0.02573520664256973) is smaller than alpha (0.05). This means that p < 0.05 is thus it rejects H0. So the groups are significantly different from each other and have no equal variances.\n",
    "\n",
    "For the third test the p_value (0.1636109239029688) is greater than alpha (0.05). This means that p > 0.05 is thus it failed to reject H0. So the groups are not significantly different from each other and have equal variances.\n",
    "\n",
    "For the fourth test the p_value (0.20225955211394833) is greater than alpha (0.05). This means that p > 0.05 is thus it failed to reject H0. So the groups are not significantly different from each other and have equal variances."
   ]
  },
  {
   "cell_type": "markdown",
   "metadata": {},
   "source": [
    "---"
   ]
  },
  {
   "cell_type": "code",
   "execution_count": 24,
   "metadata": {},
   "outputs": [
    {
     "name": "stdout",
     "output_type": "stream",
     "text": [
      "1: p-value for Bartlett's test Hours, Breakfast (yes) vs Hours, Breakfast (no): \u001b[1m0.16396309698862105\u001b[0m\n",
      "\n",
      "2: p-value for Bartlett's test Hours vs Tired: \u001b[1m0.000925972863551918\u001b[0m\n",
      "\n",
      "3: p-value for Bartlett's test Hours, Breakfast (yes) vs Tired, Breakfast (yes): \u001b[1m0.02686034478412691\u001b[0m\n",
      "\n",
      "4: p-value for Bartlett's test Hours, Breakfast (no) vs Tired, Breakfast (no): \u001b[1m0.014682847227819451\u001b[0m\n"
     ]
    }
   ],
   "source": [
    "\"\"\"\n",
    "Bartlett's test\n",
    "I choose to perform the test on hours vs breakfast (yes and no) and hours vs tired.\n",
    "Also on hours vs tired with breakfast is yes and on hours vs tired with breakfast is no.\n",
    "The columns are of interest and have a range that can be tested.\n",
    "\"\"\"\n",
    "\n",
    "# Performing Bartlett's test\n",
    "bartlett_breakfast = bartlett(df_sleep.Hours[df_sleep.Breakfast == \"Yes\"],\n",
    "                              df_sleep.Hours[df_sleep.Breakfast == \"No\"])\n",
    "\n",
    "bartlett_tired = bartlett(df_sleep.Hours, df_sleep.Tired)\n",
    "\n",
    "bartlett_tired_yes_b = bartlett(df_sleep.Hours[df_sleep.Breakfast == \"Yes\"],\n",
    "                                df_sleep.Tired[df_sleep.Breakfast == \"Yes\"])\n",
    "\n",
    "bartlett_tired_no_b = bartlett(df_sleep.Hours[df_sleep.Breakfast == \"No\"],\n",
    "                               df_sleep.Tired[df_sleep.Breakfast == \"No\"])\n",
    "\n",
    "print(f\"1: p-value for Bartlett's test Hours, Breakfast (yes) vs Hours, Breakfast (no): \\033[1m{bartlett_breakfast[1]}\\033[0m\")\n",
    "print(f\"\\n2: p-value for Bartlett's test Hours vs Tired: \\033[1m{bartlett_tired[1]}\\033[0m\")\n",
    "print(f\"\\n3: p-value for Bartlett's test Hours, Breakfast (yes) vs Tired, Breakfast (yes): \\033[1m{bartlett_tired_yes_b[1]}\\033[0m\")\n",
    "print(f\"\\n4: p-value for Bartlett's test Hours, Breakfast (no) vs Tired, Breakfast (no): \\033[1m{bartlett_tired_no_b[1]}\\033[0m\")"
   ]
  },
  {
   "cell_type": "markdown",
   "metadata": {},
   "source": [
    "*Bartlett’s test tests the null hypothesis that all input samples are from populations with equal variances.*\n",
    "\n",
    "For the first test the p_value (0.16396309698862105) is greater than alpha (0.05). This means that p > 0.05 is thus it failed to reject H0. So the groups are not significantly different from each other and have equal variances.\n",
    "\n",
    "For the second test the p_value (0.000925972863551918) is smaller than alpha (0.05). This means that p < 0.05 is thus it rejects H0. So the groups are significantly different from each other and have no equal variances.\n",
    "\n",
    "For the third test the p_value (0.02686034478412691) is smaller than alpha (0.05). This means that p < 0.05 is thus it rejects H0. So the groups are significantly different from each other and have no equal variances.\n",
    "\n",
    "For the fourth test the p_value (0.014682847227819451) is smaller than alpha (0.05). This means that p < 0.05 is thus it rejects H0. So the groups are significantly different from each other and have no equal variances."
   ]
  },
  {
   "cell_type": "markdown",
   "metadata": {},
   "source": [
    "---"
   ]
  },
  {
   "cell_type": "markdown",
   "metadata": {},
   "source": [
    "<a name='3'></a>\n",
    "## Part 4: Prepare your data (10 pt)\n",
    "\n",
    "Create a dataframe with equal samplesize. Make three categories for tireness 1-2 = no, 3 = maybe, 4-5 = yes"
   ]
  },
  {
   "cell_type": "code",
   "execution_count": 25,
   "metadata": {},
   "outputs": [],
   "source": [
    "# Copy the data frame to make a new one\n",
    "df_sleep_new = df_sleep.copy()\n",
    "\n",
    "# Make categories for tireness 1-2 = no, 3 = maybe, 4-5 = yes\n",
    "df_sleep_new.Tired = df_sleep_new.Tired.map({1: \"No\", 2: \"No\", 3: \"Maybe\", 4: \"Yes\", 5: \"Yes\"})"
   ]
  },
  {
   "cell_type": "markdown",
   "metadata": {},
   "source": [
    "---"
   ]
  },
  {
   "cell_type": "markdown",
   "metadata": {},
   "source": [
    "<a name='4'></a>\n",
    "## Part 5: Answer the research questions (20 pt)\n",
    "\n",
    "<details>    \n",
    "<summary>\n",
    "    <font size=\"3\" color=\"darkgreen\"><b>Hints</b></font>\n",
    "</summary>\n",
    "    <ul><li>use one-way ANOVA for research question 1</li>\n",
    "    <li>Use two-way ANOVA for research question 2</li>\n",
    "    <li>https://reneshbedre.github.io/blog/anova.html</li>\n",
    "</ul>\n",
    "</details>"
   ]
  },
  {
   "cell_type": "code",
   "execution_count": 26,
   "metadata": {},
   "outputs": [
    {
     "name": "stdout",
     "output_type": "stream",
     "text": [
      "The p-value for research question 1 performed with the one-way ANOVA is: 0.022483055685484282\n",
      "\n",
      "Two-way ANOVA for research question 2 is:\n",
      "                           sum_sq    df         F    PR(>F)\n",
      "C(Breakfast)             6.678790   1.0  3.500622  0.064524\n",
      "C(Tired)                13.000900   4.0  1.703574  0.155917\n",
      "C(Breakfast):C(Tired)    4.112491   4.0  0.538881  0.707524\n",
      "Residual               175.525553  92.0       NaN       NaN\n",
      "\n"
     ]
    }
   ],
   "source": [
    "# Perform one-way ANOVA for research question 1\n",
    "one_way = f_oneway(df_sleep_new.Hours[df_sleep_new.Breakfast == \"Yes\"],\n",
    "                   df_sleep_new.Hours[df_sleep_new.Breakfast == \"No\"]) \n",
    "print(f\"The p-value for research question 1 performed with the one-way ANOVA is: {one_way[1]}\")\n",
    "\n",
    "# Perform two-way ANOVA for research question 2\n",
    "formula = 'Hours ~ C(Breakfast) + C(Tired) + C(Breakfast):C(Tired)'\n",
    "model = ols(formula, data=df_sleep).fit()\n",
    "two_way = sm.stats.anova_lm(model, typ=2)\n",
    "\n",
    "print(f\"\\nTwo-way ANOVA for research question 2 is:\\n{two_way}\\n\")"
   ]
  },
  {
   "cell_type": "markdown",
   "metadata": {},
   "source": [
    "*1: Is there a differences in Hours sleep caused by having breakfast (yes, no)?*  \n",
    "**H0:** There is no difference in hours of sleep caused by having breakfast.  \n",
    "**H1:** There is a difference in hours of sleep caused by having breakfast.\n",
    "\n",
    "The p-value for this research question is 0.022483055685484282, which is smaller than the alpha (0.05) and thus p < 0.05.  \n",
    "It rejects the H0, so it accepts H1 and thus there is a difference in hours of sleep caused by having breakfast.\n",
    "\n",
    "---\n",
    "\n",
    "*2: Is there a differences in Hours sleep caused by having breakfast and the tireness (score)*  \n",
    "**H0:** There is no difference in hours of sleep caused by having breakfast and the tiredness score.  \n",
    "**H1:** There is a difference in hours of sleep caused by having breakfast and the tiredness score. \n",
    "\n",
    "The p-values for this research question are all greater than the alpha (0.05), p > 0.05.  \n",
    "So it failed to reject the H0, so it accepts H0 and thus there is no difference in hours of sleep caused by having breakfast and the tiredness score."
   ]
  },
  {
   "cell_type": "markdown",
   "metadata": {},
   "source": [
    "---"
   ]
  },
  {
   "cell_type": "markdown",
   "metadata": {},
   "source": [
    "<a name='5'></a>\n",
    "## Part 6: Enhanced plotting (20 pt)\n",
    "\n",
    "Create a panel with 1) your dataframe with equal samplesize 2) a picture of a sleeping beauty, 3) the scatter plot of tired / hours of sleep with different colors for Breakfast from part 2 4) the boxplots given the p-value for the anova outcome in the title"
   ]
  },
  {
   "cell_type": "code",
   "execution_count": 27,
   "metadata": {},
   "outputs": [],
   "source": [
    "# I didn't do this for now but I will still try do it, to learn how to build a panel."
   ]
  }
 ],
 "metadata": {
  "kernelspec": {
   "display_name": "Python 3 (ipykernel)",
   "language": "python",
   "name": "python3"
  },
  "language_info": {
   "codemirror_mode": {
    "name": "ipython",
    "version": 3
   },
   "file_extension": ".py",
   "mimetype": "text/x-python",
   "name": "python",
   "nbconvert_exporter": "python",
   "pygments_lexer": "ipython3",
   "version": "3.9.12"
  },
  "vscode": {
   "interpreter": {
    "hash": "aee8b7b246df8f9039afb4144a1f6fd8d2ca17a180786b69acc140d282b71a49"
   }
  }
 },
 "nbformat": 4,
 "nbformat_minor": 4
}
